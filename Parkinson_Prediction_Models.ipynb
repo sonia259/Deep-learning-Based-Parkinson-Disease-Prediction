{
 "cells": [
  {
   "cell_type": "code",
   "execution_count": 1,
   "metadata": {
    "_cell_guid": "b1076dfc-b9ad-4769-8c92-a6c4dae69d19",
    "_uuid": "8f2839f25d086af736a60e9eeb907d3b93b6e0e5",
    "execution": {
     "iopub.execute_input": "2022-02-03T17:37:24.029270Z",
     "iopub.status.busy": "2022-02-03T17:37:24.028636Z",
     "iopub.status.idle": "2022-02-03T17:37:24.277827Z",
     "shell.execute_reply": "2022-02-03T17:37:24.277022Z",
     "shell.execute_reply.started": "2022-02-03T17:37:24.029165Z"
    }
   },
   "outputs": [
    {
     "name": "stdout",
     "output_type": "stream",
     "text": [
      "/kaggle/input/parkinsons-brain-mri-dataset/parkinsons_dataset/normal/mIP_Images(SW)_027.png\n",
      "/kaggle/input/parkinsons-brain-mri-dataset/parkinsons_dataset/normal/Pha_Images_059.png\n",
      "/kaggle/input/parkinsons-brain-mri-dataset/parkinsons_dataset/normal/t1_fl3d_sag_p4_iso_1.0_002.png\n",
      "/kaggle/input/parkinsons-brain-mri-dataset/parkinsons_dataset/normal/ep2d_diff_3scan_trace_p2_TRACEW_DFC_010.png\n",
      "/kaggle/input/parkinsons-brain-mri-dataset/parkinsons_dataset/normal/t2_tirm_tra_dark-fluid_007.png\n",
      "/kaggle/input/parkinsons-brain-mri-dataset/parkinsons_dataset/normal/SWI_Images_064.png\n",
      "/kaggle/input/parkinsons-brain-mri-dataset/parkinsons_dataset/normal/t1_fl3d_sag_p4_iso_1.0_135.png\n",
      "/kaggle/input/parkinsons-brain-mri-dataset/parkinsons_dataset/normal/t2_tse_tra_030.png\n",
      "/kaggle/input/parkinsons-brain-mri-dataset/parkinsons_dataset/normal/Mag_Images_003.png\n",
      "/kaggle/input/parkinsons-brain-mri-dataset/parkinsons_dataset/normal/t2_tirm_tra_dark-fluid_027.png\n",
      "/kaggle/input/parkinsons-brain-mri-dataset/parkinsons_dataset/normal/Mag_Images_038.png\n",
      "/kaggle/input/parkinsons-brain-mri-dataset/parkinsons_dataset/normal/Mag_Images_061.png\n",
      "/kaggle/input/parkinsons-brain-mri-dataset/parkinsons_dataset/normal/Mag_Images_006.png\n",
      "/kaggle/input/parkinsons-brain-mri-dataset/parkinsons_dataset/normal/Mag_Images_025.png\n",
      "/kaggle/input/parkinsons-brain-mri-dataset/parkinsons_dataset/normal/Mag_Images_027.png\n",
      "/kaggle/input/parkinsons-brain-mri-dataset/parkinsons_dataset/normal/mIP_Images(SW)_029.png\n",
      "/kaggle/input/parkinsons-brain-mri-dataset/parkinsons_dataset/normal/t1_fl3d_sag_p4_iso_1.0_142.png\n",
      "/kaggle/input/parkinsons-brain-mri-dataset/parkinsons_dataset/normal/Pha_Images_036.png\n",
      "/kaggle/input/parkinsons-brain-mri-dataset/parkinsons_dataset/normal/t1_fl3d_sag_p4_iso_1.0_101.png\n",
      "/kaggle/input/parkinsons-brain-mri-dataset/parkinsons_dataset/normal/SWI_Images_053.png\n",
      "/kaggle/input/parkinsons-brain-mri-dataset/parkinsons_dataset/normal/t1_fl3d_sag_p4_iso_1.0_109.png\n",
      "/kaggle/input/parkinsons-brain-mri-dataset/parkinsons_dataset/normal/Pha_Images_022.png\n",
      "/kaggle/input/parkinsons-brain-mri-dataset/parkinsons_dataset/normal/SWI_Images_069.png\n",
      "/kaggle/input/parkinsons-brain-mri-dataset/parkinsons_dataset/normal/mIP_Images(SW)_007.png\n",
      "/kaggle/input/parkinsons-brain-mri-dataset/parkinsons_dataset/normal/t1_fl3d_sag_p4_iso_1.0_105.png\n",
      "/kaggle/input/parkinsons-brain-mri-dataset/parkinsons_dataset/normal/ep2d_diff_3scan_trace_p2_ADC_DFC_015.png\n",
      "/kaggle/input/parkinsons-brain-mri-dataset/parkinsons_dataset/normal/SWI_Images_028.png\n",
      "/kaggle/input/parkinsons-brain-mri-dataset/parkinsons_dataset/normal/t2_tirm_tra_dark-fluid_001.png\n",
      "/kaggle/input/parkinsons-brain-mri-dataset/parkinsons_dataset/normal/t1_fl3d_sag_p4_iso_1.0_081.png\n",
      "/kaggle/input/parkinsons-brain-mri-dataset/parkinsons_dataset/normal/t1_fl3d_sag_p4_iso_1.0_154.png\n",
      "/kaggle/input/parkinsons-brain-mri-dataset/parkinsons_dataset/normal/ep2d_diff_3scan_trace_p2_ADC_DFC_025.png\n",
      "/kaggle/input/parkinsons-brain-mri-dataset/parkinsons_dataset/normal/t2_tirm_tra_dark-fluid_014.png\n",
      "/kaggle/input/parkinsons-brain-mri-dataset/parkinsons_dataset/normal/ep2d_diff_3scan_trace_p2_TRACEW_DFC_001.png\n",
      "/kaggle/input/parkinsons-brain-mri-dataset/parkinsons_dataset/normal/t1_fl3d_sag_p4_iso_1.0_067.png\n",
      "/kaggle/input/parkinsons-brain-mri-dataset/parkinsons_dataset/normal/t1_fl3d_sag_p4_iso_1.0_087.png\n",
      "/kaggle/input/parkinsons-brain-mri-dataset/parkinsons_dataset/normal/ep2d_diff_3scan_trace_p2_TRACEW_DFC_002.png\n",
      "/kaggle/input/parkinsons-brain-mri-dataset/parkinsons_dataset/normal/t2_tirm_tra_dark-fluid_022.png\n",
      "/kaggle/input/parkinsons-brain-mri-dataset/parkinsons_dataset/normal/Mag_Images_059.png\n",
      "/kaggle/input/parkinsons-brain-mri-dataset/parkinsons_dataset/normal/Mag_Images_029.png\n",
      "/kaggle/input/parkinsons-brain-mri-dataset/parkinsons_dataset/normal/t1_fl3d_sag_p4_iso_1.0_025.png\n",
      "/kaggle/input/parkinsons-brain-mri-dataset/parkinsons_dataset/normal/SWI_Images_025.png\n",
      "/kaggle/input/parkinsons-brain-mri-dataset/parkinsons_dataset/normal/SWI_Images_030.png\n",
      "/kaggle/input/parkinsons-brain-mri-dataset/parkinsons_dataset/normal/mIP_Images(SW)_030.png\n",
      "/kaggle/input/parkinsons-brain-mri-dataset/parkinsons_dataset/normal/Pha_Images_013.png\n",
      "/kaggle/input/parkinsons-brain-mri-dataset/parkinsons_dataset/normal/mIP_Images(SW)_064.png\n",
      "/kaggle/input/parkinsons-brain-mri-dataset/parkinsons_dataset/normal/t1_fl3d_sag_p4_iso_1.0_046.png\n",
      "/kaggle/input/parkinsons-brain-mri-dataset/parkinsons_dataset/normal/t1_fl3d_sag_p4_iso_1.0_012.png\n",
      "/kaggle/input/parkinsons-brain-mri-dataset/parkinsons_dataset/normal/Pha_Images_068.png\n",
      "/kaggle/input/parkinsons-brain-mri-dataset/parkinsons_dataset/normal/t1_fl3d_sag_p4_iso_1.0_139.png\n",
      "/kaggle/input/parkinsons-brain-mri-dataset/parkinsons_dataset/normal/t1_fl3d_sag_p4_iso_1.0_058.png\n",
      "/kaggle/input/parkinsons-brain-mri-dataset/parkinsons_dataset/normal/Mag_Images_010.png\n",
      "/kaggle/input/parkinsons-brain-mri-dataset/parkinsons_dataset/normal/t2_tse_tra_025.png\n",
      "/kaggle/input/parkinsons-brain-mri-dataset/parkinsons_dataset/normal/ep2d_diff_3scan_trace_p2_TRACEW_DFC_031.png\n",
      "/kaggle/input/parkinsons-brain-mri-dataset/parkinsons_dataset/normal/t1_fl3d_sag_p4_iso_1.0_090.png\n",
      "/kaggle/input/parkinsons-brain-mri-dataset/parkinsons_dataset/normal/t1_fl3d_sag_p4_iso_1.0_123.png\n",
      "/kaggle/input/parkinsons-brain-mri-dataset/parkinsons_dataset/normal/t1_fl3d_sag_p4_iso_1.0_104.png\n",
      "/kaggle/input/parkinsons-brain-mri-dataset/parkinsons_dataset/normal/t1_fl3d_sag_p4_iso_1.0_074.png\n",
      "/kaggle/input/parkinsons-brain-mri-dataset/parkinsons_dataset/normal/Pha_Images_071.png\n",
      "/kaggle/input/parkinsons-brain-mri-dataset/parkinsons_dataset/normal/Pha_Images_024.png\n",
      "/kaggle/input/parkinsons-brain-mri-dataset/parkinsons_dataset/normal/Mag_Images_001.png\n",
      "/kaggle/input/parkinsons-brain-mri-dataset/parkinsons_dataset/normal/t1_fl3d_sag_p4_iso_1.0_158.png\n",
      "/kaggle/input/parkinsons-brain-mri-dataset/parkinsons_dataset/normal/Pha_Images_017.png\n",
      "/kaggle/input/parkinsons-brain-mri-dataset/parkinsons_dataset/normal/t2_tse_tra_016.png\n",
      "/kaggle/input/parkinsons-brain-mri-dataset/parkinsons_dataset/normal/mIP_Images(SW)_017.png\n",
      "/kaggle/input/parkinsons-brain-mri-dataset/parkinsons_dataset/normal/Mag_Images_070.png\n",
      "/kaggle/input/parkinsons-brain-mri-dataset/parkinsons_dataset/normal/t1_fl3d_sag_p4_iso_1.0_051.png\n",
      "/kaggle/input/parkinsons-brain-mri-dataset/parkinsons_dataset/normal/SWI_Images_051.png\n",
      "/kaggle/input/parkinsons-brain-mri-dataset/parkinsons_dataset/normal/t1_fl3d_sag_p4_iso_1.0_076.png\n",
      "/kaggle/input/parkinsons-brain-mri-dataset/parkinsons_dataset/normal/mIP_Images(SW)_021.png\n",
      "/kaggle/input/parkinsons-brain-mri-dataset/parkinsons_dataset/normal/t2_tirm_tra_dark-fluid_009.png\n",
      "/kaggle/input/parkinsons-brain-mri-dataset/parkinsons_dataset/normal/Mag_Images_007.png\n",
      "/kaggle/input/parkinsons-brain-mri-dataset/parkinsons_dataset/normal/t1_fl3d_sag_p4_iso_1.0_169.png\n",
      "/kaggle/input/parkinsons-brain-mri-dataset/parkinsons_dataset/normal/t1_fl3d_sag_p4_iso_1.0_122.png\n",
      "/kaggle/input/parkinsons-brain-mri-dataset/parkinsons_dataset/normal/SWI_Images_021.png\n",
      "/kaggle/input/parkinsons-brain-mri-dataset/parkinsons_dataset/normal/ep2d_diff_3scan_trace_p2_TRACEW_DFC_015.png\n",
      "/kaggle/input/parkinsons-brain-mri-dataset/parkinsons_dataset/normal/mIP_Images(SW)_022.png\n",
      "/kaggle/input/parkinsons-brain-mri-dataset/parkinsons_dataset/normal/Pha_Images_021.png\n",
      "/kaggle/input/parkinsons-brain-mri-dataset/parkinsons_dataset/normal/Mag_Images_035.png\n",
      "/kaggle/input/parkinsons-brain-mri-dataset/parkinsons_dataset/normal/SWI_Images_071.png\n",
      "/kaggle/input/parkinsons-brain-mri-dataset/parkinsons_dataset/normal/t2_tirm_tra_dark-fluid_024.png\n",
      "/kaggle/input/parkinsons-brain-mri-dataset/parkinsons_dataset/normal/Pha_Images_045.png\n",
      "/kaggle/input/parkinsons-brain-mri-dataset/parkinsons_dataset/normal/t1_fl3d_sag_p4_iso_1.0_164.png\n",
      "/kaggle/input/parkinsons-brain-mri-dataset/parkinsons_dataset/normal/Pha_Images_038.png\n",
      "/kaggle/input/parkinsons-brain-mri-dataset/parkinsons_dataset/normal/t2_tse_tra_002.png\n",
      "/kaggle/input/parkinsons-brain-mri-dataset/parkinsons_dataset/normal/Mag_Images_012.png\n",
      "/kaggle/input/parkinsons-brain-mri-dataset/parkinsons_dataset/normal/t2_tirm_tra_dark-fluid_028.png\n",
      "/kaggle/input/parkinsons-brain-mri-dataset/parkinsons_dataset/normal/t2_tirm_tra_dark-fluid_013.png\n",
      "/kaggle/input/parkinsons-brain-mri-dataset/parkinsons_dataset/normal/t1_fl3d_sag_p4_iso_1.0_082.png\n",
      "/kaggle/input/parkinsons-brain-mri-dataset/parkinsons_dataset/normal/t1_fl3d_sag_p4_iso_1.0_086.png\n",
      "/kaggle/input/parkinsons-brain-mri-dataset/parkinsons_dataset/normal/t2_tirm_tra_dark-fluid_019.png\n",
      "/kaggle/input/parkinsons-brain-mri-dataset/parkinsons_dataset/normal/mIP_Images(SW)_053.png\n",
      "/kaggle/input/parkinsons-brain-mri-dataset/parkinsons_dataset/normal/t1_fl3d_sag_p4_iso_1.0_106.png\n",
      "/kaggle/input/parkinsons-brain-mri-dataset/parkinsons_dataset/normal/Pha_Images_052.png\n",
      "/kaggle/input/parkinsons-brain-mri-dataset/parkinsons_dataset/normal/mIP_Images(SW)_044.png\n",
      "/kaggle/input/parkinsons-brain-mri-dataset/parkinsons_dataset/normal/ep2d_diff_3scan_trace_p2_TRACEW_DFC_039.png\n",
      "/kaggle/input/parkinsons-brain-mri-dataset/parkinsons_dataset/normal/t1_fl3d_sag_p4_iso_1.0_023.png\n",
      "/kaggle/input/parkinsons-brain-mri-dataset/parkinsons_dataset/normal/mIP_Images(SW)_041.png\n",
      "/kaggle/input/parkinsons-brain-mri-dataset/parkinsons_dataset/normal/t1_fl3d_sag_p4_iso_1.0_084.png\n",
      "/kaggle/input/parkinsons-brain-mri-dataset/parkinsons_dataset/normal/ep2d_diff_3scan_trace_p2_TRACEW_DFC_003.png\n",
      "/kaggle/input/parkinsons-brain-mri-dataset/parkinsons_dataset/normal/ep2d_diff_3scan_trace_p2_TRACEW_DFC_059.png\n",
      "/kaggle/input/parkinsons-brain-mri-dataset/parkinsons_dataset/normal/localizer_003.png\n",
      "/kaggle/input/parkinsons-brain-mri-dataset/parkinsons_dataset/normal/t1_fl3d_sag_p4_iso_1.0_089.png\n",
      "/kaggle/input/parkinsons-brain-mri-dataset/parkinsons_dataset/normal/mIP_Images(SW)_062.png\n",
      "/kaggle/input/parkinsons-brain-mri-dataset/parkinsons_dataset/normal/t1_fl3d_sag_p4_iso_1.0_063.png\n",
      "/kaggle/input/parkinsons-brain-mri-dataset/parkinsons_dataset/normal/t1_fl3d_sag_p4_iso_1.0_073.png\n",
      "/kaggle/input/parkinsons-brain-mri-dataset/parkinsons_dataset/normal/t1_fl3d_sag_p4_iso_1.0_113.png\n",
      "/kaggle/input/parkinsons-brain-mri-dataset/parkinsons_dataset/normal/t2_tirm_tra_dark-fluid_018.png\n",
      "/kaggle/input/parkinsons-brain-mri-dataset/parkinsons_dataset/normal/SWI_Images_070.png\n",
      "/kaggle/input/parkinsons-brain-mri-dataset/parkinsons_dataset/normal/t2_tirm_tra_dark-fluid_005.png\n",
      "/kaggle/input/parkinsons-brain-mri-dataset/parkinsons_dataset/normal/t1_fl3d_sag_p4_iso_1.0_033.png\n",
      "/kaggle/input/parkinsons-brain-mri-dataset/parkinsons_dataset/normal/t1_fl3d_sag_p4_iso_1.0_060.png\n",
      "/kaggle/input/parkinsons-brain-mri-dataset/parkinsons_dataset/normal/t1_fl3d_sag_p4_iso_1.0_013.png\n",
      "/kaggle/input/parkinsons-brain-mri-dataset/parkinsons_dataset/normal/t1_fl3d_sag_p4_iso_1.0_140.png\n",
      "/kaggle/input/parkinsons-brain-mri-dataset/parkinsons_dataset/normal/ep2d_diff_3scan_trace_p2_TRACEW_DFC_026.png\n",
      "/kaggle/input/parkinsons-brain-mri-dataset/parkinsons_dataset/normal/t1_fl3d_sag_p4_iso_1.0_032.png\n",
      "/kaggle/input/parkinsons-brain-mri-dataset/parkinsons_dataset/normal/t1_fl3d_sag_p4_iso_1.0_114.png\n",
      "/kaggle/input/parkinsons-brain-mri-dataset/parkinsons_dataset/normal/Mag_Images_018.png\n",
      "/kaggle/input/parkinsons-brain-mri-dataset/parkinsons_dataset/normal/SWI_Images_045.png\n",
      "/kaggle/input/parkinsons-brain-mri-dataset/parkinsons_dataset/normal/SWI_Images_058.png\n",
      "/kaggle/input/parkinsons-brain-mri-dataset/parkinsons_dataset/normal/Mag_Images_069.png\n",
      "/kaggle/input/parkinsons-brain-mri-dataset/parkinsons_dataset/normal/t1_fl3d_sag_p4_iso_1.0_036.png\n",
      "/kaggle/input/parkinsons-brain-mri-dataset/parkinsons_dataset/normal/SWI_Images_005.png\n",
      "/kaggle/input/parkinsons-brain-mri-dataset/parkinsons_dataset/normal/Pha_Images_023.png\n",
      "/kaggle/input/parkinsons-brain-mri-dataset/parkinsons_dataset/normal/t1_fl3d_sag_p4_iso_1.0_163.png\n",
      "/kaggle/input/parkinsons-brain-mri-dataset/parkinsons_dataset/normal/ep2d_diff_3scan_trace_p2_TRACEW_DFC_044.png\n",
      "/kaggle/input/parkinsons-brain-mri-dataset/parkinsons_dataset/normal/mIP_Images(SW)_013.png\n",
      "/kaggle/input/parkinsons-brain-mri-dataset/parkinsons_dataset/normal/ep2d_diff_3scan_trace_p2_TRACEW_DFC_004.png\n",
      "/kaggle/input/parkinsons-brain-mri-dataset/parkinsons_dataset/normal/t1_fl3d_sag_p4_iso_1.0_097.png\n",
      "/kaggle/input/parkinsons-brain-mri-dataset/parkinsons_dataset/normal/mIP_Images(SW)_012.png\n",
      "/kaggle/input/parkinsons-brain-mri-dataset/parkinsons_dataset/normal/t1_fl3d_sag_p4_iso_1.0_151.png\n",
      "/kaggle/input/parkinsons-brain-mri-dataset/parkinsons_dataset/normal/t1_fl3d_sag_p4_iso_1.0_110.png\n",
      "/kaggle/input/parkinsons-brain-mri-dataset/parkinsons_dataset/normal/t1_fl3d_sag_p4_iso_1.0_167.png\n",
      "/kaggle/input/parkinsons-brain-mri-dataset/parkinsons_dataset/normal/t1_fl3d_sag_p4_iso_1.0_077.png\n",
      "/kaggle/input/parkinsons-brain-mri-dataset/parkinsons_dataset/normal/Mag_Images_068.png\n",
      "/kaggle/input/parkinsons-brain-mri-dataset/parkinsons_dataset/normal/t1_fl3d_sag_p4_iso_1.0_099.png\n",
      "/kaggle/input/parkinsons-brain-mri-dataset/parkinsons_dataset/normal/SWI_Images_041.png\n",
      "/kaggle/input/parkinsons-brain-mri-dataset/parkinsons_dataset/normal/ep2d_diff_3scan_trace_p2_ADC_DFC_024.png\n",
      "/kaggle/input/parkinsons-brain-mri-dataset/parkinsons_dataset/normal/Mag_Images_054.png\n",
      "/kaggle/input/parkinsons-brain-mri-dataset/parkinsons_dataset/normal/localizer_002.png\n",
      "/kaggle/input/parkinsons-brain-mri-dataset/parkinsons_dataset/normal/mIP_Images(SW)_038.png\n",
      "/kaggle/input/parkinsons-brain-mri-dataset/parkinsons_dataset/normal/Mag_Images_032.png\n",
      "/kaggle/input/parkinsons-brain-mri-dataset/parkinsons_dataset/normal/SWI_Images_063.png\n",
      "/kaggle/input/parkinsons-brain-mri-dataset/parkinsons_dataset/normal/ep2d_diff_3scan_trace_p2_TRACEW_DFC_008.png\n",
      "/kaggle/input/parkinsons-brain-mri-dataset/parkinsons_dataset/normal/SWI_Images_008.png\n",
      "/kaggle/input/parkinsons-brain-mri-dataset/parkinsons_dataset/normal/ep2d_diff_3scan_trace_p2_TRACEW_DFC_053.png\n",
      "/kaggle/input/parkinsons-brain-mri-dataset/parkinsons_dataset/normal/mIP_Images(SW)_002.png\n",
      "/kaggle/input/parkinsons-brain-mri-dataset/parkinsons_dataset/normal/Mag_Images_014.png\n",
      "/kaggle/input/parkinsons-brain-mri-dataset/parkinsons_dataset/normal/mIP_Images(SW)_032.png\n",
      "/kaggle/input/parkinsons-brain-mri-dataset/parkinsons_dataset/normal/t1_fl3d_sag_p4_iso_1.0_007.png\n",
      "/kaggle/input/parkinsons-brain-mri-dataset/parkinsons_dataset/normal/ep2d_diff_3scan_trace_p2_TRACEW_DFC_032.png\n",
      "/kaggle/input/parkinsons-brain-mri-dataset/parkinsons_dataset/normal/Pha_Images_072.png\n",
      "/kaggle/input/parkinsons-brain-mri-dataset/parkinsons_dataset/normal/SWI_Images_061.png\n",
      "/kaggle/input/parkinsons-brain-mri-dataset/parkinsons_dataset/normal/SWI_Images_015.png\n",
      "/kaggle/input/parkinsons-brain-mri-dataset/parkinsons_dataset/normal/ep2d_diff_3scan_trace_p2_ADC_DFC_005.png\n",
      "/kaggle/input/parkinsons-brain-mri-dataset/parkinsons_dataset/normal/ep2d_diff_3scan_trace_p2_ADC_DFC_020.png\n",
      "/kaggle/input/parkinsons-brain-mri-dataset/parkinsons_dataset/normal/Pha_Images_042.png\n",
      "/kaggle/input/parkinsons-brain-mri-dataset/parkinsons_dataset/normal/t1_fl3d_sag_p4_iso_1.0_055.png\n",
      "/kaggle/input/parkinsons-brain-mri-dataset/parkinsons_dataset/normal/Pha_Images_029.png\n",
      "/kaggle/input/parkinsons-brain-mri-dataset/parkinsons_dataset/normal/t1_fl3d_sag_p4_iso_1.0_108.png\n",
      "/kaggle/input/parkinsons-brain-mri-dataset/parkinsons_dataset/normal/Pha_Images_025.png\n",
      "/kaggle/input/parkinsons-brain-mri-dataset/parkinsons_dataset/normal/Mag_Images_034.png\n",
      "/kaggle/input/parkinsons-brain-mri-dataset/parkinsons_dataset/normal/Mag_Images_046.png\n",
      "/kaggle/input/parkinsons-brain-mri-dataset/parkinsons_dataset/normal/t1_fl3d_sag_p4_iso_1.0_041.png\n",
      "/kaggle/input/parkinsons-brain-mri-dataset/parkinsons_dataset/normal/t1_fl3d_sag_p4_iso_1.0_128.png\n",
      "/kaggle/input/parkinsons-brain-mri-dataset/parkinsons_dataset/normal/SWI_Images_059.png\n",
      "/kaggle/input/parkinsons-brain-mri-dataset/parkinsons_dataset/normal/mIP_Images(SW)_057.png\n",
      "/kaggle/input/parkinsons-brain-mri-dataset/parkinsons_dataset/normal/t1_fl3d_sag_p4_iso_1.0_011.png\n",
      "/kaggle/input/parkinsons-brain-mri-dataset/parkinsons_dataset/normal/t1_fl3d_sag_p4_iso_1.0_085.png\n",
      "/kaggle/input/parkinsons-brain-mri-dataset/parkinsons_dataset/normal/t2_tirm_tra_dark-fluid_017.png\n",
      "/kaggle/input/parkinsons-brain-mri-dataset/parkinsons_dataset/normal/ep2d_diff_3scan_trace_p2_TRACEW_DFC_051.png\n",
      "/kaggle/input/parkinsons-brain-mri-dataset/parkinsons_dataset/normal/ep2d_diff_3scan_trace_p2_TRACEW_DFC_011.png\n",
      "/kaggle/input/parkinsons-brain-mri-dataset/parkinsons_dataset/normal/mIP_Images(SW)_008.png\n",
      "/kaggle/input/parkinsons-brain-mri-dataset/parkinsons_dataset/normal/Mag_Images_045.png\n",
      "/kaggle/input/parkinsons-brain-mri-dataset/parkinsons_dataset/normal/Pha_Images_051.png\n",
      "/kaggle/input/parkinsons-brain-mri-dataset/parkinsons_dataset/normal/ep2d_diff_3scan_trace_p2_ADC_DFC_026.png\n",
      "/kaggle/input/parkinsons-brain-mri-dataset/parkinsons_dataset/normal/Pha_Images_005.png\n",
      "/kaggle/input/parkinsons-brain-mri-dataset/parkinsons_dataset/normal/t1_fl3d_sag_p4_iso_1.0_176.png\n",
      "/kaggle/input/parkinsons-brain-mri-dataset/parkinsons_dataset/normal/Mag_Images_064.png\n",
      "/kaggle/input/parkinsons-brain-mri-dataset/parkinsons_dataset/normal/SWI_Images_039.png\n",
      "/kaggle/input/parkinsons-brain-mri-dataset/parkinsons_dataset/normal/t2_tse_tra_012.png\n",
      "/kaggle/input/parkinsons-brain-mri-dataset/parkinsons_dataset/normal/t1_fl3d_sag_p4_iso_1.0_170.png\n",
      "/kaggle/input/parkinsons-brain-mri-dataset/parkinsons_dataset/normal/Mag_Images_057.png\n",
      "/kaggle/input/parkinsons-brain-mri-dataset/parkinsons_dataset/normal/t2_tse_tra_028.png\n",
      "/kaggle/input/parkinsons-brain-mri-dataset/parkinsons_dataset/normal/t1_fl3d_sag_p4_iso_1.0_029.png\n",
      "/kaggle/input/parkinsons-brain-mri-dataset/parkinsons_dataset/normal/t1_fl3d_sag_p4_iso_1.0_078.png\n",
      "/kaggle/input/parkinsons-brain-mri-dataset/parkinsons_dataset/normal/Pha_Images_044.png\n",
      "/kaggle/input/parkinsons-brain-mri-dataset/parkinsons_dataset/normal/t1_fl3d_sag_p4_iso_1.0_068.png\n",
      "/kaggle/input/parkinsons-brain-mri-dataset/parkinsons_dataset/normal/ep2d_diff_3scan_trace_p2_TRACEW_DFC_052.png\n",
      "/kaggle/input/parkinsons-brain-mri-dataset/parkinsons_dataset/normal/ep2d_diff_3scan_trace_p2_ADC_DFC_009.png\n",
      "/kaggle/input/parkinsons-brain-mri-dataset/parkinsons_dataset/normal/t1_fl3d_sag_p4_iso_1.0_136.png\n",
      "/kaggle/input/parkinsons-brain-mri-dataset/parkinsons_dataset/normal/SWI_Images_006.png\n",
      "/kaggle/input/parkinsons-brain-mri-dataset/parkinsons_dataset/normal/Mag_Images_020.png\n",
      "/kaggle/input/parkinsons-brain-mri-dataset/parkinsons_dataset/normal/ep2d_diff_3scan_trace_p2_TRACEW_DFC_028.png\n",
      "/kaggle/input/parkinsons-brain-mri-dataset/parkinsons_dataset/normal/mIP_Images(SW)_016.png\n",
      "/kaggle/input/parkinsons-brain-mri-dataset/parkinsons_dataset/normal/SWI_Images_040.png\n",
      "/kaggle/input/parkinsons-brain-mri-dataset/parkinsons_dataset/normal/t2_tse_tra_006.png\n",
      "/kaggle/input/parkinsons-brain-mri-dataset/parkinsons_dataset/normal/t1_fl3d_sag_p4_iso_1.0_134.png\n",
      "/kaggle/input/parkinsons-brain-mri-dataset/parkinsons_dataset/normal/mIP_Images(SW)_058.png\n",
      "/kaggle/input/parkinsons-brain-mri-dataset/parkinsons_dataset/normal/ep2d_diff_3scan_trace_p2_TRACEW_DFC_025.png\n",
      "/kaggle/input/parkinsons-brain-mri-dataset/parkinsons_dataset/normal/Pha_Images_062.png\n",
      "/kaggle/input/parkinsons-brain-mri-dataset/parkinsons_dataset/normal/Pha_Images_033.png\n",
      "/kaggle/input/parkinsons-brain-mri-dataset/parkinsons_dataset/normal/SWI_Images_067.png\n",
      "/kaggle/input/parkinsons-brain-mri-dataset/parkinsons_dataset/normal/Mag_Images_036.png\n",
      "/kaggle/input/parkinsons-brain-mri-dataset/parkinsons_dataset/normal/mIP_Images(SW)_036.png\n",
      "/kaggle/input/parkinsons-brain-mri-dataset/parkinsons_dataset/normal/Mag_Images_040.png\n",
      "/kaggle/input/parkinsons-brain-mri-dataset/parkinsons_dataset/normal/ep2d_diff_3scan_trace_p2_ADC_DFC_018.png\n",
      "/kaggle/input/parkinsons-brain-mri-dataset/parkinsons_dataset/normal/t1_fl3d_sag_p4_iso_1.0_129.png\n",
      "/kaggle/input/parkinsons-brain-mri-dataset/parkinsons_dataset/normal/t1_fl3d_sag_p4_iso_1.0_156.png\n",
      "/kaggle/input/parkinsons-brain-mri-dataset/parkinsons_dataset/normal/SWI_Images_002.png\n",
      "/kaggle/input/parkinsons-brain-mri-dataset/parkinsons_dataset/normal/Mag_Images_043.png\n",
      "/kaggle/input/parkinsons-brain-mri-dataset/parkinsons_dataset/normal/t1_fl3d_sag_p4_iso_1.0_132.png\n",
      "/kaggle/input/parkinsons-brain-mri-dataset/parkinsons_dataset/normal/t1_fl3d_sag_p4_iso_1.0_137.png\n",
      "/kaggle/input/parkinsons-brain-mri-dataset/parkinsons_dataset/normal/SWI_Images_023.png\n",
      "/kaggle/input/parkinsons-brain-mri-dataset/parkinsons_dataset/normal/mIP_Images(SW)_006.png\n",
      "/kaggle/input/parkinsons-brain-mri-dataset/parkinsons_dataset/normal/Pha_Images_050.png\n",
      "/kaggle/input/parkinsons-brain-mri-dataset/parkinsons_dataset/normal/Mag_Images_050.png\n",
      "/kaggle/input/parkinsons-brain-mri-dataset/parkinsons_dataset/normal/t1_fl3d_sag_p4_iso_1.0_172.png\n",
      "/kaggle/input/parkinsons-brain-mri-dataset/parkinsons_dataset/normal/t1_fl3d_sag_p4_iso_1.0_010.png\n",
      "/kaggle/input/parkinsons-brain-mri-dataset/parkinsons_dataset/normal/mIP_Images(SW)_034.png\n",
      "/kaggle/input/parkinsons-brain-mri-dataset/parkinsons_dataset/normal/Pha_Images_060.png\n",
      "/kaggle/input/parkinsons-brain-mri-dataset/parkinsons_dataset/normal/Pha_Images_004.png\n",
      "/kaggle/input/parkinsons-brain-mri-dataset/parkinsons_dataset/normal/t1_fl3d_sag_p4_iso_1.0_127.png\n",
      "/kaggle/input/parkinsons-brain-mri-dataset/parkinsons_dataset/normal/mIP_Images(SW)_046.png\n",
      "/kaggle/input/parkinsons-brain-mri-dataset/parkinsons_dataset/normal/Mag_Images_067.png\n",
      "/kaggle/input/parkinsons-brain-mri-dataset/parkinsons_dataset/normal/Pha_Images_014.png\n",
      "/kaggle/input/parkinsons-brain-mri-dataset/parkinsons_dataset/normal/Mag_Images_065.png\n",
      "/kaggle/input/parkinsons-brain-mri-dataset/parkinsons_dataset/normal/SWI_Images_003.png\n",
      "/kaggle/input/parkinsons-brain-mri-dataset/parkinsons_dataset/normal/Pha_Images_009.png\n",
      "/kaggle/input/parkinsons-brain-mri-dataset/parkinsons_dataset/normal/mIP_Images(SW)_039.png\n",
      "/kaggle/input/parkinsons-brain-mri-dataset/parkinsons_dataset/normal/mIP_Images(SW)_020.png\n",
      "/kaggle/input/parkinsons-brain-mri-dataset/parkinsons_dataset/normal/t2_tirm_tra_dark-fluid_016.png\n",
      "/kaggle/input/parkinsons-brain-mri-dataset/parkinsons_dataset/normal/t1_fl3d_sag_p4_iso_1.0_088.png\n",
      "/kaggle/input/parkinsons-brain-mri-dataset/parkinsons_dataset/normal/mIP_Images(SW)_004.png\n",
      "/kaggle/input/parkinsons-brain-mri-dataset/parkinsons_dataset/normal/t1_fl3d_sag_p4_iso_1.0_168.png\n",
      "/kaggle/input/parkinsons-brain-mri-dataset/parkinsons_dataset/normal/t2_tirm_tra_dark-fluid_025.png\n",
      "/kaggle/input/parkinsons-brain-mri-dataset/parkinsons_dataset/normal/Mag_Images_033.png\n",
      "/kaggle/input/parkinsons-brain-mri-dataset/parkinsons_dataset/normal/ep2d_diff_3scan_trace_p2_TRACEW_DFC_054.png\n",
      "/kaggle/input/parkinsons-brain-mri-dataset/parkinsons_dataset/normal/mIP_Images(SW)_026.png\n",
      "/kaggle/input/parkinsons-brain-mri-dataset/parkinsons_dataset/normal/t1_fl3d_sag_p4_iso_1.0_003.png\n",
      "/kaggle/input/parkinsons-brain-mri-dataset/parkinsons_dataset/normal/t2_tse_tra_026.png\n",
      "/kaggle/input/parkinsons-brain-mri-dataset/parkinsons_dataset/normal/t1_fl3d_sag_p4_iso_1.0_040.png\n",
      "/kaggle/input/parkinsons-brain-mri-dataset/parkinsons_dataset/normal/SWI_Images_062.png\n",
      "/kaggle/input/parkinsons-brain-mri-dataset/parkinsons_dataset/normal/t1_fl3d_sag_p4_iso_1.0_047.png\n",
      "/kaggle/input/parkinsons-brain-mri-dataset/parkinsons_dataset/normal/ep2d_diff_3scan_trace_p2_TRACEW_DFC_027.png\n",
      "/kaggle/input/parkinsons-brain-mri-dataset/parkinsons_dataset/normal/t2_tse_tra_018.png\n",
      "/kaggle/input/parkinsons-brain-mri-dataset/parkinsons_dataset/normal/ep2d_diff_3scan_trace_p2_TRACEW_DFC_055.png\n",
      "/kaggle/input/parkinsons-brain-mri-dataset/parkinsons_dataset/normal/SWI_Images_019.png\n",
      "/kaggle/input/parkinsons-brain-mri-dataset/parkinsons_dataset/normal/SWI_Images_046.png\n",
      "/kaggle/input/parkinsons-brain-mri-dataset/parkinsons_dataset/normal/ep2d_diff_3scan_trace_p2_ADC_DFC_029.png\n",
      "/kaggle/input/parkinsons-brain-mri-dataset/parkinsons_dataset/normal/ep2d_diff_3scan_trace_p2_ADC_DFC_017.png\n",
      "/kaggle/input/parkinsons-brain-mri-dataset/parkinsons_dataset/normal/ep2d_diff_3scan_trace_p2_TRACEW_DFC_047.png\n",
      "/kaggle/input/parkinsons-brain-mri-dataset/parkinsons_dataset/normal/Pha_Images_055.png\n",
      "/kaggle/input/parkinsons-brain-mri-dataset/parkinsons_dataset/normal/t1_fl3d_sag_p4_iso_1.0_112.png\n",
      "/kaggle/input/parkinsons-brain-mri-dataset/parkinsons_dataset/normal/SWI_Images_014.png\n",
      "/kaggle/input/parkinsons-brain-mri-dataset/parkinsons_dataset/normal/mIP_Images(SW)_065.png\n",
      "/kaggle/input/parkinsons-brain-mri-dataset/parkinsons_dataset/normal/t1_fl3d_sag_p4_iso_1.0_006.png\n",
      "/kaggle/input/parkinsons-brain-mri-dataset/parkinsons_dataset/normal/mIP_Images(SW)_063.png\n",
      "/kaggle/input/parkinsons-brain-mri-dataset/parkinsons_dataset/normal/t1_fl3d_sag_p4_iso_1.0_117.png\n",
      "/kaggle/input/parkinsons-brain-mri-dataset/parkinsons_dataset/normal/ep2d_diff_3scan_trace_p2_TRACEW_DFC_019.png\n",
      "/kaggle/input/parkinsons-brain-mri-dataset/parkinsons_dataset/normal/mIP_Images(SW)_059.png\n",
      "/kaggle/input/parkinsons-brain-mri-dataset/parkinsons_dataset/normal/Pha_Images_016.png\n",
      "/kaggle/input/parkinsons-brain-mri-dataset/parkinsons_dataset/normal/ep2d_diff_3scan_trace_p2_TRACEW_DFC_038.png\n",
      "/kaggle/input/parkinsons-brain-mri-dataset/parkinsons_dataset/normal/t2_tse_tra_004.png\n",
      "/kaggle/input/parkinsons-brain-mri-dataset/parkinsons_dataset/normal/Pha_Images_043.png\n",
      "/kaggle/input/parkinsons-brain-mri-dataset/parkinsons_dataset/normal/t1_fl3d_sag_p4_iso_1.0_018.png\n",
      "/kaggle/input/parkinsons-brain-mri-dataset/parkinsons_dataset/normal/SWI_Images_049.png\n",
      "/kaggle/input/parkinsons-brain-mri-dataset/parkinsons_dataset/normal/mIP_Images(SW)_028.png\n",
      "/kaggle/input/parkinsons-brain-mri-dataset/parkinsons_dataset/normal/Pha_Images_018.png\n",
      "/kaggle/input/parkinsons-brain-mri-dataset/parkinsons_dataset/normal/SWI_Images_057.png\n",
      "/kaggle/input/parkinsons-brain-mri-dataset/parkinsons_dataset/normal/ep2d_diff_3scan_trace_p2_ADC_DFC_001.png\n",
      "/kaggle/input/parkinsons-brain-mri-dataset/parkinsons_dataset/normal/localizer_001.png\n",
      "/kaggle/input/parkinsons-brain-mri-dataset/parkinsons_dataset/normal/Mag_Images_051.png\n",
      "/kaggle/input/parkinsons-brain-mri-dataset/parkinsons_dataset/normal/t2_tse_tra_015.png\n",
      "/kaggle/input/parkinsons-brain-mri-dataset/parkinsons_dataset/normal/ep2d_diff_3scan_trace_p2_TRACEW_DFC_046.png\n",
      "/kaggle/input/parkinsons-brain-mri-dataset/parkinsons_dataset/normal/mIP_Images(SW)_014.png\n",
      "/kaggle/input/parkinsons-brain-mri-dataset/parkinsons_dataset/normal/SWI_Images_043.png\n",
      "/kaggle/input/parkinsons-brain-mri-dataset/parkinsons_dataset/normal/mIP_Images(SW)_018.png\n",
      "/kaggle/input/parkinsons-brain-mri-dataset/parkinsons_dataset/normal/t2_tirm_tra_dark-fluid_010.png\n",
      "/kaggle/input/parkinsons-brain-mri-dataset/parkinsons_dataset/normal/t1_fl3d_sag_p4_iso_1.0_133.png\n",
      "/kaggle/input/parkinsons-brain-mri-dataset/parkinsons_dataset/normal/t1_fl3d_sag_p4_iso_1.0_071.png\n",
      "/kaggle/input/parkinsons-brain-mri-dataset/parkinsons_dataset/normal/ep2d_diff_3scan_trace_p2_TRACEW_DFC_006.png\n",
      "/kaggle/input/parkinsons-brain-mri-dataset/parkinsons_dataset/normal/ep2d_diff_3scan_trace_p2_ADC_DFC_011.png\n",
      "/kaggle/input/parkinsons-brain-mri-dataset/parkinsons_dataset/normal/t1_fl3d_sag_p4_iso_1.0_130.png\n",
      "/kaggle/input/parkinsons-brain-mri-dataset/parkinsons_dataset/normal/ep2d_diff_3scan_trace_p2_ADC_DFC_028.png\n",
      "/kaggle/input/parkinsons-brain-mri-dataset/parkinsons_dataset/normal/ep2d_diff_3scan_trace_p2_TRACEW_DFC_056.png\n",
      "/kaggle/input/parkinsons-brain-mri-dataset/parkinsons_dataset/normal/SWI_Images_007.png\n",
      "/kaggle/input/parkinsons-brain-mri-dataset/parkinsons_dataset/normal/SWI_Images_065.png\n",
      "/kaggle/input/parkinsons-brain-mri-dataset/parkinsons_dataset/normal/SWI_Images_055.png\n",
      "/kaggle/input/parkinsons-brain-mri-dataset/parkinsons_dataset/normal/SWI_Images_035.png\n",
      "/kaggle/input/parkinsons-brain-mri-dataset/parkinsons_dataset/normal/SWI_Images_056.png\n",
      "/kaggle/input/parkinsons-brain-mri-dataset/parkinsons_dataset/normal/SWI_Images_009.png\n",
      "/kaggle/input/parkinsons-brain-mri-dataset/parkinsons_dataset/normal/Mag_Images_004.png\n",
      "/kaggle/input/parkinsons-brain-mri-dataset/parkinsons_dataset/normal/t1_fl3d_sag_p4_iso_1.0_048.png\n",
      "/kaggle/input/parkinsons-brain-mri-dataset/parkinsons_dataset/normal/t2_tirm_tra_dark-fluid_003.png\n",
      "/kaggle/input/parkinsons-brain-mri-dataset/parkinsons_dataset/normal/t1_fl3d_sag_p4_iso_1.0_116.png\n",
      "/kaggle/input/parkinsons-brain-mri-dataset/parkinsons_dataset/normal/ep2d_diff_3scan_trace_p2_TRACEW_DFC_045.png\n",
      "/kaggle/input/parkinsons-brain-mri-dataset/parkinsons_dataset/normal/t2_tse_tra_010.png\n",
      "/kaggle/input/parkinsons-brain-mri-dataset/parkinsons_dataset/normal/Mag_Images_053.png\n",
      "/kaggle/input/parkinsons-brain-mri-dataset/parkinsons_dataset/normal/Pha_Images_040.png\n",
      "/kaggle/input/parkinsons-brain-mri-dataset/parkinsons_dataset/normal/Mag_Images_047.png\n",
      "/kaggle/input/parkinsons-brain-mri-dataset/parkinsons_dataset/normal/t2_tirm_tra_dark-fluid_020.png\n",
      "/kaggle/input/parkinsons-brain-mri-dataset/parkinsons_dataset/normal/t1_fl3d_sag_p4_iso_1.0_100.png\n",
      "/kaggle/input/parkinsons-brain-mri-dataset/parkinsons_dataset/normal/t1_fl3d_sag_p4_iso_1.0_005.png\n",
      "/kaggle/input/parkinsons-brain-mri-dataset/parkinsons_dataset/normal/t1_fl3d_sag_p4_iso_1.0_165.png\n",
      "/kaggle/input/parkinsons-brain-mri-dataset/parkinsons_dataset/normal/SWI_Images_060.png\n",
      "/kaggle/input/parkinsons-brain-mri-dataset/parkinsons_dataset/normal/SWI_Images_048.png\n",
      "/kaggle/input/parkinsons-brain-mri-dataset/parkinsons_dataset/normal/ep2d_diff_3scan_trace_p2_TRACEW_DFC_036.png\n",
      "/kaggle/input/parkinsons-brain-mri-dataset/parkinsons_dataset/normal/Mag_Images_022.png\n",
      "/kaggle/input/parkinsons-brain-mri-dataset/parkinsons_dataset/normal/Pha_Images_012.png\n",
      "/kaggle/input/parkinsons-brain-mri-dataset/parkinsons_dataset/normal/SWI_Images_072.png\n",
      "/kaggle/input/parkinsons-brain-mri-dataset/parkinsons_dataset/normal/ep2d_diff_3scan_trace_p2_ADC_DFC_014.png\n",
      "/kaggle/input/parkinsons-brain-mri-dataset/parkinsons_dataset/normal/t1_fl3d_sag_p4_iso_1.0_143.png\n",
      "/kaggle/input/parkinsons-brain-mri-dataset/parkinsons_dataset/normal/Pha_Images_056.png\n",
      "/kaggle/input/parkinsons-brain-mri-dataset/parkinsons_dataset/normal/Pha_Images_041.png\n",
      "/kaggle/input/parkinsons-brain-mri-dataset/parkinsons_dataset/normal/t1_fl3d_sag_p4_iso_1.0_161.png\n",
      "/kaggle/input/parkinsons-brain-mri-dataset/parkinsons_dataset/normal/Mag_Images_030.png\n",
      "/kaggle/input/parkinsons-brain-mri-dataset/parkinsons_dataset/normal/ep2d_diff_3scan_trace_p2_TRACEW_DFC_030.png\n",
      "/kaggle/input/parkinsons-brain-mri-dataset/parkinsons_dataset/normal/t1_fl3d_sag_p4_iso_1.0_066.png\n",
      "/kaggle/input/parkinsons-brain-mri-dataset/parkinsons_dataset/normal/Mag_Images_071.png\n",
      "/kaggle/input/parkinsons-brain-mri-dataset/parkinsons_dataset/normal/t1_fl3d_sag_p4_iso_1.0_092.png\n",
      "/kaggle/input/parkinsons-brain-mri-dataset/parkinsons_dataset/normal/SWI_Images_001.png\n",
      "/kaggle/input/parkinsons-brain-mri-dataset/parkinsons_dataset/normal/Pha_Images_070.png\n",
      "/kaggle/input/parkinsons-brain-mri-dataset/parkinsons_dataset/normal/t2_tse_tra_011.png\n",
      "/kaggle/input/parkinsons-brain-mri-dataset/parkinsons_dataset/normal/t1_fl3d_sag_p4_iso_1.0_065.png\n",
      "/kaggle/input/parkinsons-brain-mri-dataset/parkinsons_dataset/normal/t1_fl3d_sag_p4_iso_1.0_035.png\n",
      "/kaggle/input/parkinsons-brain-mri-dataset/parkinsons_dataset/normal/mIP_Images(SW)_050.png\n",
      "/kaggle/input/parkinsons-brain-mri-dataset/parkinsons_dataset/normal/t1_fl3d_sag_p4_iso_1.0_131.png\n",
      "/kaggle/input/parkinsons-brain-mri-dataset/parkinsons_dataset/normal/t1_fl3d_sag_p4_iso_1.0_094.png\n",
      "/kaggle/input/parkinsons-brain-mri-dataset/parkinsons_dataset/normal/t1_fl3d_sag_p4_iso_1.0_054.png\n",
      "/kaggle/input/parkinsons-brain-mri-dataset/parkinsons_dataset/normal/mIP_Images(SW)_005.png\n",
      "/kaggle/input/parkinsons-brain-mri-dataset/parkinsons_dataset/normal/mIP_Images(SW)_049.png\n",
      "/kaggle/input/parkinsons-brain-mri-dataset/parkinsons_dataset/normal/Pha_Images_058.png\n",
      "/kaggle/input/parkinsons-brain-mri-dataset/parkinsons_dataset/normal/t2_tse_tra_020.png\n",
      "/kaggle/input/parkinsons-brain-mri-dataset/parkinsons_dataset/normal/t1_fl3d_sag_p4_iso_1.0_039.png\n",
      "/kaggle/input/parkinsons-brain-mri-dataset/parkinsons_dataset/normal/t1_fl3d_sag_p4_iso_1.0_096.png\n",
      "/kaggle/input/parkinsons-brain-mri-dataset/parkinsons_dataset/normal/t2_tse_tra_001.png\n",
      "/kaggle/input/parkinsons-brain-mri-dataset/parkinsons_dataset/normal/Pha_Images_030.png\n",
      "/kaggle/input/parkinsons-brain-mri-dataset/parkinsons_dataset/normal/t1_fl3d_sag_p4_iso_1.0_102.png\n",
      "/kaggle/input/parkinsons-brain-mri-dataset/parkinsons_dataset/normal/t1_fl3d_sag_p4_iso_1.0_008.png\n",
      "/kaggle/input/parkinsons-brain-mri-dataset/parkinsons_dataset/normal/t1_fl3d_sag_p4_iso_1.0_166.png\n",
      "/kaggle/input/parkinsons-brain-mri-dataset/parkinsons_dataset/normal/t1_fl3d_sag_p4_iso_1.0_153.png\n",
      "/kaggle/input/parkinsons-brain-mri-dataset/parkinsons_dataset/normal/t1_fl3d_sag_p4_iso_1.0_124.png\n",
      "/kaggle/input/parkinsons-brain-mri-dataset/parkinsons_dataset/normal/SWI_Images_016.png\n",
      "/kaggle/input/parkinsons-brain-mri-dataset/parkinsons_dataset/normal/Mag_Images_063.png\n",
      "/kaggle/input/parkinsons-brain-mri-dataset/parkinsons_dataset/normal/ep2d_diff_3scan_trace_p2_TRACEW_DFC_050.png\n",
      "/kaggle/input/parkinsons-brain-mri-dataset/parkinsons_dataset/normal/SWI_Images_029.png\n",
      "/kaggle/input/parkinsons-brain-mri-dataset/parkinsons_dataset/normal/ep2d_diff_3scan_trace_p2_TRACEW_DFC_017.png\n",
      "/kaggle/input/parkinsons-brain-mri-dataset/parkinsons_dataset/normal/t1_fl3d_sag_p4_iso_1.0_152.png\n",
      "/kaggle/input/parkinsons-brain-mri-dataset/parkinsons_dataset/normal/ep2d_diff_3scan_trace_p2_ADC_DFC_010.png\n",
      "/kaggle/input/parkinsons-brain-mri-dataset/parkinsons_dataset/normal/ep2d_diff_3scan_trace_p2_TRACEW_DFC_021.png\n",
      "/kaggle/input/parkinsons-brain-mri-dataset/parkinsons_dataset/normal/t1_fl3d_sag_p4_iso_1.0_160.png\n",
      "/kaggle/input/parkinsons-brain-mri-dataset/parkinsons_dataset/normal/mIP_Images(SW)_009.png\n",
      "/kaggle/input/parkinsons-brain-mri-dataset/parkinsons_dataset/normal/t1_fl3d_sag_p4_iso_1.0_064.png\n",
      "/kaggle/input/parkinsons-brain-mri-dataset/parkinsons_dataset/normal/t2_tirm_tra_dark-fluid_030.png\n",
      "/kaggle/input/parkinsons-brain-mri-dataset/parkinsons_dataset/normal/t1_fl3d_sag_p4_iso_1.0_079.png\n",
      "/kaggle/input/parkinsons-brain-mri-dataset/parkinsons_dataset/normal/mIP_Images(SW)_043.png\n",
      "/kaggle/input/parkinsons-brain-mri-dataset/parkinsons_dataset/normal/t1_fl3d_sag_p4_iso_1.0_045.png\n",
      "/kaggle/input/parkinsons-brain-mri-dataset/parkinsons_dataset/normal/t2_tse_tra_019.png\n",
      "/kaggle/input/parkinsons-brain-mri-dataset/parkinsons_dataset/normal/Pha_Images_067.png\n",
      "/kaggle/input/parkinsons-brain-mri-dataset/parkinsons_dataset/normal/t1_fl3d_sag_p4_iso_1.0_115.png\n",
      "/kaggle/input/parkinsons-brain-mri-dataset/parkinsons_dataset/normal/Mag_Images_052.png\n",
      "/kaggle/input/parkinsons-brain-mri-dataset/parkinsons_dataset/normal/Pha_Images_015.png\n",
      "/kaggle/input/parkinsons-brain-mri-dataset/parkinsons_dataset/normal/ep2d_diff_3scan_trace_p2_TRACEW_DFC_022.png\n",
      "/kaggle/input/parkinsons-brain-mri-dataset/parkinsons_dataset/normal/t1_fl3d_sag_p4_iso_1.0_175.png\n",
      "/kaggle/input/parkinsons-brain-mri-dataset/parkinsons_dataset/normal/SWI_Images_037.png\n",
      "/kaggle/input/parkinsons-brain-mri-dataset/parkinsons_dataset/normal/t1_fl3d_sag_p4_iso_1.0_083.png\n",
      "/kaggle/input/parkinsons-brain-mri-dataset/parkinsons_dataset/normal/SWI_Images_052.png\n",
      "/kaggle/input/parkinsons-brain-mri-dataset/parkinsons_dataset/normal/ep2d_diff_3scan_trace_p2_TRACEW_DFC_049.png\n",
      "/kaggle/input/parkinsons-brain-mri-dataset/parkinsons_dataset/normal/t1_fl3d_sag_p4_iso_1.0_159.png\n",
      "/kaggle/input/parkinsons-brain-mri-dataset/parkinsons_dataset/normal/ep2d_diff_3scan_trace_p2_ADC_DFC_006.png\n",
      "/kaggle/input/parkinsons-brain-mri-dataset/parkinsons_dataset/normal/Mag_Images_072.png\n",
      "/kaggle/input/parkinsons-brain-mri-dataset/parkinsons_dataset/normal/mIP_Images(SW)_048.png\n",
      "/kaggle/input/parkinsons-brain-mri-dataset/parkinsons_dataset/normal/mIP_Images(SW)_047.png\n",
      "/kaggle/input/parkinsons-brain-mri-dataset/parkinsons_dataset/normal/Pha_Images_007.png\n",
      "/kaggle/input/parkinsons-brain-mri-dataset/parkinsons_dataset/normal/ep2d_diff_3scan_trace_p2_TRACEW_DFC_029.png\n",
      "/kaggle/input/parkinsons-brain-mri-dataset/parkinsons_dataset/normal/mIP_Images(SW)_011.png\n",
      "/kaggle/input/parkinsons-brain-mri-dataset/parkinsons_dataset/normal/t1_fl3d_sag_p4_iso_1.0_056.png\n",
      "/kaggle/input/parkinsons-brain-mri-dataset/parkinsons_dataset/normal/mIP_Images(SW)_024.png\n",
      "/kaggle/input/parkinsons-brain-mri-dataset/parkinsons_dataset/normal/t1_fl3d_sag_p4_iso_1.0_026.png\n",
      "/kaggle/input/parkinsons-brain-mri-dataset/parkinsons_dataset/normal/t2_tirm_tra_dark-fluid_011.png\n",
      "/kaggle/input/parkinsons-brain-mri-dataset/parkinsons_dataset/normal/Mag_Images_039.png\n",
      "/kaggle/input/parkinsons-brain-mri-dataset/parkinsons_dataset/normal/t2_tirm_tra_dark-fluid_021.png\n",
      "/kaggle/input/parkinsons-brain-mri-dataset/parkinsons_dataset/normal/ep2d_diff_3scan_trace_p2_ADC_DFC_003.png\n",
      "/kaggle/input/parkinsons-brain-mri-dataset/parkinsons_dataset/normal/t1_fl3d_sag_p4_iso_1.0_001.png\n",
      "/kaggle/input/parkinsons-brain-mri-dataset/parkinsons_dataset/normal/t1_fl3d_sag_p4_iso_1.0_095.png\n",
      "/kaggle/input/parkinsons-brain-mri-dataset/parkinsons_dataset/normal/Pha_Images_057.png\n",
      "/kaggle/input/parkinsons-brain-mri-dataset/parkinsons_dataset/normal/t1_fl3d_sag_p4_iso_1.0_144.png\n",
      "/kaggle/input/parkinsons-brain-mri-dataset/parkinsons_dataset/normal/t1_fl3d_sag_p4_iso_1.0_038.png\n",
      "/kaggle/input/parkinsons-brain-mri-dataset/parkinsons_dataset/normal/Pha_Images_031.png\n",
      "/kaggle/input/parkinsons-brain-mri-dataset/parkinsons_dataset/normal/mIP_Images(SW)_037.png\n",
      "/kaggle/input/parkinsons-brain-mri-dataset/parkinsons_dataset/normal/mIP_Images(SW)_054.png\n",
      "/kaggle/input/parkinsons-brain-mri-dataset/parkinsons_dataset/normal/Mag_Images_013.png\n",
      "/kaggle/input/parkinsons-brain-mri-dataset/parkinsons_dataset/normal/t1_fl3d_sag_p4_iso_1.0_107.png\n",
      "/kaggle/input/parkinsons-brain-mri-dataset/parkinsons_dataset/normal/t1_fl3d_sag_p4_iso_1.0_069.png\n",
      "/kaggle/input/parkinsons-brain-mri-dataset/parkinsons_dataset/normal/Pha_Images_020.png\n",
      "/kaggle/input/parkinsons-brain-mri-dataset/parkinsons_dataset/normal/t2_tirm_tra_dark-fluid_029.png\n",
      "/kaggle/input/parkinsons-brain-mri-dataset/parkinsons_dataset/normal/ep2d_diff_3scan_trace_p2_TRACEW_DFC_035.png\n",
      "/kaggle/input/parkinsons-brain-mri-dataset/parkinsons_dataset/normal/SWI_Images_033.png\n",
      "/kaggle/input/parkinsons-brain-mri-dataset/parkinsons_dataset/normal/mIP_Images(SW)_051.png\n",
      "/kaggle/input/parkinsons-brain-mri-dataset/parkinsons_dataset/normal/Pha_Images_049.png\n",
      "/kaggle/input/parkinsons-brain-mri-dataset/parkinsons_dataset/normal/SWI_Images_054.png\n",
      "/kaggle/input/parkinsons-brain-mri-dataset/parkinsons_dataset/normal/ep2d_diff_3scan_trace_p2_TRACEW_DFC_018.png\n",
      "/kaggle/input/parkinsons-brain-mri-dataset/parkinsons_dataset/normal/t1_fl3d_sag_p4_iso_1.0_162.png\n",
      "/kaggle/input/parkinsons-brain-mri-dataset/parkinsons_dataset/normal/Mag_Images_066.png\n",
      "/kaggle/input/parkinsons-brain-mri-dataset/parkinsons_dataset/normal/ep2d_diff_3scan_trace_p2_TRACEW_DFC_024.png\n",
      "/kaggle/input/parkinsons-brain-mri-dataset/parkinsons_dataset/normal/t1_fl3d_sag_p4_iso_1.0_030.png\n",
      "/kaggle/input/parkinsons-brain-mri-dataset/parkinsons_dataset/normal/t2_tirm_tra_dark-fluid_004.png\n",
      "/kaggle/input/parkinsons-brain-mri-dataset/parkinsons_dataset/normal/Pha_Images_069.png\n",
      "/kaggle/input/parkinsons-brain-mri-dataset/parkinsons_dataset/normal/SWI_Images_042.png\n",
      "/kaggle/input/parkinsons-brain-mri-dataset/parkinsons_dataset/normal/Mag_Images_031.png\n",
      "/kaggle/input/parkinsons-brain-mri-dataset/parkinsons_dataset/normal/mIP_Images(SW)_052.png\n",
      "/kaggle/input/parkinsons-brain-mri-dataset/parkinsons_dataset/normal/Mag_Images_016.png\n",
      "/kaggle/input/parkinsons-brain-mri-dataset/parkinsons_dataset/normal/Pha_Images_064.png\n",
      "/kaggle/input/parkinsons-brain-mri-dataset/parkinsons_dataset/normal/t1_fl3d_sag_p4_iso_1.0_146.png\n",
      "/kaggle/input/parkinsons-brain-mri-dataset/parkinsons_dataset/normal/t1_fl3d_sag_p4_iso_1.0_009.png\n",
      "/kaggle/input/parkinsons-brain-mri-dataset/parkinsons_dataset/normal/t1_fl3d_sag_p4_iso_1.0_125.png\n",
      "/kaggle/input/parkinsons-brain-mri-dataset/parkinsons_dataset/normal/SWI_Images_031.png\n",
      "/kaggle/input/parkinsons-brain-mri-dataset/parkinsons_dataset/normal/t1_fl3d_sag_p4_iso_1.0_031.png\n",
      "/kaggle/input/parkinsons-brain-mri-dataset/parkinsons_dataset/normal/t1_fl3d_sag_p4_iso_1.0_044.png\n",
      "/kaggle/input/parkinsons-brain-mri-dataset/parkinsons_dataset/normal/mIP_Images(SW)_019.png\n",
      "/kaggle/input/parkinsons-brain-mri-dataset/parkinsons_dataset/normal/t2_tse_tra_003.png\n",
      "/kaggle/input/parkinsons-brain-mri-dataset/parkinsons_dataset/normal/t1_fl3d_sag_p4_iso_1.0_120.png\n",
      "/kaggle/input/parkinsons-brain-mri-dataset/parkinsons_dataset/normal/ep2d_diff_3scan_trace_p2_ADC_DFC_004.png\n",
      "/kaggle/input/parkinsons-brain-mri-dataset/parkinsons_dataset/normal/t1_fl3d_sag_p4_iso_1.0_057.png\n",
      "/kaggle/input/parkinsons-brain-mri-dataset/parkinsons_dataset/normal/t1_fl3d_sag_p4_iso_1.0_075.png\n",
      "/kaggle/input/parkinsons-brain-mri-dataset/parkinsons_dataset/normal/Mag_Images_023.png\n",
      "/kaggle/input/parkinsons-brain-mri-dataset/parkinsons_dataset/normal/mIP_Images(SW)_025.png\n",
      "/kaggle/input/parkinsons-brain-mri-dataset/parkinsons_dataset/normal/t1_fl3d_sag_p4_iso_1.0_126.png\n",
      "/kaggle/input/parkinsons-brain-mri-dataset/parkinsons_dataset/normal/t1_fl3d_sag_p4_iso_1.0_016.png\n",
      "/kaggle/input/parkinsons-brain-mri-dataset/parkinsons_dataset/normal/mIP_Images(SW)_045.png\n",
      "/kaggle/input/parkinsons-brain-mri-dataset/parkinsons_dataset/normal/Mag_Images_009.png\n",
      "/kaggle/input/parkinsons-brain-mri-dataset/parkinsons_dataset/normal/Mag_Images_062.png\n",
      "/kaggle/input/parkinsons-brain-mri-dataset/parkinsons_dataset/normal/t1_fl3d_sag_p4_iso_1.0_119.png\n",
      "/kaggle/input/parkinsons-brain-mri-dataset/parkinsons_dataset/normal/Mag_Images_037.png\n",
      "/kaggle/input/parkinsons-brain-mri-dataset/parkinsons_dataset/normal/SWI_Images_017.png\n",
      "/kaggle/input/parkinsons-brain-mri-dataset/parkinsons_dataset/normal/mIP_Images(SW)_033.png\n",
      "/kaggle/input/parkinsons-brain-mri-dataset/parkinsons_dataset/normal/Pha_Images_048.png\n",
      "/kaggle/input/parkinsons-brain-mri-dataset/parkinsons_dataset/normal/t1_fl3d_sag_p4_iso_1.0_155.png\n",
      "/kaggle/input/parkinsons-brain-mri-dataset/parkinsons_dataset/normal/SWI_Images_027.png\n",
      "/kaggle/input/parkinsons-brain-mri-dataset/parkinsons_dataset/normal/t1_fl3d_sag_p4_iso_1.0_147.png\n",
      "/kaggle/input/parkinsons-brain-mri-dataset/parkinsons_dataset/normal/Pha_Images_035.png\n",
      "/kaggle/input/parkinsons-brain-mri-dataset/parkinsons_dataset/normal/mIP_Images(SW)_010.png\n",
      "/kaggle/input/parkinsons-brain-mri-dataset/parkinsons_dataset/normal/Pha_Images_003.png\n",
      "/kaggle/input/parkinsons-brain-mri-dataset/parkinsons_dataset/normal/mIP_Images(SW)_003.png\n",
      "/kaggle/input/parkinsons-brain-mri-dataset/parkinsons_dataset/normal/SWI_Images_032.png\n",
      "/kaggle/input/parkinsons-brain-mri-dataset/parkinsons_dataset/normal/Pha_Images_032.png\n",
      "/kaggle/input/parkinsons-brain-mri-dataset/parkinsons_dataset/normal/t2_tse_tra_023.png\n",
      "/kaggle/input/parkinsons-brain-mri-dataset/parkinsons_dataset/normal/t2_tse_tra_013.png\n",
      "/kaggle/input/parkinsons-brain-mri-dataset/parkinsons_dataset/normal/mIP_Images(SW)_035.png\n",
      "/kaggle/input/parkinsons-brain-mri-dataset/parkinsons_dataset/normal/SWI_Images_026.png\n",
      "/kaggle/input/parkinsons-brain-mri-dataset/parkinsons_dataset/normal/t1_fl3d_sag_p4_iso_1.0_017.png\n",
      "/kaggle/input/parkinsons-brain-mri-dataset/parkinsons_dataset/normal/t1_fl3d_sag_p4_iso_1.0_093.png\n",
      "/kaggle/input/parkinsons-brain-mri-dataset/parkinsons_dataset/normal/t2_tirm_tra_dark-fluid_015.png\n",
      "/kaggle/input/parkinsons-brain-mri-dataset/parkinsons_dataset/normal/t1_fl3d_sag_p4_iso_1.0_070.png\n",
      "/kaggle/input/parkinsons-brain-mri-dataset/parkinsons_dataset/normal/t1_fl3d_sag_p4_iso_1.0_148.png\n",
      "/kaggle/input/parkinsons-brain-mri-dataset/parkinsons_dataset/normal/t1_fl3d_sag_p4_iso_1.0_024.png\n",
      "/kaggle/input/parkinsons-brain-mri-dataset/parkinsons_dataset/normal/SWI_Images_013.png\n",
      "/kaggle/input/parkinsons-brain-mri-dataset/parkinsons_dataset/normal/t2_tirm_tra_dark-fluid_023.png\n",
      "/kaggle/input/parkinsons-brain-mri-dataset/parkinsons_dataset/normal/ep2d_diff_3scan_trace_p2_ADC_DFC_021.png\n",
      "/kaggle/input/parkinsons-brain-mri-dataset/parkinsons_dataset/normal/t1_fl3d_sag_p4_iso_1.0_022.png\n",
      "/kaggle/input/parkinsons-brain-mri-dataset/parkinsons_dataset/normal/SWI_Images_044.png\n",
      "/kaggle/input/parkinsons-brain-mri-dataset/parkinsons_dataset/normal/Mag_Images_008.png\n",
      "/kaggle/input/parkinsons-brain-mri-dataset/parkinsons_dataset/normal/t1_fl3d_sag_p4_iso_1.0_121.png\n",
      "/kaggle/input/parkinsons-brain-mri-dataset/parkinsons_dataset/normal/SWI_Images_034.png\n",
      "/kaggle/input/parkinsons-brain-mri-dataset/parkinsons_dataset/normal/ep2d_diff_3scan_trace_p2_TRACEW_DFC_014.png\n",
      "/kaggle/input/parkinsons-brain-mri-dataset/parkinsons_dataset/normal/t1_fl3d_sag_p4_iso_1.0_050.png\n",
      "/kaggle/input/parkinsons-brain-mri-dataset/parkinsons_dataset/normal/SWI_Images_022.png\n",
      "/kaggle/input/parkinsons-brain-mri-dataset/parkinsons_dataset/normal/t1_fl3d_sag_p4_iso_1.0_174.png\n",
      "/kaggle/input/parkinsons-brain-mri-dataset/parkinsons_dataset/normal/ep2d_diff_3scan_trace_p2_TRACEW_DFC_041.png\n",
      "/kaggle/input/parkinsons-brain-mri-dataset/parkinsons_dataset/normal/t1_fl3d_sag_p4_iso_1.0_034.png\n",
      "/kaggle/input/parkinsons-brain-mri-dataset/parkinsons_dataset/normal/t1_fl3d_sag_p4_iso_1.0_171.png\n",
      "/kaggle/input/parkinsons-brain-mri-dataset/parkinsons_dataset/normal/Mag_Images_056.png\n",
      "/kaggle/input/parkinsons-brain-mri-dataset/parkinsons_dataset/normal/mIP_Images(SW)_015.png\n",
      "/kaggle/input/parkinsons-brain-mri-dataset/parkinsons_dataset/normal/t2_tse_tra_024.png\n",
      "/kaggle/input/parkinsons-brain-mri-dataset/parkinsons_dataset/normal/Mag_Images_048.png\n",
      "/kaggle/input/parkinsons-brain-mri-dataset/parkinsons_dataset/normal/t1_fl3d_sag_p4_iso_1.0_020.png\n",
      "/kaggle/input/parkinsons-brain-mri-dataset/parkinsons_dataset/normal/mIP_Images(SW)_023.png\n",
      "/kaggle/input/parkinsons-brain-mri-dataset/parkinsons_dataset/normal/ep2d_diff_3scan_trace_p2_TRACEW_DFC_033.png\n",
      "/kaggle/input/parkinsons-brain-mri-dataset/parkinsons_dataset/normal/t2_tse_tra_009.png\n",
      "/kaggle/input/parkinsons-brain-mri-dataset/parkinsons_dataset/normal/Pha_Images_002.png\n",
      "/kaggle/input/parkinsons-brain-mri-dataset/parkinsons_dataset/normal/t1_fl3d_sag_p4_iso_1.0_145.png\n",
      "/kaggle/input/parkinsons-brain-mri-dataset/parkinsons_dataset/normal/Pha_Images_061.png\n",
      "/kaggle/input/parkinsons-brain-mri-dataset/parkinsons_dataset/normal/ep2d_diff_3scan_trace_p2_TRACEW_DFC_034.png\n",
      "/kaggle/input/parkinsons-brain-mri-dataset/parkinsons_dataset/normal/Pha_Images_028.png\n",
      "/kaggle/input/parkinsons-brain-mri-dataset/parkinsons_dataset/normal/Mag_Images_058.png\n",
      "/kaggle/input/parkinsons-brain-mri-dataset/parkinsons_dataset/normal/SWI_Images_050.png\n",
      "/kaggle/input/parkinsons-brain-mri-dataset/parkinsons_dataset/normal/Mag_Images_021.png\n",
      "/kaggle/input/parkinsons-brain-mri-dataset/parkinsons_dataset/normal/SWI_Images_066.png\n",
      "/kaggle/input/parkinsons-brain-mri-dataset/parkinsons_dataset/normal/ep2d_diff_3scan_trace_p2_TRACEW_DFC_058.png\n",
      "/kaggle/input/parkinsons-brain-mri-dataset/parkinsons_dataset/normal/ep2d_diff_3scan_trace_p2_ADC_DFC_023.png\n",
      "/kaggle/input/parkinsons-brain-mri-dataset/parkinsons_dataset/normal/t2_tirm_tra_dark-fluid_006.png\n",
      "/kaggle/input/parkinsons-brain-mri-dataset/parkinsons_dataset/normal/ep2d_diff_3scan_trace_p2_ADC_DFC_022.png\n",
      "/kaggle/input/parkinsons-brain-mri-dataset/parkinsons_dataset/normal/SWI_Images_024.png\n",
      "/kaggle/input/parkinsons-brain-mri-dataset/parkinsons_dataset/normal/ep2d_diff_3scan_trace_p2_ADC_DFC_016.png\n",
      "/kaggle/input/parkinsons-brain-mri-dataset/parkinsons_dataset/normal/t1_fl3d_sag_p4_iso_1.0_015.png\n",
      "/kaggle/input/parkinsons-brain-mri-dataset/parkinsons_dataset/normal/mIP_Images(SW)_061.png\n",
      "/kaggle/input/parkinsons-brain-mri-dataset/parkinsons_dataset/normal/Pha_Images_063.png\n",
      "/kaggle/input/parkinsons-brain-mri-dataset/parkinsons_dataset/normal/t1_fl3d_sag_p4_iso_1.0_141.png\n",
      "/kaggle/input/parkinsons-brain-mri-dataset/parkinsons_dataset/normal/SWI_Images_011.png\n",
      "/kaggle/input/parkinsons-brain-mri-dataset/parkinsons_dataset/normal/ep2d_diff_3scan_trace_p2_ADC_DFC_019.png\n",
      "/kaggle/input/parkinsons-brain-mri-dataset/parkinsons_dataset/normal/t2_tirm_tra_dark-fluid_026.png\n",
      "/kaggle/input/parkinsons-brain-mri-dataset/parkinsons_dataset/normal/Pha_Images_047.png\n",
      "/kaggle/input/parkinsons-brain-mri-dataset/parkinsons_dataset/normal/Pha_Images_053.png\n",
      "/kaggle/input/parkinsons-brain-mri-dataset/parkinsons_dataset/normal/Mag_Images_041.png\n",
      "/kaggle/input/parkinsons-brain-mri-dataset/parkinsons_dataset/normal/mIP_Images(SW)_055.png\n",
      "/kaggle/input/parkinsons-brain-mri-dataset/parkinsons_dataset/normal/t1_fl3d_sag_p4_iso_1.0_062.png\n",
      "/kaggle/input/parkinsons-brain-mri-dataset/parkinsons_dataset/normal/t1_fl3d_sag_p4_iso_1.0_157.png\n",
      "/kaggle/input/parkinsons-brain-mri-dataset/parkinsons_dataset/normal/t2_tse_tra_029.png\n",
      "/kaggle/input/parkinsons-brain-mri-dataset/parkinsons_dataset/normal/mIP_Images(SW)_040.png\n",
      "/kaggle/input/parkinsons-brain-mri-dataset/parkinsons_dataset/normal/t1_fl3d_sag_p4_iso_1.0_053.png\n",
      "/kaggle/input/parkinsons-brain-mri-dataset/parkinsons_dataset/normal/t1_fl3d_sag_p4_iso_1.0_150.png\n",
      "/kaggle/input/parkinsons-brain-mri-dataset/parkinsons_dataset/normal/SWI_Images_020.png\n",
      "/kaggle/input/parkinsons-brain-mri-dataset/parkinsons_dataset/normal/SWI_Images_010.png\n",
      "/kaggle/input/parkinsons-brain-mri-dataset/parkinsons_dataset/normal/t1_fl3d_sag_p4_iso_1.0_021.png\n",
      "/kaggle/input/parkinsons-brain-mri-dataset/parkinsons_dataset/normal/ep2d_diff_3scan_trace_p2_TRACEW_DFC_012.png\n",
      "/kaggle/input/parkinsons-brain-mri-dataset/parkinsons_dataset/normal/mIP_Images(SW)_056.png\n",
      "/kaggle/input/parkinsons-brain-mri-dataset/parkinsons_dataset/normal/Pha_Images_034.png\n",
      "/kaggle/input/parkinsons-brain-mri-dataset/parkinsons_dataset/normal/t1_fl3d_sag_p4_iso_1.0_037.png\n",
      "/kaggle/input/parkinsons-brain-mri-dataset/parkinsons_dataset/normal/ep2d_diff_3scan_trace_p2_ADC_DFC_012.png\n",
      "/kaggle/input/parkinsons-brain-mri-dataset/parkinsons_dataset/normal/Pha_Images_010.png\n",
      "/kaggle/input/parkinsons-brain-mri-dataset/parkinsons_dataset/normal/SWI_Images_038.png\n",
      "/kaggle/input/parkinsons-brain-mri-dataset/parkinsons_dataset/normal/ep2d_diff_3scan_trace_p2_ADC_DFC_030.png\n",
      "/kaggle/input/parkinsons-brain-mri-dataset/parkinsons_dataset/normal/Pha_Images_065.png\n",
      "/kaggle/input/parkinsons-brain-mri-dataset/parkinsons_dataset/normal/t2_tse_tra_027.png\n",
      "/kaggle/input/parkinsons-brain-mri-dataset/parkinsons_dataset/normal/t2_tse_tra_017.png\n",
      "/kaggle/input/parkinsons-brain-mri-dataset/parkinsons_dataset/normal/Pha_Images_046.png\n",
      "/kaggle/input/parkinsons-brain-mri-dataset/parkinsons_dataset/normal/t2_tse_tra_007.png\n",
      "/kaggle/input/parkinsons-brain-mri-dataset/parkinsons_dataset/normal/t2_tse_tra_005.png\n",
      "/kaggle/input/parkinsons-brain-mri-dataset/parkinsons_dataset/normal/Mag_Images_011.png\n",
      "/kaggle/input/parkinsons-brain-mri-dataset/parkinsons_dataset/normal/ep2d_diff_3scan_trace_p2_TRACEW_DFC_040.png\n",
      "/kaggle/input/parkinsons-brain-mri-dataset/parkinsons_dataset/normal/Mag_Images_026.png\n",
      "/kaggle/input/parkinsons-brain-mri-dataset/parkinsons_dataset/normal/t2_tse_tra_008.png\n",
      "/kaggle/input/parkinsons-brain-mri-dataset/parkinsons_dataset/normal/Mag_Images_028.png\n",
      "/kaggle/input/parkinsons-brain-mri-dataset/parkinsons_dataset/normal/mIP_Images(SW)_042.png\n",
      "/kaggle/input/parkinsons-brain-mri-dataset/parkinsons_dataset/normal/ep2d_diff_3scan_trace_p2_TRACEW_DFC_048.png\n",
      "/kaggle/input/parkinsons-brain-mri-dataset/parkinsons_dataset/normal/ep2d_diff_3scan_trace_p2_ADC_DFC_002.png\n",
      "/kaggle/input/parkinsons-brain-mri-dataset/parkinsons_dataset/normal/ep2d_diff_3scan_trace_p2_TRACEW_DFC_043.png\n",
      "/kaggle/input/parkinsons-brain-mri-dataset/parkinsons_dataset/normal/t1_fl3d_sag_p4_iso_1.0_173.png\n",
      "/kaggle/input/parkinsons-brain-mri-dataset/parkinsons_dataset/normal/t1_fl3d_sag_p4_iso_1.0_080.png\n",
      "/kaggle/input/parkinsons-brain-mri-dataset/parkinsons_dataset/normal/t1_fl3d_sag_p4_iso_1.0_091.png\n",
      "/kaggle/input/parkinsons-brain-mri-dataset/parkinsons_dataset/normal/mIP_Images(SW)_001.png\n",
      "/kaggle/input/parkinsons-brain-mri-dataset/parkinsons_dataset/normal/ep2d_diff_3scan_trace_p2_TRACEW_DFC_013.png\n",
      "/kaggle/input/parkinsons-brain-mri-dataset/parkinsons_dataset/normal/Mag_Images_055.png\n",
      "/kaggle/input/parkinsons-brain-mri-dataset/parkinsons_dataset/normal/ep2d_diff_3scan_trace_p2_TRACEW_DFC_042.png\n",
      "/kaggle/input/parkinsons-brain-mri-dataset/parkinsons_dataset/normal/ep2d_diff_3scan_trace_p2_ADC_DFC_013.png\n",
      "/kaggle/input/parkinsons-brain-mri-dataset/parkinsons_dataset/normal/Pha_Images_039.png\n",
      "/kaggle/input/parkinsons-brain-mri-dataset/parkinsons_dataset/normal/Pha_Images_026.png\n",
      "/kaggle/input/parkinsons-brain-mri-dataset/parkinsons_dataset/normal/t2_tse_tra_021.png\n",
      "/kaggle/input/parkinsons-brain-mri-dataset/parkinsons_dataset/normal/t1_fl3d_sag_p4_iso_1.0_072.png\n",
      "/kaggle/input/parkinsons-brain-mri-dataset/parkinsons_dataset/normal/t2_tirm_tra_dark-fluid_008.png\n",
      "/kaggle/input/parkinsons-brain-mri-dataset/parkinsons_dataset/normal/ep2d_diff_3scan_trace_p2_TRACEW_DFC_009.png\n",
      "/kaggle/input/parkinsons-brain-mri-dataset/parkinsons_dataset/normal/Mag_Images_002.png\n",
      "/kaggle/input/parkinsons-brain-mri-dataset/parkinsons_dataset/normal/Pha_Images_037.png\n",
      "/kaggle/input/parkinsons-brain-mri-dataset/parkinsons_dataset/normal/t1_fl3d_sag_p4_iso_1.0_138.png\n",
      "/kaggle/input/parkinsons-brain-mri-dataset/parkinsons_dataset/normal/ep2d_diff_3scan_trace_p2_TRACEW_DFC_007.png\n",
      "/kaggle/input/parkinsons-brain-mri-dataset/parkinsons_dataset/normal/ep2d_diff_3scan_trace_p2_TRACEW_DFC_057.png\n",
      "/kaggle/input/parkinsons-brain-mri-dataset/parkinsons_dataset/normal/Pha_Images_027.png\n",
      "/kaggle/input/parkinsons-brain-mri-dataset/parkinsons_dataset/normal/t1_fl3d_sag_p4_iso_1.0_061.png\n",
      "/kaggle/input/parkinsons-brain-mri-dataset/parkinsons_dataset/normal/Mag_Images_042.png\n",
      "/kaggle/input/parkinsons-brain-mri-dataset/parkinsons_dataset/normal/t2_tirm_tra_dark-fluid_002.png\n",
      "/kaggle/input/parkinsons-brain-mri-dataset/parkinsons_dataset/normal/Pha_Images_001.png\n",
      "/kaggle/input/parkinsons-brain-mri-dataset/parkinsons_dataset/normal/SWI_Images_036.png\n",
      "/kaggle/input/parkinsons-brain-mri-dataset/parkinsons_dataset/normal/t2_tse_tra_022.png\n",
      "/kaggle/input/parkinsons-brain-mri-dataset/parkinsons_dataset/normal/t1_fl3d_sag_p4_iso_1.0_014.png\n",
      "/kaggle/input/parkinsons-brain-mri-dataset/parkinsons_dataset/normal/mIP_Images(SW)_031.png\n",
      "/kaggle/input/parkinsons-brain-mri-dataset/parkinsons_dataset/normal/Mag_Images_005.png\n",
      "/kaggle/input/parkinsons-brain-mri-dataset/parkinsons_dataset/normal/Mag_Images_049.png\n",
      "/kaggle/input/parkinsons-brain-mri-dataset/parkinsons_dataset/normal/SWI_Images_047.png\n",
      "/kaggle/input/parkinsons-brain-mri-dataset/parkinsons_dataset/normal/SWI_Images_004.png\n",
      "/kaggle/input/parkinsons-brain-mri-dataset/parkinsons_dataset/normal/t1_fl3d_sag_p4_iso_1.0_098.png\n",
      "/kaggle/input/parkinsons-brain-mri-dataset/parkinsons_dataset/normal/Pha_Images_006.png\n",
      "/kaggle/input/parkinsons-brain-mri-dataset/parkinsons_dataset/normal/t1_fl3d_sag_p4_iso_1.0_118.png\n",
      "/kaggle/input/parkinsons-brain-mri-dataset/parkinsons_dataset/normal/ep2d_diff_3scan_trace_p2_TRACEW_DFC_060.png\n",
      "/kaggle/input/parkinsons-brain-mri-dataset/parkinsons_dataset/normal/ep2d_diff_3scan_trace_p2_ADC_DFC_007.png\n",
      "/kaggle/input/parkinsons-brain-mri-dataset/parkinsons_dataset/normal/ep2d_diff_3scan_trace_p2_ADC_DFC_027.png\n",
      "/kaggle/input/parkinsons-brain-mri-dataset/parkinsons_dataset/normal/Pha_Images_066.png\n",
      "/kaggle/input/parkinsons-brain-mri-dataset/parkinsons_dataset/normal/Pha_Images_019.png\n",
      "/kaggle/input/parkinsons-brain-mri-dataset/parkinsons_dataset/normal/Mag_Images_017.png\n",
      "/kaggle/input/parkinsons-brain-mri-dataset/parkinsons_dataset/normal/t1_fl3d_sag_p4_iso_1.0_052.png\n",
      "/kaggle/input/parkinsons-brain-mri-dataset/parkinsons_dataset/normal/Pha_Images_008.png\n",
      "/kaggle/input/parkinsons-brain-mri-dataset/parkinsons_dataset/normal/Pha_Images_054.png\n",
      "/kaggle/input/parkinsons-brain-mri-dataset/parkinsons_dataset/normal/ep2d_diff_3scan_trace_p2_TRACEW_DFC_037.png\n",
      "/kaggle/input/parkinsons-brain-mri-dataset/parkinsons_dataset/normal/ep2d_diff_3scan_trace_p2_TRACEW_DFC_005.png\n",
      "/kaggle/input/parkinsons-brain-mri-dataset/parkinsons_dataset/normal/t1_fl3d_sag_p4_iso_1.0_059.png\n",
      "/kaggle/input/parkinsons-brain-mri-dataset/parkinsons_dataset/normal/t1_fl3d_sag_p4_iso_1.0_043.png\n",
      "/kaggle/input/parkinsons-brain-mri-dataset/parkinsons_dataset/normal/t1_fl3d_sag_p4_iso_1.0_028.png\n",
      "/kaggle/input/parkinsons-brain-mri-dataset/parkinsons_dataset/normal/t1_fl3d_sag_p4_iso_1.0_027.png\n",
      "/kaggle/input/parkinsons-brain-mri-dataset/parkinsons_dataset/normal/ep2d_diff_3scan_trace_p2_ADC_DFC_008.png\n",
      "/kaggle/input/parkinsons-brain-mri-dataset/parkinsons_dataset/normal/t1_fl3d_sag_p4_iso_1.0_049.png\n",
      "/kaggle/input/parkinsons-brain-mri-dataset/parkinsons_dataset/normal/t2_tse_tra_014.png\n",
      "/kaggle/input/parkinsons-brain-mri-dataset/parkinsons_dataset/normal/ep2d_diff_3scan_trace_p2_TRACEW_DFC_016.png\n",
      "/kaggle/input/parkinsons-brain-mri-dataset/parkinsons_dataset/normal/SWI_Images_068.png\n",
      "/kaggle/input/parkinsons-brain-mri-dataset/parkinsons_dataset/normal/Mag_Images_044.png\n",
      "/kaggle/input/parkinsons-brain-mri-dataset/parkinsons_dataset/normal/t1_fl3d_sag_p4_iso_1.0_111.png\n",
      "/kaggle/input/parkinsons-brain-mri-dataset/parkinsons_dataset/normal/Pha_Images_011.png\n",
      "/kaggle/input/parkinsons-brain-mri-dataset/parkinsons_dataset/normal/t1_fl3d_sag_p4_iso_1.0_019.png\n",
      "/kaggle/input/parkinsons-brain-mri-dataset/parkinsons_dataset/normal/Mag_Images_024.png\n",
      "/kaggle/input/parkinsons-brain-mri-dataset/parkinsons_dataset/normal/t1_fl3d_sag_p4_iso_1.0_103.png\n",
      "/kaggle/input/parkinsons-brain-mri-dataset/parkinsons_dataset/normal/t1_fl3d_sag_p4_iso_1.0_004.png\n",
      "/kaggle/input/parkinsons-brain-mri-dataset/parkinsons_dataset/normal/t1_fl3d_sag_p4_iso_1.0_042.png\n",
      "/kaggle/input/parkinsons-brain-mri-dataset/parkinsons_dataset/normal/Mag_Images_060.png\n",
      "/kaggle/input/parkinsons-brain-mri-dataset/parkinsons_dataset/normal/ep2d_diff_3scan_trace_p2_TRACEW_DFC_020.png\n",
      "/kaggle/input/parkinsons-brain-mri-dataset/parkinsons_dataset/normal/Mag_Images_015.png\n",
      "/kaggle/input/parkinsons-brain-mri-dataset/parkinsons_dataset/normal/Mag_Images_019.png\n",
      "/kaggle/input/parkinsons-brain-mri-dataset/parkinsons_dataset/normal/t2_tirm_tra_dark-fluid_012.png\n",
      "/kaggle/input/parkinsons-brain-mri-dataset/parkinsons_dataset/normal/t1_fl3d_sag_p4_iso_1.0_149.png\n",
      "/kaggle/input/parkinsons-brain-mri-dataset/parkinsons_dataset/normal/SWI_Images_018.png\n",
      "/kaggle/input/parkinsons-brain-mri-dataset/parkinsons_dataset/normal/mIP_Images(SW)_060.png\n",
      "/kaggle/input/parkinsons-brain-mri-dataset/parkinsons_dataset/normal/ep2d_diff_3scan_trace_p2_TRACEW_DFC_023.png\n",
      "/kaggle/input/parkinsons-brain-mri-dataset/parkinsons_dataset/normal/SWI_Images_012.png\n",
      "/kaggle/input/parkinsons-brain-mri-dataset/parkinsons_dataset/parkinson/DUAL_TSE_042.png\n",
      "/kaggle/input/parkinsons-brain-mri-dataset/parkinsons_dataset/parkinson/Reg_-_sDW_SSh_SENSE_016.png\n",
      "/kaggle/input/parkinsons-brain-mri-dataset/parkinsons_dataset/parkinson/sDW_SSh_034.png\n",
      "/kaggle/input/parkinsons-brain-mri-dataset/parkinsons_dataset/parkinson/sDW_SSh_029.png\n",
      "/kaggle/input/parkinsons-brain-mri-dataset/parkinsons_dataset/parkinson/T2W_TSE_018.png\n",
      "/kaggle/input/parkinsons-brain-mri-dataset/parkinsons_dataset/parkinson/T2W_TSE_015.png\n",
      "/kaggle/input/parkinsons-brain-mri-dataset/parkinsons_dataset/parkinson/T1W_FFE_014.png\n",
      "/kaggle/input/parkinsons-brain-mri-dataset/parkinsons_dataset/parkinson/DUAL_TSE_044.png\n",
      "/kaggle/input/parkinsons-brain-mri-dataset/parkinsons_dataset/parkinson/dReg_-_sDW_SSh_SENSE_021.png\n",
      "/kaggle/input/parkinsons-brain-mri-dataset/parkinsons_dataset/parkinson/T2W_FLAIR_017.png\n",
      "/kaggle/input/parkinsons-brain-mri-dataset/parkinsons_dataset/parkinson/dReg_-_sDW_SSh_SENSE_022.png\n",
      "/kaggle/input/parkinsons-brain-mri-dataset/parkinsons_dataset/parkinson/T2W_FLAIR_009.png\n",
      "/kaggle/input/parkinsons-brain-mri-dataset/parkinsons_dataset/parkinson/dReg_-_sDW_SSh_SENSE_001.png\n",
      "/kaggle/input/parkinsons-brain-mri-dataset/parkinsons_dataset/parkinson/Reg_-_sDW_SSh_SENSE_039.png\n",
      "/kaggle/input/parkinsons-brain-mri-dataset/parkinsons_dataset/parkinson/T2W_FLAIR_016.png\n",
      "/kaggle/input/parkinsons-brain-mri-dataset/parkinsons_dataset/parkinson/T1W_FFE_008.png\n",
      "/kaggle/input/parkinsons-brain-mri-dataset/parkinsons_dataset/parkinson/sDW_SSh_014.png\n",
      "/kaggle/input/parkinsons-brain-mri-dataset/parkinsons_dataset/parkinson/Reg_-_sDW_SSh_SENSE_040.png\n",
      "/kaggle/input/parkinsons-brain-mri-dataset/parkinsons_dataset/parkinson/dReg_-_sDW_SSh_SENSE_009.png\n",
      "/kaggle/input/parkinsons-brain-mri-dataset/parkinsons_dataset/parkinson/Reg_-_sDW_SSh_SENSE_014.png\n",
      "/kaggle/input/parkinsons-brain-mri-dataset/parkinsons_dataset/parkinson/sDW_SSh_038.png\n",
      "/kaggle/input/parkinsons-brain-mri-dataset/parkinsons_dataset/parkinson/T2W_TSE_006.png\n",
      "/kaggle/input/parkinsons-brain-mri-dataset/parkinsons_dataset/parkinson/DUAL_TSE_035.png\n",
      "/kaggle/input/parkinsons-brain-mri-dataset/parkinsons_dataset/parkinson/Reg_-_sDW_SSh_SENSE_023.png\n",
      "/kaggle/input/parkinsons-brain-mri-dataset/parkinsons_dataset/parkinson/DUAL_TSE_009.png\n",
      "/kaggle/input/parkinsons-brain-mri-dataset/parkinsons_dataset/parkinson/T2W_FLAIR_021.png\n",
      "/kaggle/input/parkinsons-brain-mri-dataset/parkinsons_dataset/parkinson/Reg_-_sDW_SSh_SENSE_031.png\n",
      "/kaggle/input/parkinsons-brain-mri-dataset/parkinsons_dataset/parkinson/Reg_-_sDW_SSh_SENSE_034.png\n",
      "/kaggle/input/parkinsons-brain-mri-dataset/parkinsons_dataset/parkinson/dReg_-_sDW_SSh_SENSE_020.png\n",
      "/kaggle/input/parkinsons-brain-mri-dataset/parkinsons_dataset/parkinson/Reg_-_sDW_SSh_SENSE_035.png\n",
      "/kaggle/input/parkinsons-brain-mri-dataset/parkinsons_dataset/parkinson/sDW_SSh_028.png\n",
      "/kaggle/input/parkinsons-brain-mri-dataset/parkinsons_dataset/parkinson/DUAL_TSE_007.png\n",
      "/kaggle/input/parkinsons-brain-mri-dataset/parkinsons_dataset/parkinson/DUAL_TSE_032.png\n",
      "/kaggle/input/parkinsons-brain-mri-dataset/parkinsons_dataset/parkinson/Reg_-_sDW_SSh_SENSE_011.png\n",
      "/kaggle/input/parkinsons-brain-mri-dataset/parkinsons_dataset/parkinson/Reg_-_sDW_SSh_SENSE_010.png\n",
      "/kaggle/input/parkinsons-brain-mri-dataset/parkinsons_dataset/parkinson/dReg_-_sDW_SSh_SENSE_008.png\n",
      "/kaggle/input/parkinsons-brain-mri-dataset/parkinsons_dataset/parkinson/sDW_SSh_009.png\n",
      "/kaggle/input/parkinsons-brain-mri-dataset/parkinsons_dataset/parkinson/T2W_FLAIR_012.png\n",
      "/kaggle/input/parkinsons-brain-mri-dataset/parkinsons_dataset/parkinson/Reg_-_sDW_SSh_SENSE_028.png\n",
      "/kaggle/input/parkinsons-brain-mri-dataset/parkinsons_dataset/parkinson/T2W_TSE_016.png\n",
      "/kaggle/input/parkinsons-brain-mri-dataset/parkinsons_dataset/parkinson/T2W_TSE_009.png\n",
      "/kaggle/input/parkinsons-brain-mri-dataset/parkinsons_dataset/parkinson/DUAL_TSE_030.png\n",
      "/kaggle/input/parkinsons-brain-mri-dataset/parkinsons_dataset/parkinson/T2W_FLAIR_022.png\n",
      "/kaggle/input/parkinsons-brain-mri-dataset/parkinsons_dataset/parkinson/T2W_FLAIR_013.png\n",
      "/kaggle/input/parkinsons-brain-mri-dataset/parkinsons_dataset/parkinson/T1W_FFE_006.png\n",
      "/kaggle/input/parkinsons-brain-mri-dataset/parkinsons_dataset/parkinson/T2W_TSE_012.png\n",
      "/kaggle/input/parkinsons-brain-mri-dataset/parkinsons_dataset/parkinson/T2W_FLAIR_018.png\n",
      "/kaggle/input/parkinsons-brain-mri-dataset/parkinsons_dataset/parkinson/Reg_-_sDW_SSh_SENSE_038.png\n",
      "/kaggle/input/parkinsons-brain-mri-dataset/parkinsons_dataset/parkinson/Survey_SHC_004.png\n",
      "/kaggle/input/parkinsons-brain-mri-dataset/parkinsons_dataset/parkinson/dReg_-_sDW_SSh_SENSE_019.png\n",
      "/kaggle/input/parkinsons-brain-mri-dataset/parkinsons_dataset/parkinson/T1W_FFE_016.png\n",
      "/kaggle/input/parkinsons-brain-mri-dataset/parkinsons_dataset/parkinson/sDW_SSh_036.png\n",
      "/kaggle/input/parkinsons-brain-mri-dataset/parkinsons_dataset/parkinson/DUAL_TSE_034.png\n",
      "/kaggle/input/parkinsons-brain-mri-dataset/parkinsons_dataset/parkinson/sDW_SSh_023.png\n",
      "/kaggle/input/parkinsons-brain-mri-dataset/parkinsons_dataset/parkinson/DUAL_TSE_017.png\n",
      "/kaggle/input/parkinsons-brain-mri-dataset/parkinsons_dataset/parkinson/T2W_TSE_017.png\n",
      "/kaggle/input/parkinsons-brain-mri-dataset/parkinsons_dataset/parkinson/Reg_-_sDW_SSh_SENSE_030.png\n",
      "/kaggle/input/parkinsons-brain-mri-dataset/parkinsons_dataset/parkinson/Reg_-_sDW_SSh_SENSE_024.png\n",
      "/kaggle/input/parkinsons-brain-mri-dataset/parkinsons_dataset/parkinson/sDW_SSh_039.png\n",
      "/kaggle/input/parkinsons-brain-mri-dataset/parkinsons_dataset/parkinson/Reg_-_sDW_SSh_SENSE_021.png\n",
      "/kaggle/input/parkinsons-brain-mri-dataset/parkinsons_dataset/parkinson/DUAL_TSE_003.png\n",
      "/kaggle/input/parkinsons-brain-mri-dataset/parkinsons_dataset/parkinson/T1W_FFE_012.png\n",
      "/kaggle/input/parkinsons-brain-mri-dataset/parkinsons_dataset/parkinson/DUAL_TSE_021.png\n",
      "/kaggle/input/parkinsons-brain-mri-dataset/parkinsons_dataset/parkinson/Reg_-_sDW_SSh_SENSE_022.png\n",
      "/kaggle/input/parkinsons-brain-mri-dataset/parkinsons_dataset/parkinson/sDW_SSh_019.png\n",
      "/kaggle/input/parkinsons-brain-mri-dataset/parkinsons_dataset/parkinson/sDW_SSh_006.png\n",
      "/kaggle/input/parkinsons-brain-mri-dataset/parkinsons_dataset/parkinson/Reg_-_sDW_SSh_SENSE_001.png\n",
      "/kaggle/input/parkinsons-brain-mri-dataset/parkinsons_dataset/parkinson/T1W_FFE_013.png\n",
      "/kaggle/input/parkinsons-brain-mri-dataset/parkinsons_dataset/parkinson/T1W_FFE_010.png\n",
      "/kaggle/input/parkinsons-brain-mri-dataset/parkinsons_dataset/parkinson/DUAL_TSE_026.png\n",
      "/kaggle/input/parkinsons-brain-mri-dataset/parkinsons_dataset/parkinson/Survey_SHC_002.png\n",
      "/kaggle/input/parkinsons-brain-mri-dataset/parkinsons_dataset/parkinson/DUAL_TSE_024.png\n",
      "/kaggle/input/parkinsons-brain-mri-dataset/parkinsons_dataset/parkinson/T2W_FLAIR_006.png\n",
      "/kaggle/input/parkinsons-brain-mri-dataset/parkinsons_dataset/parkinson/T2W_FLAIR_001.png\n",
      "/kaggle/input/parkinsons-brain-mri-dataset/parkinsons_dataset/parkinson/DUAL_TSE_002.png\n",
      "/kaggle/input/parkinsons-brain-mri-dataset/parkinsons_dataset/parkinson/DUAL_TSE_020.png\n",
      "/kaggle/input/parkinsons-brain-mri-dataset/parkinsons_dataset/parkinson/T2W_TSE_007.png\n",
      "/kaggle/input/parkinsons-brain-mri-dataset/parkinsons_dataset/parkinson/T2W_FLAIR_014.png\n",
      "/kaggle/input/parkinsons-brain-mri-dataset/parkinsons_dataset/parkinson/T2W_TSE_011.png\n",
      "/kaggle/input/parkinsons-brain-mri-dataset/parkinsons_dataset/parkinson/T2W_FLAIR_003.png\n",
      "/kaggle/input/parkinsons-brain-mri-dataset/parkinsons_dataset/parkinson/Reg_-_sDW_SSh_SENSE_020.png\n",
      "/kaggle/input/parkinsons-brain-mri-dataset/parkinsons_dataset/parkinson/Reg_-_sDW_SSh_SENSE_037.png\n",
      "/kaggle/input/parkinsons-brain-mri-dataset/parkinsons_dataset/parkinson/dReg_-_sDW_SSh_SENSE_004.png\n",
      "/kaggle/input/parkinsons-brain-mri-dataset/parkinsons_dataset/parkinson/DUAL_TSE_019.png\n",
      "/kaggle/input/parkinsons-brain-mri-dataset/parkinsons_dataset/parkinson/sDW_SSh_008.png\n",
      "/kaggle/input/parkinsons-brain-mri-dataset/parkinsons_dataset/parkinson/T2W_TSE_005.png\n",
      "/kaggle/input/parkinsons-brain-mri-dataset/parkinsons_dataset/parkinson/Survey_SHC_005.png\n",
      "/kaggle/input/parkinsons-brain-mri-dataset/parkinsons_dataset/parkinson/sDW_SSh_033.png\n",
      "/kaggle/input/parkinsons-brain-mri-dataset/parkinsons_dataset/parkinson/sDW_SSh_040.png\n",
      "/kaggle/input/parkinsons-brain-mri-dataset/parkinsons_dataset/parkinson/T1W_FFE_017.png\n",
      "/kaggle/input/parkinsons-brain-mri-dataset/parkinsons_dataset/parkinson/DUAL_TSE_014.png\n",
      "/kaggle/input/parkinsons-brain-mri-dataset/parkinsons_dataset/parkinson/sDW_SSh_013.png\n",
      "/kaggle/input/parkinsons-brain-mri-dataset/parkinsons_dataset/parkinson/DUAL_TSE_022.png\n",
      "/kaggle/input/parkinsons-brain-mri-dataset/parkinsons_dataset/parkinson/sDW_SSh_022.png\n",
      "/kaggle/input/parkinsons-brain-mri-dataset/parkinsons_dataset/parkinson/DUAL_TSE_040.png\n",
      "/kaggle/input/parkinsons-brain-mri-dataset/parkinsons_dataset/parkinson/sDW_SSh_026.png\n",
      "/kaggle/input/parkinsons-brain-mri-dataset/parkinsons_dataset/parkinson/sDW_SSh_001.png\n",
      "/kaggle/input/parkinsons-brain-mri-dataset/parkinsons_dataset/parkinson/dReg_-_sDW_SSh_SENSE_013.png\n",
      "/kaggle/input/parkinsons-brain-mri-dataset/parkinsons_dataset/parkinson/sDW_SSh_032.png\n",
      "/kaggle/input/parkinsons-brain-mri-dataset/parkinsons_dataset/parkinson/Reg_-_sDW_SSh_SENSE_009.png\n",
      "/kaggle/input/parkinsons-brain-mri-dataset/parkinsons_dataset/parkinson/dReg_-_sDW_SSh_SENSE_005.png\n",
      "/kaggle/input/parkinsons-brain-mri-dataset/parkinsons_dataset/parkinson/T1W_FFE_011.png\n",
      "/kaggle/input/parkinsons-brain-mri-dataset/parkinsons_dataset/parkinson/T2W_FLAIR_011.png\n",
      "/kaggle/input/parkinsons-brain-mri-dataset/parkinsons_dataset/parkinson/DUAL_TSE_033.png\n",
      "/kaggle/input/parkinsons-brain-mri-dataset/parkinsons_dataset/parkinson/sDW_SSh_041.png\n",
      "/kaggle/input/parkinsons-brain-mri-dataset/parkinsons_dataset/parkinson/DUAL_TSE_027.png\n",
      "/kaggle/input/parkinsons-brain-mri-dataset/parkinsons_dataset/parkinson/DUAL_TSE_010.png\n",
      "/kaggle/input/parkinsons-brain-mri-dataset/parkinsons_dataset/parkinson/sDW_SSh_030.png\n",
      "/kaggle/input/parkinsons-brain-mri-dataset/parkinsons_dataset/parkinson/sDW_SSh_015.png\n",
      "/kaggle/input/parkinsons-brain-mri-dataset/parkinsons_dataset/parkinson/DUAL_TSE_018.png\n",
      "/kaggle/input/parkinsons-brain-mri-dataset/parkinsons_dataset/parkinson/DUAL_TSE_038.png\n",
      "/kaggle/input/parkinsons-brain-mri-dataset/parkinsons_dataset/parkinson/T1W_FFE_003.png\n",
      "/kaggle/input/parkinsons-brain-mri-dataset/parkinsons_dataset/parkinson/Reg_-_sDW_SSh_SENSE_042.png\n",
      "/kaggle/input/parkinsons-brain-mri-dataset/parkinsons_dataset/parkinson/T1W_FFE_005.png\n",
      "/kaggle/input/parkinsons-brain-mri-dataset/parkinsons_dataset/parkinson/T1W_FFE_020.png\n",
      "/kaggle/input/parkinsons-brain-mri-dataset/parkinsons_dataset/parkinson/Reg_-_sDW_SSh_SENSE_003.png\n",
      "/kaggle/input/parkinsons-brain-mri-dataset/parkinsons_dataset/parkinson/T2W_TSE_004.png\n",
      "/kaggle/input/parkinsons-brain-mri-dataset/parkinsons_dataset/parkinson/sDW_SSh_021.png\n",
      "/kaggle/input/parkinsons-brain-mri-dataset/parkinsons_dataset/parkinson/DUAL_TSE_039.png\n",
      "/kaggle/input/parkinsons-brain-mri-dataset/parkinsons_dataset/parkinson/Reg_-_sDW_SSh_SENSE_032.png\n",
      "/kaggle/input/parkinsons-brain-mri-dataset/parkinsons_dataset/parkinson/T2W_TSE_010.png\n",
      "/kaggle/input/parkinsons-brain-mri-dataset/parkinsons_dataset/parkinson/T2W_FLAIR_008.png\n",
      "/kaggle/input/parkinsons-brain-mri-dataset/parkinsons_dataset/parkinson/DUAL_TSE_015.png\n",
      "/kaggle/input/parkinsons-brain-mri-dataset/parkinsons_dataset/parkinson/dReg_-_sDW_SSh_SENSE_014.png\n",
      "/kaggle/input/parkinsons-brain-mri-dataset/parkinsons_dataset/parkinson/T2W_FLAIR_005.png\n",
      "/kaggle/input/parkinsons-brain-mri-dataset/parkinsons_dataset/parkinson/dReg_-_sDW_SSh_SENSE_006.png\n",
      "/kaggle/input/parkinsons-brain-mri-dataset/parkinsons_dataset/parkinson/DUAL_TSE_012.png\n",
      "/kaggle/input/parkinsons-brain-mri-dataset/parkinsons_dataset/parkinson/T1W_FFE_009.png\n",
      "/kaggle/input/parkinsons-brain-mri-dataset/parkinsons_dataset/parkinson/DUAL_TSE_011.png\n",
      "/kaggle/input/parkinsons-brain-mri-dataset/parkinsons_dataset/parkinson/T2W_FLAIR_010.png\n",
      "/kaggle/input/parkinsons-brain-mri-dataset/parkinsons_dataset/parkinson/Reg_-_sDW_SSh_SENSE_005.png\n",
      "/kaggle/input/parkinsons-brain-mri-dataset/parkinsons_dataset/parkinson/sDW_SSh_005.png\n",
      "/kaggle/input/parkinsons-brain-mri-dataset/parkinsons_dataset/parkinson/T2W_FLAIR_015.png\n",
      "/kaggle/input/parkinsons-brain-mri-dataset/parkinsons_dataset/parkinson/sDW_SSh_017.png\n",
      "/kaggle/input/parkinsons-brain-mri-dataset/parkinsons_dataset/parkinson/dReg_-_sDW_SSh_SENSE_007.png\n",
      "/kaggle/input/parkinsons-brain-mri-dataset/parkinsons_dataset/parkinson/T1W_FFE_004.png\n",
      "/kaggle/input/parkinsons-brain-mri-dataset/parkinsons_dataset/parkinson/Reg_-_sDW_SSh_SENSE_002.png\n",
      "/kaggle/input/parkinsons-brain-mri-dataset/parkinsons_dataset/parkinson/DUAL_TSE_029.png\n",
      "/kaggle/input/parkinsons-brain-mri-dataset/parkinsons_dataset/parkinson/sDW_SSh_007.png\n",
      "/kaggle/input/parkinsons-brain-mri-dataset/parkinsons_dataset/parkinson/T2W_FLAIR_002.png\n",
      "/kaggle/input/parkinsons-brain-mri-dataset/parkinsons_dataset/parkinson/T2W_TSE_002.png\n",
      "/kaggle/input/parkinsons-brain-mri-dataset/parkinsons_dataset/parkinson/DUAL_TSE_025.png\n",
      "/kaggle/input/parkinsons-brain-mri-dataset/parkinsons_dataset/parkinson/dReg_-_sDW_SSh_SENSE_010.png\n",
      "/kaggle/input/parkinsons-brain-mri-dataset/parkinsons_dataset/parkinson/Reg_-_sDW_SSh_SENSE_044.png\n",
      "/kaggle/input/parkinsons-brain-mri-dataset/parkinsons_dataset/parkinson/Reg_-_sDW_SSh_SENSE_007.png\n",
      "/kaggle/input/parkinsons-brain-mri-dataset/parkinsons_dataset/parkinson/Reg_-_sDW_SSh_SENSE_018.png\n",
      "/kaggle/input/parkinsons-brain-mri-dataset/parkinsons_dataset/parkinson/sDW_SSh_035.png\n",
      "/kaggle/input/parkinsons-brain-mri-dataset/parkinsons_dataset/parkinson/dReg_-_sDW_SSh_SENSE_017.png\n",
      "/kaggle/input/parkinsons-brain-mri-dataset/parkinsons_dataset/parkinson/T2W_FLAIR_004.png\n",
      "/kaggle/input/parkinsons-brain-mri-dataset/parkinsons_dataset/parkinson/T2W_TSE_003.png\n",
      "/kaggle/input/parkinsons-brain-mri-dataset/parkinsons_dataset/parkinson/Reg_-_sDW_SSh_SENSE_006.png\n",
      "/kaggle/input/parkinsons-brain-mri-dataset/parkinsons_dataset/parkinson/dReg_-_sDW_SSh_SENSE_011.png\n",
      "/kaggle/input/parkinsons-brain-mri-dataset/parkinsons_dataset/parkinson/sDW_SSh_020.png\n",
      "/kaggle/input/parkinsons-brain-mri-dataset/parkinsons_dataset/parkinson/DUAL_TSE_005.png\n",
      "/kaggle/input/parkinsons-brain-mri-dataset/parkinsons_dataset/parkinson/DUAL_TSE_016.png\n",
      "/kaggle/input/parkinsons-brain-mri-dataset/parkinsons_dataset/parkinson/dReg_-_sDW_SSh_SENSE_018.png\n",
      "/kaggle/input/parkinsons-brain-mri-dataset/parkinsons_dataset/parkinson/sDW_SSh_010.png\n",
      "/kaggle/input/parkinsons-brain-mri-dataset/parkinsons_dataset/parkinson/T1W_FFE_001.png\n",
      "/kaggle/input/parkinsons-brain-mri-dataset/parkinsons_dataset/parkinson/sDW_SSh_025.png\n",
      "/kaggle/input/parkinsons-brain-mri-dataset/parkinsons_dataset/parkinson/DUAL_TSE_013.png\n",
      "/kaggle/input/parkinsons-brain-mri-dataset/parkinsons_dataset/parkinson/dReg_-_sDW_SSh_SENSE_012.png\n",
      "/kaggle/input/parkinsons-brain-mri-dataset/parkinsons_dataset/parkinson/T2W_TSE_008.png\n",
      "/kaggle/input/parkinsons-brain-mri-dataset/parkinsons_dataset/parkinson/sDW_SSh_012.png\n",
      "/kaggle/input/parkinsons-brain-mri-dataset/parkinsons_dataset/parkinson/Reg_-_sDW_SSh_SENSE_027.png\n",
      "/kaggle/input/parkinsons-brain-mri-dataset/parkinsons_dataset/parkinson/Reg_-_sDW_SSh_SENSE_029.png\n",
      "/kaggle/input/parkinsons-brain-mri-dataset/parkinsons_dataset/parkinson/sDW_SSh_024.png\n",
      "/kaggle/input/parkinsons-brain-mri-dataset/parkinsons_dataset/parkinson/Reg_-_sDW_SSh_SENSE_041.png\n",
      "/kaggle/input/parkinsons-brain-mri-dataset/parkinsons_dataset/parkinson/T1W_FFE_007.png\n",
      "/kaggle/input/parkinsons-brain-mri-dataset/parkinsons_dataset/parkinson/Reg_-_sDW_SSh_SENSE_004.png\n",
      "/kaggle/input/parkinsons-brain-mri-dataset/parkinsons_dataset/parkinson/sDW_SSh_043.png\n",
      "/kaggle/input/parkinsons-brain-mri-dataset/parkinsons_dataset/parkinson/Reg_-_sDW_SSh_SENSE_015.png\n",
      "/kaggle/input/parkinsons-brain-mri-dataset/parkinsons_dataset/parkinson/DUAL_TSE_041.png\n",
      "/kaggle/input/parkinsons-brain-mri-dataset/parkinsons_dataset/parkinson/sDW_SSh_027.png\n",
      "/kaggle/input/parkinsons-brain-mri-dataset/parkinsons_dataset/parkinson/Reg_-_sDW_SSh_SENSE_036.png\n",
      "/kaggle/input/parkinsons-brain-mri-dataset/parkinsons_dataset/parkinson/Reg_-_sDW_SSh_SENSE_012.png\n",
      "/kaggle/input/parkinsons-brain-mri-dataset/parkinsons_dataset/parkinson/DUAL_TSE_036.png\n",
      "/kaggle/input/parkinsons-brain-mri-dataset/parkinsons_dataset/parkinson/dReg_-_sDW_SSh_SENSE_003.png\n",
      "/kaggle/input/parkinsons-brain-mri-dataset/parkinsons_dataset/parkinson/dReg_-_sDW_SSh_SENSE_016.png\n",
      "/kaggle/input/parkinsons-brain-mri-dataset/parkinsons_dataset/parkinson/T1W_FFE_022.png\n",
      "/kaggle/input/parkinsons-brain-mri-dataset/parkinsons_dataset/parkinson/T1W_FFE_015.png\n",
      "/kaggle/input/parkinsons-brain-mri-dataset/parkinsons_dataset/parkinson/sDW_SSh_011.png\n",
      "/kaggle/input/parkinsons-brain-mri-dataset/parkinsons_dataset/parkinson/sDW_SSh_016.png\n",
      "/kaggle/input/parkinsons-brain-mri-dataset/parkinsons_dataset/parkinson/sDW_SSh_003.png\n",
      "/kaggle/input/parkinsons-brain-mri-dataset/parkinsons_dataset/parkinson/DUAL_TSE_043.png\n",
      "/kaggle/input/parkinsons-brain-mri-dataset/parkinsons_dataset/parkinson/T2W_FLAIR_020.png\n",
      "/kaggle/input/parkinsons-brain-mri-dataset/parkinsons_dataset/parkinson/DUAL_TSE_037.png\n",
      "/kaggle/input/parkinsons-brain-mri-dataset/parkinsons_dataset/parkinson/dReg_-_sDW_SSh_SENSE_015.png\n",
      "/kaggle/input/parkinsons-brain-mri-dataset/parkinsons_dataset/parkinson/sDW_SSh_004.png\n",
      "/kaggle/input/parkinsons-brain-mri-dataset/parkinsons_dataset/parkinson/Reg_-_sDW_SSh_SENSE_043.png\n",
      "/kaggle/input/parkinsons-brain-mri-dataset/parkinsons_dataset/parkinson/DUAL_TSE_023.png\n",
      "/kaggle/input/parkinsons-brain-mri-dataset/parkinsons_dataset/parkinson/Reg_-_sDW_SSh_SENSE_033.png\n",
      "/kaggle/input/parkinsons-brain-mri-dataset/parkinsons_dataset/parkinson/Reg_-_sDW_SSh_SENSE_025.png\n",
      "/kaggle/input/parkinsons-brain-mri-dataset/parkinsons_dataset/parkinson/DUAL_TSE_004.png\n",
      "/kaggle/input/parkinsons-brain-mri-dataset/parkinsons_dataset/parkinson/T2W_TSE_013.png\n",
      "/kaggle/input/parkinsons-brain-mri-dataset/parkinsons_dataset/parkinson/T2W_FLAIR_007.png\n",
      "/kaggle/input/parkinsons-brain-mri-dataset/parkinsons_dataset/parkinson/Reg_-_sDW_SSh_SENSE_026.png\n",
      "/kaggle/input/parkinsons-brain-mri-dataset/parkinsons_dataset/parkinson/T2W_TSE_014.png\n",
      "/kaggle/input/parkinsons-brain-mri-dataset/parkinsons_dataset/parkinson/sDW_SSh_018.png\n",
      "/kaggle/input/parkinsons-brain-mri-dataset/parkinsons_dataset/parkinson/DUAL_TSE_031.png\n",
      "/kaggle/input/parkinsons-brain-mri-dataset/parkinsons_dataset/parkinson/Reg_-_sDW_SSh_SENSE_008.png\n",
      "/kaggle/input/parkinsons-brain-mri-dataset/parkinsons_dataset/parkinson/T1W_FFE_018.png\n",
      "/kaggle/input/parkinsons-brain-mri-dataset/parkinsons_dataset/parkinson/Survey_SHC_003.png\n",
      "/kaggle/input/parkinsons-brain-mri-dataset/parkinsons_dataset/parkinson/DUAL_TSE_008.png\n",
      "/kaggle/input/parkinsons-brain-mri-dataset/parkinsons_dataset/parkinson/Reg_-_sDW_SSh_SENSE_019.png\n",
      "/kaggle/input/parkinsons-brain-mri-dataset/parkinsons_dataset/parkinson/sDW_SSh_037.png\n",
      "/kaggle/input/parkinsons-brain-mri-dataset/parkinsons_dataset/parkinson/dReg_-_sDW_SSh_SENSE_002.png\n",
      "/kaggle/input/parkinsons-brain-mri-dataset/parkinsons_dataset/parkinson/Survey_SHC_001.png\n",
      "/kaggle/input/parkinsons-brain-mri-dataset/parkinsons_dataset/parkinson/T2W_TSE_001.png\n",
      "/kaggle/input/parkinsons-brain-mri-dataset/parkinsons_dataset/parkinson/Reg_-_sDW_SSh_SENSE_017.png\n",
      "/kaggle/input/parkinsons-brain-mri-dataset/parkinsons_dataset/parkinson/T2W_FLAIR_019.png\n",
      "/kaggle/input/parkinsons-brain-mri-dataset/parkinsons_dataset/parkinson/sDW_SSh_042.png\n",
      "/kaggle/input/parkinsons-brain-mri-dataset/parkinsons_dataset/parkinson/Reg_-_sDW_SSh_SENSE_013.png\n",
      "/kaggle/input/parkinsons-brain-mri-dataset/parkinsons_dataset/parkinson/T1W_FFE_021.png\n",
      "/kaggle/input/parkinsons-brain-mri-dataset/parkinsons_dataset/parkinson/DUAL_TSE_006.png\n",
      "/kaggle/input/parkinsons-brain-mri-dataset/parkinsons_dataset/parkinson/T1W_FFE_019.png\n",
      "/kaggle/input/parkinsons-brain-mri-dataset/parkinsons_dataset/parkinson/DUAL_TSE_001.png\n",
      "/kaggle/input/parkinsons-brain-mri-dataset/parkinsons_dataset/parkinson/sDW_SSh_031.png\n",
      "/kaggle/input/parkinsons-brain-mri-dataset/parkinsons_dataset/parkinson/DUAL_TSE_028.png\n",
      "/kaggle/input/parkinsons-brain-mri-dataset/parkinsons_dataset/parkinson/T1W_FFE_002.png\n",
      "/kaggle/input/parkinsons-brain-mri-dataset/parkinsons_dataset/parkinson/sDW_SSh_044.png\n",
      "/kaggle/input/parkinsons-brain-mri-dataset/parkinsons_dataset/parkinson/sDW_SSh_002.png\n"
     ]
    }
   ],
   "source": [
    "# This Python 3 environment comes with many helpful analytics libraries installed\n",
    "# It is defined by the kaggle/python Docker image: https://github.com/kaggle/docker-python\n",
    "# For example, here's several helpful packages to load\n",
    "\n",
    "import numpy as np # linear algebra\n",
    "import pandas as pd # data processing, CSV file I/O (e.g. pd.read_csv)\n",
    "\n",
    "# Input data files are available in the read-only \"../input/\" directory\n",
    "# For example, running this (by clicking run or pressing Shift+Enter) will list all files under the input directory\n",
    "\n",
    "import os\n",
    "for dirname, _, filenames in os.walk('/kaggle/input'):\n",
    "    for filename in filenames:\n",
    "        print(os.path.join(dirname, filename))\n",
    "\n",
    "# You can write up to 20GB to the current directory (/kaggle/working/) that gets preserved as output when you create a version using \"Save & Run All\" \n",
    "# You can also write temporary files to /kaggle/temp/, but they won't be saved outside of the current session"
   ]
  },
  {
   "cell_type": "markdown",
   "metadata": {},
   "source": [
    "# Import Statements"
   ]
  },
  {
   "cell_type": "code",
   "execution_count": 3,
   "metadata": {
    "execution": {
     "iopub.execute_input": "2022-02-03T17:39:19.570913Z",
     "iopub.status.busy": "2022-02-03T17:39:19.570212Z",
     "iopub.status.idle": "2022-02-03T17:39:25.304866Z",
     "shell.execute_reply": "2022-02-03T17:39:25.304083Z",
     "shell.execute_reply.started": "2022-02-03T17:39:19.570868Z"
    }
   },
   "outputs": [],
   "source": [
    "import warnings \n",
    "warnings.filterwarnings('ignore')\n",
    "import os\n",
    "from zipfile import ZipFile\n",
    "import pandas as pd\n",
    "import numpy as np\n",
    "import matplotlib.pyplot as plt\n",
    "import cv2\n",
    "import tensorflow as tf\n",
    "from tensorflow.keras.preprocessing.image import ImageDataGenerator\n",
    "from sklearn.model_selection import train_test_split\n",
    "from tensorflow.keras.models import Sequential\n",
    "from tensorflow.keras.layers import Dense,MaxPooling2D,Conv2D,Flatten,Dropout,GlobalAveragePooling2D,BatchNormalization\n",
    "from tensorflow.keras.callbacks import EarlyStopping, ModelCheckpoint\n",
    "from tensorflow.keras import regularizers,optimizers\n",
    "from tensorflow.keras.optimizers import Adam\n",
    "from tensorflow.keras.layers import *\n",
    "from tensorflow.keras.regularizers import l2"
   ]
  },
  {
   "cell_type": "code",
   "execution_count": 4,
   "metadata": {
    "execution": {
     "iopub.execute_input": "2022-02-03T17:47:29.768983Z",
     "iopub.status.busy": "2022-02-03T17:47:29.768706Z",
     "iopub.status.idle": "2022-02-03T17:47:29.773131Z",
     "shell.execute_reply": "2022-02-03T17:47:29.772449Z",
     "shell.execute_reply.started": "2022-02-03T17:47:29.768952Z"
    }
   },
   "outputs": [],
   "source": [
    "plt.rcParams['figure.figsize'] = [6,4]"
   ]
  },
  {
   "cell_type": "markdown",
   "metadata": {},
   "source": [
    "# Load Data"
   ]
  },
  {
   "cell_type": "code",
   "execution_count": 101,
   "metadata": {
    "execution": {
     "iopub.execute_input": "2022-02-03T17:40:31.234304Z",
     "iopub.status.busy": "2022-02-03T17:40:31.234009Z",
     "iopub.status.idle": "2022-02-03T17:40:31.238269Z",
     "shell.execute_reply": "2022-02-03T17:40:31.237484Z",
     "shell.execute_reply.started": "2022-02-03T17:40:31.234272Z"
    }
   },
   "outputs": [],
   "source": [
    "images = \"C:\\\\Users\\\\DELL\\\\M.TECH\\\\DEEP LEARNING\\\\prj\\\\P_D_DETECTION\\\\parkinsons_dataset\"\n",
    "# C:\\Users\\DELL\\M.TECH\\DEEP LEARNING\\prj\\P_D_DETECTION\\parkinsons_dataset"
   ]
  },
  {
   "cell_type": "code",
   "execution_count": 102,
   "metadata": {
    "execution": {
     "iopub.execute_input": "2022-02-03T17:40:35.515028Z",
     "iopub.status.busy": "2022-02-03T17:40:35.514454Z",
     "iopub.status.idle": "2022-02-03T17:40:35.523101Z",
     "shell.execute_reply": "2022-02-03T17:40:35.522049Z",
     "shell.execute_reply.started": "2022-02-03T17:40:35.514984Z"
    }
   },
   "outputs": [
    {
     "name": "stdout",
     "output_type": "stream",
     "text": [
      "['normal', 'parkinson']\n"
     ]
    }
   ],
   "source": [
    "folders = os.listdir(images)\n",
    "print(folders)"
   ]
  },
  {
   "cell_type": "code",
   "execution_count": 103,
   "metadata": {
    "execution": {
     "iopub.execute_input": "2022-02-03T17:40:41.059134Z",
     "iopub.status.busy": "2022-02-03T17:40:41.058618Z",
     "iopub.status.idle": "2022-02-03T17:40:41.063513Z",
     "shell.execute_reply": "2022-02-03T17:40:41.062639Z",
     "shell.execute_reply.started": "2022-02-03T17:40:41.059095Z"
    }
   },
   "outputs": [],
   "source": [
    "image_data= []\n",
    "labels = []"
   ]
  },
  {
   "cell_type": "code",
   "execution_count": 104,
   "metadata": {
    "execution": {
     "iopub.execute_input": "2022-02-03T17:40:49.027714Z",
     "iopub.status.busy": "2022-02-03T17:40:49.026961Z",
     "iopub.status.idle": "2022-02-03T17:40:49.032236Z",
     "shell.execute_reply": "2022-02-03T17:40:49.031457Z",
     "shell.execute_reply.started": "2022-02-03T17:40:49.027673Z"
    }
   },
   "outputs": [],
   "source": [
    "label_dict = {\n",
    "    'normal':0,\n",
    "    'parkinson':1}"
   ]
  },
  {
   "cell_type": "code",
   "execution_count": 105,
   "metadata": {
    "execution": {
     "iopub.execute_input": "2022-02-03T17:41:35.530219Z",
     "iopub.status.busy": "2022-02-03T17:41:35.529924Z",
     "iopub.status.idle": "2022-02-03T17:41:40.207036Z",
     "shell.execute_reply": "2022-02-03T17:41:40.206305Z",
     "shell.execute_reply.started": "2022-02-03T17:41:35.530188Z"
    }
   },
   "outputs": [],
   "source": [
    "from tensorflow.keras.preprocessing import image\n",
    "for ix in folders:\n",
    "    path = os.path.join(images,ix)\n",
    "    for im in os.listdir(path):\n",
    "        img = image.load_img(os.path.join(path,im),target_size=((256,256)))\n",
    "        img_array = image.img_to_array(img)\n",
    "        image_data.append(img_array)\n",
    "        labels.append(label_dict[ix])"
   ]
  },
  {
   "cell_type": "code",
   "execution_count": 106,
   "metadata": {
    "execution": {
     "iopub.execute_input": "2022-02-03T17:41:43.653483Z",
     "iopub.status.busy": "2022-02-03T17:41:43.653212Z",
     "iopub.status.idle": "2022-02-03T17:41:43.659494Z",
     "shell.execute_reply": "2022-02-03T17:41:43.658623Z",
     "shell.execute_reply.started": "2022-02-03T17:41:43.653453Z"
    }
   },
   "outputs": [
    {
     "name": "stdout",
     "output_type": "stream",
     "text": [
      "831 831\n"
     ]
    }
   ],
   "source": [
    "print(len(image_data),len(labels))"
   ]
  },
  {
   "cell_type": "code",
   "execution_count": 107,
   "metadata": {
    "execution": {
     "iopub.execute_input": "2022-02-03T17:41:50.161371Z",
     "iopub.status.busy": "2022-02-03T17:41:50.160824Z",
     "iopub.status.idle": "2022-02-03T17:41:50.166265Z",
     "shell.execute_reply": "2022-02-03T17:41:50.165351Z",
     "shell.execute_reply.started": "2022-02-03T17:41:50.161331Z"
    }
   },
   "outputs": [],
   "source": [
    "combined = list(zip(image_data,labels))\n",
    "image_data[:],labels[:] = zip(*combined)"
   ]
  },
  {
   "cell_type": "code",
   "execution_count": 108,
   "metadata": {
    "execution": {
     "iopub.execute_input": "2022-02-03T17:47:00.548142Z",
     "iopub.status.busy": "2022-02-03T17:47:00.547404Z",
     "iopub.status.idle": "2022-02-03T17:47:00.850753Z",
     "shell.execute_reply": "2022-02-03T17:47:00.850044Z",
     "shell.execute_reply.started": "2022-02-03T17:47:00.548100Z"
    }
   },
   "outputs": [
    {
     "data": {
      "image/png": "[encoded data removed]",
      "text/plain": [
       "<Figure size 576x432 with 1 Axes>"
      ]
     },
     "metadata": {
      "needs_background": "light"
     },
     "output_type": "display_data"
    }
   ],
   "source": [
    "import seaborn as sns\n",
    "plt.figure(figsize=(8,6))\n",
    "sns.countplot(labels,palette='husl')\n",
    "plt.title('Count Plot for Image data', fontsize = 15)\n",
    "plt.xlabel('Labels', fontsize = 15)\n",
    "plt.ylabel('Count', fontsize = 15)\n",
    "plt.show()"
   ]
  },
  {
   "cell_type": "code",
   "execution_count": 109,
   "metadata": {
    "execution": {
     "iopub.execute_input": "2022-02-03T17:50:42.039070Z",
     "iopub.status.busy": "2022-02-03T17:50:42.038766Z",
     "iopub.status.idle": "2022-02-03T17:50:42.043911Z",
     "shell.execute_reply": "2022-02-03T17:50:42.042792Z",
     "shell.execute_reply.started": "2022-02-03T17:50:42.039035Z"
    }
   },
   "outputs": [],
   "source": [
    "# imbalanced data"
   ]
  },
  {
   "cell_type": "code",
   "execution_count": 110,
   "metadata": {
    "execution": {
     "iopub.execute_input": "2022-02-03T17:50:56.459584Z",
     "iopub.status.busy": "2022-02-03T17:50:56.459292Z",
     "iopub.status.idle": "2022-02-03T17:50:56.463476Z",
     "shell.execute_reply": "2022-02-03T17:50:56.462773Z",
     "shell.execute_reply.started": "2022-02-03T17:50:56.459532Z"
    }
   },
   "outputs": [],
   "source": [
    "# print(labels)"
   ]
  },
  {
   "cell_type": "markdown",
   "metadata": {},
   "source": [
    "### Shape of data"
   ]
  },
  {
   "cell_type": "code",
   "execution_count": 111,
   "metadata": {
    "execution": {
     "iopub.execute_input": "2022-02-03T18:11:57.599134Z",
     "iopub.status.busy": "2022-02-03T18:11:57.598378Z",
     "iopub.status.idle": "2022-02-03T18:11:57.809220Z",
     "shell.execute_reply": "2022-02-03T18:11:57.808443Z",
     "shell.execute_reply.started": "2022-02-03T18:11:57.599081Z"
    }
   },
   "outputs": [
    {
     "name": "stdout",
     "output_type": "stream",
     "text": [
      "(831, 256, 256, 3) (831,)\n"
     ]
    }
   ],
   "source": [
    "X = np.array(image_data)\n",
    "y = np.array(labels)\n",
    "\n",
    "print(X.shape,y.shape)"
   ]
  },
  {
   "cell_type": "markdown",
   "metadata": {},
   "source": [
    "#  Train_test split"
   ]
  },
  {
   "cell_type": "code",
   "execution_count": 112,
   "metadata": {
    "execution": {
     "iopub.execute_input": "2022-02-03T18:12:06.911925Z",
     "iopub.status.busy": "2022-02-03T18:12:06.911337Z",
     "iopub.status.idle": "2022-02-03T18:12:07.155893Z",
     "shell.execute_reply": "2022-02-03T18:12:07.154925Z",
     "shell.execute_reply.started": "2022-02-03T18:12:06.911879Z"
    }
   },
   "outputs": [
    {
     "name": "stdout",
     "output_type": "stream",
     "text": [
      "Shape of X_train:(664, 256, 256, 3)\n",
      "Shape of y_train:(664, 2)\n",
      "Shape of X_test:(167, 256, 256, 3)\n",
      "Shape of y_test:(167, 2)\n"
     ]
    }
   ],
   "source": [
    "from sklearn.model_selection import train_test_split\n",
    "\n",
    "y_t= tf.keras.utils.to_categorical(y, num_classes=2, dtype='float32')\n",
    "\n",
    "# Slpitting the X and Y label to train and test\n",
    "X_train, X_test, y_train, y_test = train_test_split(X,y_t, test_size=0.2, random_state=10)\n",
    "print(f'Shape of X_train:{X_train.shape}')\n",
    "print(f'Shape of y_train:{y_train.shape}')\n",
    "print(f'Shape of X_test:{X_test.shape}')\n",
    "print(f'Shape of y_test:{y_test.shape}')"
   ]
  },
  {
   "cell_type": "markdown",
   "metadata": {},
   "source": [
    "# Data Generator"
   ]
  },
  {
   "cell_type": "code",
   "execution_count": 21,
   "metadata": {
    "execution": {
     "iopub.execute_input": "2022-02-03T18:12:16.235269Z",
     "iopub.status.busy": "2022-02-03T18:12:16.234787Z",
     "iopub.status.idle": "2022-02-03T18:12:16.240312Z",
     "shell.execute_reply": "2022-02-03T18:12:16.239588Z",
     "shell.execute_reply.started": "2022-02-03T18:12:16.235230Z"
    }
   },
   "outputs": [],
   "source": [
    "train_datagen = ImageDataGenerator(rescale = 1./255.,rotation_range = 40,\n",
    "                                   width_shift_range = 0.2, height_shift_range = 0.2,\n",
    "                                   shear_range = 0.2, zoom_range = 0.2, horizontal_flip = True)\n",
    "\n",
    "test_datagen = ImageDataGenerator( rescale = 1.0/255. )"
   ]
  },
  {
   "cell_type": "code",
   "execution_count": 22,
   "metadata": {
    "execution": {
     "iopub.execute_input": "2022-02-03T18:12:24.829600Z",
     "iopub.status.busy": "2022-02-03T18:12:24.829303Z",
     "iopub.status.idle": "2022-02-03T18:12:24.835178Z",
     "shell.execute_reply": "2022-02-03T18:12:24.834437Z",
     "shell.execute_reply.started": "2022-02-03T18:12:24.829563Z"
    }
   },
   "outputs": [],
   "source": [
    "train_generator = train_datagen.flow(X_train, y_train, shuffle=True)\n",
    "test_generator = test_datagen.flow(X_test, y_test)"
   ]
  },
  {
   "cell_type": "code",
   "execution_count": 23,
   "metadata": {
    "execution": {
     "iopub.execute_input": "2022-02-03T18:13:48.607220Z",
     "iopub.status.busy": "2022-02-03T18:13:48.606476Z",
     "iopub.status.idle": "2022-02-03T18:13:48.612306Z",
     "shell.execute_reply": "2022-02-03T18:13:48.611603Z",
     "shell.execute_reply.started": "2022-02-03T18:13:48.607181Z"
    }
   },
   "outputs": [],
   "source": [
    "# Adding Callback\n",
    "from tensorflow.keras.callbacks import EarlyStopping, ModelCheckpoint\n",
    "keras_callbacks=[EarlyStopping(monitor='val_loss',patience=3,\n",
    "                               mode='min',min_delta=0.01)]"
   ]
  },
  {
   "cell_type": "markdown",
   "metadata": {},
   "source": [
    "# 1: Base CNN Model"
   ]
  },
  {
   "cell_type": "code",
   "execution_count": 24,
   "metadata": {
    "execution": {
     "iopub.execute_input": "2022-02-03T18:15:25.348376Z",
     "iopub.status.busy": "2022-02-03T18:15:25.348090Z",
     "iopub.status.idle": "2022-02-03T18:15:25.421208Z",
     "shell.execute_reply": "2022-02-03T18:15:25.420485Z",
     "shell.execute_reply.started": "2022-02-03T18:15:25.348343Z"
    }
   },
   "outputs": [],
   "source": [
    "model_1=Sequential()\n",
    "model_1.add(Conv2D(256,(3,3),activation='relu',input_shape=X_train.shape[1:]))\n",
    "model_1.add(MaxPooling2D(pool_size=(2,2)))\n",
    "\n",
    "model_1.add(Conv2D(128,(3,3),activation='relu'))\n",
    "model_1.add(MaxPooling2D(pool_size=(2,2)))\n",
    "\n",
    "model_1.add(Conv2D(64,(3,3),activation='relu'))\n",
    "model_1.add(MaxPooling2D(pool_size=(2,2)))\n",
    "\n",
    "model_1.add(Conv2D(32,(3,3),activation='relu'))\n",
    "model_1.add(MaxPooling2D(pool_size=(2,2)))\n",
    "model_1.add(Flatten())\n",
    "\n",
    "model_1.add(Dense(units=32,activation='relu'))\n",
    "model_1.add(Dense(units=2,activation='sigmoid'))"
   ]
  },
  {
   "cell_type": "code",
   "execution_count": 25,
   "metadata": {
    "execution": {
     "iopub.execute_input": "2022-02-03T18:15:30.826613Z",
     "iopub.status.busy": "2022-02-03T18:15:30.826314Z",
     "iopub.status.idle": "2022-02-03T18:15:30.843629Z",
     "shell.execute_reply": "2022-02-03T18:15:30.842938Z",
     "shell.execute_reply.started": "2022-02-03T18:15:30.826581Z"
    }
   },
   "outputs": [],
   "source": [
    "model_1.compile(optimizer='adam',loss='binary_crossentropy',metrics=['accuracy'])"
   ]
  },
  {
   "cell_type": "code",
   "execution_count": 27,
   "metadata": {
    "execution": {
     "iopub.execute_input": "2022-02-03T18:15:37.556245Z",
     "iopub.status.busy": "2022-02-03T18:15:37.555982Z",
     "iopub.status.idle": "2022-02-03T18:16:37.108999Z",
     "shell.execute_reply": "2022-02-03T18:16:37.108259Z",
     "shell.execute_reply.started": "2022-02-03T18:15:37.556215Z"
    }
   },
   "outputs": [
    {
     "name": "stdout",
     "output_type": "stream",
     "text": [
      "Epoch 1/5\n",
      "21/21 [==============================] - 523s 25s/step - loss: 0.5833 - accuracy: 0.7289 - val_loss: 0.5400 - val_accuracy: 0.7545\n",
      "Epoch 2/5\n",
      "21/21 [==============================] - 461s 23s/step - loss: 0.5563 - accuracy: 0.7244 - val_loss: 0.4602 - val_accuracy: 0.7545\n",
      "Epoch 3/5\n",
      "21/21 [==============================] - 476s 23s/step - loss: 0.5637 - accuracy: 0.7289 - val_loss: 0.5075 - val_accuracy: 0.7545\n",
      "Epoch 4/5\n",
      "21/21 [==============================] - 456s 22s/step - loss: 0.5481 - accuracy: 0.7289 - val_loss: 0.4235 - val_accuracy: 0.7545\n",
      "Epoch 5/5\n",
      "21/21 [==============================] - 452s 21s/step - loss: 0.5851 - accuracy: 0.7289 - val_loss: 0.5196 - val_accuracy: 0.7545\n"
     ]
    }
   ],
   "source": [
    "base_model = model_1.fit(train_generator, epochs=5, validation_data=test_generator, validation_steps=len(test_generator),callbacks=keras_callbacks)"
   ]
  },
  {
   "cell_type": "code",
   "execution_count": 28,
   "metadata": {
    "execution": {
     "iopub.execute_input": "2022-02-03T18:18:14.965618Z",
     "iopub.status.busy": "2022-02-03T18:18:14.965316Z",
     "iopub.status.idle": "2022-02-03T18:18:49.022638Z",
     "shell.execute_reply": "2022-02-03T18:18:49.021938Z",
     "shell.execute_reply.started": "2022-02-03T18:18:14.965583Z"
    }
   },
   "outputs": [
    {
     "data": {
      "text/plain": [
       "<matplotlib.legend.Legend at 0x20fad0d3518>"
      ]
     },
     "execution_count": 28,
     "metadata": {},
     "output_type": "execute_result"
    },
    {
     "data": {
      "image/png": "[encoded data removed]",
      "text/plain": [
       "<Figure size 432x288 with 1 Axes>"
      ]
     },
     "metadata": {
      "needs_background": "light"
     },
     "output_type": "display_data"
    }
   ],
   "source": [
    "plt.plot(base_model.history['accuracy'],'r',label='train accuracy')\n",
    "plt.plot(base_model.history['val_accuracy'],'g',label='validation accuracy')\n",
    "plt.legend()"
   ]
  },
  {
   "cell_type": "code",
   "execution_count": 29,
   "metadata": {
    "execution": {
     "iopub.execute_input": "2022-02-03T18:21:10.877342Z",
     "iopub.status.busy": "2022-02-03T18:21:10.876642Z",
     "iopub.status.idle": "2022-02-03T18:21:11.105053Z",
     "shell.execute_reply": "2022-02-03T18:21:11.104408Z",
     "shell.execute_reply.started": "2022-02-03T18:21:10.877301Z"
    }
   },
   "outputs": [
    {
     "data": {
      "text/plain": [
       "<matplotlib.legend.Legend at 0x20fad153d30>"
      ]
     },
     "execution_count": 29,
     "metadata": {},
     "output_type": "execute_result"
    },
    {
     "data": {
      "image/png": "[encoded data removed]",
      "text/plain": [
       "<Figure size 432x288 with 1 Axes>"
      ]
     },
     "metadata": {
      "needs_background": "light"
     },
     "output_type": "display_data"
    }
   ],
   "source": [
    "plt.plot(base_model.history['loss'],'r',label='train loss')\n",
    "plt.plot(base_model.history['val_loss'],'g',label='validation loss')\n",
    "plt.legend()"
   ]
  },
  {
   "cell_type": "raw",
   "metadata": {},
   "source": [
    "# serialize model to JSON\n",
    "model_json = model_1.to_json()\n",
    "with open(\"Base_model_1.json\", \"w\") as json_file:\n",
    "    json_file.write(model_json)\n",
    "# serialize weights to HDF5\n",
    "model_1.save_weights(\"Base_model_1.h5\")"
   ]
  },
  {
   "cell_type": "code",
   "execution_count": 30,
   "metadata": {},
   "outputs": [
    {
     "name": "stdout",
     "output_type": "stream",
     "text": [
      "6/6 [==============================] - 16s 3s/step - loss: 1.4072 - accuracy: 0.7605\n"
     ]
    }
   ],
   "source": [
    "test_scores_model_1 = model_1.evaluate(X_test, y_test)"
   ]
  },
  {
   "cell_type": "code",
   "execution_count": 31,
   "metadata": {},
   "outputs": [],
   "source": [
    "pred_model_1_train=model_1.predict(X_train)"
   ]
  },
  {
   "cell_type": "code",
   "execution_count": 32,
   "metadata": {},
   "outputs": [],
   "source": [
    "pred_model_1_test=model_1.predict(X_test)"
   ]
  },
  {
   "cell_type": "code",
   "execution_count": 33,
   "metadata": {},
   "outputs": [],
   "source": [
    "from sklearn.metrics import classification_report, confusion_matrix\n",
    "def roundoff(arr):\n",
    "    arr[np.argwhere(arr != arr.max())] = 0\n",
    "    arr[np.argwhere(arr == arr.max())] = 1\n",
    "    return arr"
   ]
  },
  {
   "cell_type": "code",
   "execution_count": 35,
   "metadata": {},
   "outputs": [],
   "source": [
    "class_names = ['normal', 'parkinson']"
   ]
  },
  {
   "cell_type": "code",
   "execution_count": 36,
   "metadata": {},
   "outputs": [
    {
     "name": "stdout",
     "output_type": "stream",
     "text": [
      "              precision    recall  f1-score   support\n",
      "\n",
      "      normal       0.73      0.99      0.84       484\n",
      "   parkinson       0.30      0.02      0.03       180\n",
      "\n",
      "   micro avg       0.72      0.72      0.72       664\n",
      "   macro avg       0.51      0.50      0.43       664\n",
      "weighted avg       0.61      0.72      0.62       664\n",
      " samples avg       0.72      0.72      0.72       664\n",
      "\n"
     ]
    }
   ],
   "source": [
    "for labels in pred_model_1_train:\n",
    "    labels = roundoff(labels)\n",
    "\n",
    "print(classification_report(y_train, pred_model_1_train, target_names=class_names))"
   ]
  },
  {
   "cell_type": "code",
   "execution_count": 37,
   "metadata": {},
   "outputs": [
    {
     "name": "stdout",
     "output_type": "stream",
     "text": [
      "              precision    recall  f1-score   support\n",
      "\n",
      "      normal       0.76      0.99      0.86       126\n",
      "   parkinson       0.67      0.05      0.09        41\n",
      "\n",
      "   micro avg       0.76      0.76      0.76       167\n",
      "   macro avg       0.71      0.52      0.48       167\n",
      "weighted avg       0.74      0.76      0.67       167\n",
      " samples avg       0.76      0.76      0.76       167\n",
      "\n"
     ]
    }
   ],
   "source": [
    "for labels in pred_model_1_test:\n",
    "    labels = roundoff(labels)\n",
    "\n",
    "print(classification_report(y_test, pred_model_1_test, target_names=class_names))"
   ]
  },
  {
   "cell_type": "code",
   "execution_count": 52,
   "metadata": {
    "execution": {
     "iopub.execute_input": "2022-02-03T18:50:25.713182Z",
     "iopub.status.busy": "2022-02-03T18:50:25.712675Z",
     "iopub.status.idle": "2022-02-03T18:50:25.717632Z",
     "shell.execute_reply": "2022-02-03T18:50:25.716606Z",
     "shell.execute_reply.started": "2022-02-03T18:50:25.713144Z"
    }
   },
   "outputs": [],
   "source": [
    "# base_model_train = base_model.history['accuracy']\n",
    "# base_model_test = base_model.history['val_accuracy']"
   ]
  },
  {
   "cell_type": "code",
   "execution_count": 41,
   "metadata": {
    "execution": {
     "iopub.execute_input": "2022-02-03T18:35:10.403153Z",
     "iopub.status.busy": "2022-02-03T18:35:10.402566Z",
     "iopub.status.idle": "2022-02-03T18:35:10.409970Z",
     "shell.execute_reply": "2022-02-03T18:35:10.409140Z",
     "shell.execute_reply.started": "2022-02-03T18:35:10.403112Z"
    }
   },
   "outputs": [],
   "source": [
    "score_card = pd.DataFrame(columns=['Model_Name','Train_Accuracy','Train_Loss','Validation_Accuracy','Validation_Loss'])"
   ]
  },
  {
   "cell_type": "code",
   "execution_count": 42,
   "metadata": {
    "execution": {
     "iopub.execute_input": "2022-02-03T18:35:12.585652Z",
     "iopub.status.busy": "2022-02-03T18:35:12.585170Z",
     "iopub.status.idle": "2022-02-03T18:35:12.601735Z",
     "shell.execute_reply": "2022-02-03T18:35:12.600888Z",
     "shell.execute_reply.started": "2022-02-03T18:35:12.585612Z"
    }
   },
   "outputs": [
    {
     "data": {
      "text/html": [
       "<div>\n",
       "<style scoped>\n",
       "    .dataframe tbody tr th:only-of-type {\n",
       "        vertical-align: middle;\n",
       "    }\n",
       "\n",
       "    .dataframe tbody tr th {\n",
       "        vertical-align: top;\n",
       "    }\n",
       "\n",
       "    .dataframe thead th {\n",
       "        text-align: right;\n",
       "    }\n",
       "</style>\n",
       "<table border=\"1\" class=\"dataframe\">\n",
       "  <thead>\n",
       "    <tr style=\"text-align: right;\">\n",
       "      <th></th>\n",
       "      <th>Model_Name</th>\n",
       "      <th>Train_Accuracy</th>\n",
       "      <th>Train_Loss</th>\n",
       "      <th>Validation_Accuracy</th>\n",
       "      <th>Validation_Loss</th>\n",
       "    </tr>\n",
       "  </thead>\n",
       "  <tbody>\n",
       "    <tr>\n",
       "      <th>0</th>\n",
       "      <td>Base Model_1</td>\n",
       "      <td>0.728916</td>\n",
       "      <td>0.536628</td>\n",
       "      <td>0.754491</td>\n",
       "      <td>0.46915</td>\n",
       "    </tr>\n",
       "  </tbody>\n",
       "</table>\n",
       "</div>"
      ],
      "text/plain": [
       "     Model_Name  Train_Accuracy  Train_Loss  Validation_Accuracy  \\\n",
       "0  Base Model_1        0.728916    0.536628             0.754491   \n",
       "\n",
       "   Validation_Loss  \n",
       "0          0.46915  "
      ]
     },
     "execution_count": 42,
     "metadata": {},
     "output_type": "execute_result"
    }
   ],
   "source": [
    "score = pd.Series({'Model_Name':'Base Model_1','Train_Accuracy':base_model.history['accuracy'][-1],'Train_Loss':base_model.history['loss'][-1],'Validation_Accuracy':base_model.history['val_accuracy'][-1],'Validation_Loss':base_model.history['val_loss'][-1]})\n",
    "score_card=score_card.append(score,ignore_index=True)\n",
    "score_card"
   ]
  },
  {
   "cell_type": "markdown",
   "metadata": {},
   "source": [
    "# SMOTE"
   ]
  },
  {
   "cell_type": "code",
   "execution_count": 28,
   "metadata": {
    "execution": {
     "iopub.execute_input": "2022-02-03T18:24:12.482243Z",
     "iopub.status.busy": "2022-02-03T18:24:12.481962Z",
     "iopub.status.idle": "2022-02-03T18:24:39.764563Z",
     "shell.execute_reply": "2022-02-03T18:24:39.763783Z",
     "shell.execute_reply.started": "2022-02-03T18:24:12.482212Z"
    }
   },
   "outputs": [],
   "source": [
    "from imblearn.over_sampling import SMOTE\n",
    "sm = SMOTE(random_state=42)\n",
    "\n",
    "X_res, y_res = sm.fit_resample(X.reshape(X.shape[0], -1), y)\n",
    "X_res = X_res.reshape(X_res.shape[0], 256, 256, 3)"
   ]
  },
  {
   "cell_type": "code",
   "execution_count": 30,
   "metadata": {
    "execution": {
     "iopub.execute_input": "2022-02-03T18:25:09.074362Z",
     "iopub.status.busy": "2022-02-03T18:25:09.073603Z",
     "iopub.status.idle": "2022-02-03T18:25:09.082099Z",
     "shell.execute_reply": "2022-02-03T18:25:09.081375Z",
     "shell.execute_reply.started": "2022-02-03T18:25:09.074320Z"
    }
   },
   "outputs": [
    {
     "name": "stdout",
     "output_type": "stream",
     "text": [
      "(1220, 256, 256, 3) (1220,)\n"
     ]
    }
   ],
   "source": [
    "print(X_res.shape,y_res.shape)"
   ]
  },
  {
   "cell_type": "code",
   "execution_count": 31,
   "metadata": {
    "execution": {
     "iopub.execute_input": "2022-02-03T18:26:11.715840Z",
     "iopub.status.busy": "2022-02-03T18:26:11.715526Z",
     "iopub.status.idle": "2022-02-03T18:26:11.888958Z",
     "shell.execute_reply": "2022-02-03T18:26:11.888236Z",
     "shell.execute_reply.started": "2022-02-03T18:26:11.715808Z"
    }
   },
   "outputs": [
    {
     "data": {
      "image/png": "[encoded data removed]",
      "text/plain": [
       "<Figure size 576x432 with 1 Axes>"
      ]
     },
     "metadata": {
      "needs_background": "light"
     },
     "output_type": "display_data"
    }
   ],
   "source": [
    "import seaborn as sns\n",
    "plt.figure(figsize=(8,6))\n",
    "sns.countplot(y_res,palette='husl')\n",
    "plt.title('Count Plot for Image data', fontsize = 15)\n",
    "plt.xlabel('Labels', fontsize = 15)\n",
    "plt.ylabel('Count', fontsize = 15)\n",
    "plt.show()"
   ]
  },
  {
   "cell_type": "code",
   "execution_count": 32,
   "metadata": {
    "execution": {
     "iopub.execute_input": "2022-02-03T18:26:54.500190Z",
     "iopub.status.busy": "2022-02-03T18:26:54.499457Z",
     "iopub.status.idle": "2022-02-03T18:26:54.785431Z",
     "shell.execute_reply": "2022-02-03T18:26:54.784671Z",
     "shell.execute_reply.started": "2022-02-03T18:26:54.500144Z"
    }
   },
   "outputs": [
    {
     "name": "stdout",
     "output_type": "stream",
     "text": [
      "Shape of X_train:(976, 256, 256, 3)\n",
      "Shape of y_train:(976, 2)\n",
      "Shape of X_test:(244, 256, 256, 3)\n",
      "Shape of y_test:(244, 2)\n"
     ]
    }
   ],
   "source": [
    "from sklearn.model_selection import train_test_split\n",
    "\n",
    "y_t_sm= tf.keras.utils.to_categorical(y_res, num_classes=2, dtype='float32')\n",
    "\n",
    "# Slpitting the X and Y label to train and test\n",
    "X_train_sm, X_test_sm, y_train_sm, y_test_sm = train_test_split(X_res,y_t_sm, test_size=0.2, random_state=10)\n",
    "print(f'Shape of X_train:{X_train_sm.shape}')\n",
    "print(f'Shape of y_train:{y_train_sm.shape}')\n",
    "print(f'Shape of X_test:{X_test_sm.shape}')\n",
    "print(f'Shape of y_test:{y_test_sm.shape}')"
   ]
  },
  {
   "cell_type": "code",
   "execution_count": 33,
   "metadata": {
    "execution": {
     "iopub.execute_input": "2022-02-03T18:27:26.717965Z",
     "iopub.status.busy": "2022-02-03T18:27:26.717215Z",
     "iopub.status.idle": "2022-02-03T18:27:26.723317Z",
     "shell.execute_reply": "2022-02-03T18:27:26.722437Z",
     "shell.execute_reply.started": "2022-02-03T18:27:26.717923Z"
    }
   },
   "outputs": [],
   "source": [
    "train_generator_sm = train_datagen.flow(X_train_sm, y_train_sm, shuffle=True)\n",
    "test_generator_sm = test_datagen.flow(X_test_sm, y_test_sm)"
   ]
  },
  {
   "cell_type": "markdown",
   "metadata": {},
   "source": [
    "#  Base CNN model after appling smote"
   ]
  },
  {
   "cell_type": "code",
   "execution_count": 35,
   "metadata": {
    "execution": {
     "iopub.execute_input": "2022-02-03T18:28:54.606007Z",
     "iopub.status.busy": "2022-02-03T18:28:54.605727Z",
     "iopub.status.idle": "2022-02-03T18:28:54.673967Z",
     "shell.execute_reply": "2022-02-03T18:28:54.673208Z",
     "shell.execute_reply.started": "2022-02-03T18:28:54.605977Z"
    }
   },
   "outputs": [],
   "source": [
    "model_2=Sequential()\n",
    "model_2.add(Conv2D(256,(3,3),activation='relu',input_shape=X_train_sm.shape[1:]))\n",
    "model_2.add(MaxPooling2D(pool_size=(2,2)))\n",
    "\n",
    "model_2.add(Conv2D(128,(3,3),activation='relu'))\n",
    "model_2.add(MaxPooling2D(pool_size=(2,2)))\n",
    "\n",
    "model_2.add(Conv2D(64,(3,3),activation='relu'))\n",
    "model_2.add(MaxPooling2D(pool_size=(2,2)))\n",
    "\n",
    "model_2.add(Conv2D(32,(3,3),activation='relu'))\n",
    "model_2.add(MaxPooling2D(pool_size=(2,2)))\n",
    "\n",
    "model_2.add(Flatten())\n",
    "\n",
    "model_2.add(Dense(units=32,activation='relu'))\n",
    "model_2.add(Dense(units=2,activation='sigmoid'))"
   ]
  },
  {
   "cell_type": "code",
   "execution_count": 36,
   "metadata": {
    "execution": {
     "iopub.execute_input": "2022-02-03T18:29:04.189249Z",
     "iopub.status.busy": "2022-02-03T18:29:04.188643Z",
     "iopub.status.idle": "2022-02-03T18:29:04.199654Z",
     "shell.execute_reply": "2022-02-03T18:29:04.198893Z",
     "shell.execute_reply.started": "2022-02-03T18:29:04.189211Z"
    }
   },
   "outputs": [],
   "source": [
    "model_2.compile(optimizer='adam',loss='binary_crossentropy',metrics=['accuracy'])"
   ]
  },
  {
   "cell_type": "code",
   "execution_count": 37,
   "metadata": {
    "execution": {
     "iopub.execute_input": "2022-02-03T18:29:25.165216Z",
     "iopub.status.busy": "2022-02-03T18:29:25.164428Z",
     "iopub.status.idle": "2022-02-03T18:33:04.148467Z",
     "shell.execute_reply": "2022-02-03T18:33:04.147741Z",
     "shell.execute_reply.started": "2022-02-03T18:29:25.165171Z"
    }
   },
   "outputs": [
    {
     "name": "stdout",
     "output_type": "stream",
     "text": [
      "Epoch 1/30\n",
      "31/31 [==============================] - 17s 531ms/step - loss: 0.6533 - accuracy: 0.5727 - val_loss: 0.6136 - val_accuracy: 0.6434\n",
      "Epoch 2/30\n",
      "31/31 [==============================] - 14s 464ms/step - loss: 0.6068 - accuracy: 0.6547 - val_loss: 0.4937 - val_accuracy: 0.7705\n",
      "Epoch 3/30\n",
      "31/31 [==============================] - 15s 475ms/step - loss: 0.6200 - accuracy: 0.6055 - val_loss: 0.6118 - val_accuracy: 0.6598\n",
      "Epoch 4/30\n",
      "31/31 [==============================] - 14s 455ms/step - loss: 0.5717 - accuracy: 0.6742 - val_loss: 0.3662 - val_accuracy: 0.8730\n",
      "Epoch 5/30\n",
      "31/31 [==============================] - 15s 472ms/step - loss: 0.4858 - accuracy: 0.7756 - val_loss: 0.4275 - val_accuracy: 0.8115\n",
      "Epoch 6/30\n",
      "31/31 [==============================] - 14s 456ms/step - loss: 0.4808 - accuracy: 0.8074 - val_loss: 0.2400 - val_accuracy: 0.9262\n",
      "Epoch 7/30\n",
      "31/31 [==============================] - 14s 454ms/step - loss: 0.4174 - accuracy: 0.8156 - val_loss: 0.2410 - val_accuracy: 0.9180\n",
      "Epoch 8/30\n",
      "31/31 [==============================] - 15s 474ms/step - loss: 0.3367 - accuracy: 0.8709 - val_loss: 0.1821 - val_accuracy: 0.9262\n",
      "Epoch 9/30\n",
      "31/31 [==============================] - 14s 449ms/step - loss: 0.2844 - accuracy: 0.8801 - val_loss: 0.1658 - val_accuracy: 0.9426\n",
      "Epoch 10/30\n",
      "31/31 [==============================] - 15s 469ms/step - loss: 0.2557 - accuracy: 0.8893 - val_loss: 0.1968 - val_accuracy: 0.9344\n",
      "Epoch 11/30\n",
      "31/31 [==============================] - 14s 446ms/step - loss: 0.2379 - accuracy: 0.9057 - val_loss: 0.1090 - val_accuracy: 0.9754\n",
      "Epoch 12/30\n",
      "31/31 [==============================] - 14s 458ms/step - loss: 0.1969 - accuracy: 0.9385 - val_loss: 0.0724 - val_accuracy: 0.9877\n",
      "Epoch 13/30\n",
      "31/31 [==============================] - 14s 453ms/step - loss: 0.1586 - accuracy: 0.9385 - val_loss: 0.1338 - val_accuracy: 0.9385\n",
      "Epoch 14/30\n",
      "31/31 [==============================] - 14s 456ms/step - loss: 0.1906 - accuracy: 0.9365 - val_loss: 0.1489 - val_accuracy: 0.9303\n",
      "Epoch 15/30\n",
      "31/31 [==============================] - 15s 490ms/step - loss: 0.1546 - accuracy: 0.9344 - val_loss: 0.1186 - val_accuracy: 0.9590\n"
     ]
    }
   ],
   "source": [
    "base_model_smote = model_2.fit(train_generator_sm, epochs=30, validation_data=test_generator_sm, validation_steps=len(test_generator_sm),callbacks=keras_callbacks)"
   ]
  },
  {
   "cell_type": "code",
   "execution_count": 38,
   "metadata": {
    "execution": {
     "iopub.execute_input": "2022-02-03T18:33:38.646365Z",
     "iopub.status.busy": "2022-02-03T18:33:38.646091Z",
     "iopub.status.idle": "2022-02-03T18:34:11.035901Z",
     "shell.execute_reply": "2022-02-03T18:34:11.035184Z",
     "shell.execute_reply.started": "2022-02-03T18:33:38.646335Z"
    }
   },
   "outputs": [
    {
     "data": {
      "text/plain": [
       "<matplotlib.legend.Legend at 0x7fc734fa0cd0>"
      ]
     },
     "execution_count": 38,
     "metadata": {},
     "output_type": "execute_result"
    },
    {
     "data": {
      "image/png": "[encoded data removed]",
      "text/plain": [
       "<Figure size 432x288 with 1 Axes>"
      ]
     },
     "metadata": {
      "needs_background": "light"
     },
     "output_type": "display_data"
    }
   ],
   "source": [
    "plt.plot(base_model_smote.history['accuracy'],'r',label='train accuracy')\n",
    "plt.plot(base_model_smote.history['val_accuracy'],'g',label='validation accuracy')\n",
    "plt.legend()"
   ]
  },
  {
   "cell_type": "code",
   "execution_count": 39,
   "metadata": {
    "execution": {
     "iopub.execute_input": "2022-02-03T18:34:18.412081Z",
     "iopub.status.busy": "2022-02-03T18:34:18.411558Z",
     "iopub.status.idle": "2022-02-03T18:34:18.632058Z",
     "shell.execute_reply": "2022-02-03T18:34:18.631394Z",
     "shell.execute_reply.started": "2022-02-03T18:34:18.412041Z"
    }
   },
   "outputs": [
    {
     "data": {
      "text/plain": [
       "<matplotlib.legend.Legend at 0x7fc734f1b1d0>"
      ]
     },
     "execution_count": 39,
     "metadata": {},
     "output_type": "execute_result"
    },
    {
     "data": {
      "image/png": "[encoded data removed]",
      "text/plain": [
       "<Figure size 432x288 with 1 Axes>"
      ]
     },
     "metadata": {
      "needs_background": "light"
     },
     "output_type": "display_data"
    }
   ],
   "source": [
    "plt.plot(base_model_smote.history['loss'],'r',label='train loss')\n",
    "plt.plot(base_model_smote.history['val_loss'],'g',label='validation loss')\n",
    "plt.legend()"
   ]
  },
  {
   "cell_type": "raw",
   "metadata": {},
   "source": [
    "# serialize model to JSON\n",
    "model_json = model_2.to_json()\n",
    "with open(\"SmoteModel_2.json\", \"w\") as json_file:\n",
    "    json_file.write(model_json)\n",
    "# serialize weights to HDF5\n",
    "model_2.save_weights(\"SmoteModel_2.h5\")"
   ]
  },
  {
   "cell_type": "code",
   "execution_count": 53,
   "metadata": {
    "execution": {
     "iopub.execute_input": "2022-02-03T18:51:36.565613Z",
     "iopub.status.busy": "2022-02-03T18:51:36.565311Z",
     "iopub.status.idle": "2022-02-03T18:51:36.569938Z",
     "shell.execute_reply": "2022-02-03T18:51:36.568959Z",
     "shell.execute_reply.started": "2022-02-03T18:51:36.565579Z"
    }
   },
   "outputs": [],
   "source": [
    "# model2_train = base_model_smote.history['accuracy']\n",
    "# model2_test = base_model_smote.history['val_accuracy']"
   ]
  },
  {
   "cell_type": "code",
   "execution_count": 43,
   "metadata": {
    "execution": {
     "iopub.execute_input": "2022-02-03T18:35:32.896648Z",
     "iopub.status.busy": "2022-02-03T18:35:32.896370Z",
     "iopub.status.idle": "2022-02-03T18:35:32.913664Z",
     "shell.execute_reply": "2022-02-03T18:35:32.912807Z",
     "shell.execute_reply.started": "2022-02-03T18:35:32.896616Z"
    }
   },
   "outputs": [
    {
     "data": {
      "text/html": [
       "<div>\n",
       "<style scoped>\n",
       "    .dataframe tbody tr th:only-of-type {\n",
       "        vertical-align: middle;\n",
       "    }\n",
       "\n",
       "    .dataframe tbody tr th {\n",
       "        vertical-align: top;\n",
       "    }\n",
       "\n",
       "    .dataframe thead th {\n",
       "        text-align: right;\n",
       "    }\n",
       "</style>\n",
       "<table border=\"1\" class=\"dataframe\">\n",
       "  <thead>\n",
       "    <tr style=\"text-align: right;\">\n",
       "      <th></th>\n",
       "      <th>Model_Name</th>\n",
       "      <th>Train_Accuracy</th>\n",
       "      <th>Train_Loss</th>\n",
       "      <th>Validation_Accuracy</th>\n",
       "      <th>Validation_Loss</th>\n",
       "    </tr>\n",
       "  </thead>\n",
       "  <tbody>\n",
       "    <tr>\n",
       "      <th>0</th>\n",
       "      <td>Base Model_1</td>\n",
       "      <td>0.728916</td>\n",
       "      <td>0.536628</td>\n",
       "      <td>0.754491</td>\n",
       "      <td>0.469150</td>\n",
       "    </tr>\n",
       "    <tr>\n",
       "      <th>1</th>\n",
       "      <td>Base_model_smote_2</td>\n",
       "      <td>0.934426</td>\n",
       "      <td>0.154563</td>\n",
       "      <td>0.959016</td>\n",
       "      <td>0.118624</td>\n",
       "    </tr>\n",
       "  </tbody>\n",
       "</table>\n",
       "</div>"
      ],
      "text/plain": [
       "           Model_Name  Train_Accuracy  Train_Loss  Validation_Accuracy  \\\n",
       "0        Base Model_1        0.728916    0.536628             0.754491   \n",
       "1  Base_model_smote_2        0.934426    0.154563             0.959016   \n",
       "\n",
       "   Validation_Loss  \n",
       "0         0.469150  \n",
       "1         0.118624  "
      ]
     },
     "execution_count": 43,
     "metadata": {},
     "output_type": "execute_result"
    }
   ],
   "source": [
    "score = pd.Series({'Model_Name':'Base_model_smote_2','Train_Accuracy':base_model_smote.history['accuracy'][-1],'Train_Loss':base_model_smote.history['loss'][-1],'Validation_Accuracy':base_model_smote.history['val_accuracy'][-1],'Validation_Loss':base_model_smote.history['val_loss'][-1]})\n",
    "score_card=score_card.append(score,ignore_index=True)\n",
    "score_card"
   ]
  },
  {
   "cell_type": "markdown",
   "metadata": {},
   "source": [
    "# Cnn model with modification"
   ]
  },
  {
   "cell_type": "code",
   "execution_count": 46,
   "metadata": {
    "execution": {
     "iopub.execute_input": "2022-02-03T18:39:47.758922Z",
     "iopub.status.busy": "2022-02-03T18:39:47.758387Z",
     "iopub.status.idle": "2022-02-03T18:39:47.828887Z",
     "shell.execute_reply": "2022-02-03T18:39:47.828117Z",
     "shell.execute_reply.started": "2022-02-03T18:39:47.758879Z"
    }
   },
   "outputs": [],
   "source": [
    "model3=Sequential()\n",
    "model3.add(Conv2D(128,(3,3),activation='relu',input_shape=X_train_sm.shape[1:]))\n",
    "model3.add(MaxPooling2D(pool_size=(2,2)))\n",
    "\n",
    "model3.add(Conv2D(64,(3,3),activation='relu'))\n",
    "model3.add(MaxPooling2D(pool_size=(2,2)))\n",
    "\n",
    "model3.add(Conv2D(16,(3,3),activation='relu'))\n",
    "model3.add(MaxPooling2D(pool_size=(2,2)))\n",
    "model3.add(Flatten())\n",
    "\n",
    "model3.add(Dense(units=32,activation='relu'))\n",
    "model3.add(Dense(units=16,activation='relu'))\n",
    "model3.add(Dense(units=2,activation='sigmoid'))"
   ]
  },
  {
   "cell_type": "code",
   "execution_count": 47,
   "metadata": {
    "execution": {
     "iopub.execute_input": "2022-02-03T18:39:51.779798Z",
     "iopub.status.busy": "2022-02-03T18:39:51.778910Z",
     "iopub.status.idle": "2022-02-03T18:39:51.790568Z",
     "shell.execute_reply": "2022-02-03T18:39:51.789659Z",
     "shell.execute_reply.started": "2022-02-03T18:39:51.779754Z"
    }
   },
   "outputs": [],
   "source": [
    "model3.compile(optimizer='adam',loss='binary_crossentropy',metrics=['accuracy'])"
   ]
  },
  {
   "cell_type": "code",
   "execution_count": 48,
   "metadata": {
    "execution": {
     "iopub.execute_input": "2022-02-03T18:39:57.753339Z",
     "iopub.status.busy": "2022-02-03T18:39:57.752480Z",
     "iopub.status.idle": "2022-02-03T18:43:58.909553Z",
     "shell.execute_reply": "2022-02-03T18:43:58.908820Z",
     "shell.execute_reply.started": "2022-02-03T18:39:57.753287Z"
    }
   },
   "outputs": [
    {
     "name": "stdout",
     "output_type": "stream",
     "text": [
      "Epoch 1/30\n",
      "31/31 [==============================] - 15s 433ms/step - loss: 0.6723 - accuracy: 0.5605 - val_loss: 0.6435 - val_accuracy: 0.5984\n",
      "Epoch 2/30\n",
      "31/31 [==============================] - 13s 419ms/step - loss: 0.6265 - accuracy: 0.6250 - val_loss: 0.5942 - val_accuracy: 0.6680\n",
      "Epoch 3/30\n",
      "31/31 [==============================] - 14s 436ms/step - loss: 0.6091 - accuracy: 0.6752 - val_loss: 0.4813 - val_accuracy: 0.7664\n",
      "Epoch 4/30\n",
      "31/31 [==============================] - 13s 413ms/step - loss: 0.5242 - accuracy: 0.7316 - val_loss: 0.3792 - val_accuracy: 0.8811\n",
      "Epoch 5/30\n",
      "31/31 [==============================] - 14s 436ms/step - loss: 0.5155 - accuracy: 0.7643 - val_loss: 0.3776 - val_accuracy: 0.8811\n",
      "Epoch 6/30\n",
      "31/31 [==============================] - 13s 420ms/step - loss: 0.4366 - accuracy: 0.8105 - val_loss: 0.2662 - val_accuracy: 0.9057\n",
      "Epoch 7/30\n",
      "31/31 [==============================] - 14s 442ms/step - loss: 0.4227 - accuracy: 0.8115 - val_loss: 0.2619 - val_accuracy: 0.9016\n",
      "Epoch 8/30\n",
      "31/31 [==============================] - 13s 413ms/step - loss: 0.3589 - accuracy: 0.8412 - val_loss: 0.3234 - val_accuracy: 0.8975\n",
      "Epoch 9/30\n",
      "31/31 [==============================] - 13s 411ms/step - loss: 0.3546 - accuracy: 0.8473 - val_loss: 0.2006 - val_accuracy: 0.9426\n",
      "Epoch 10/30\n",
      "31/31 [==============================] - 13s 434ms/step - loss: 0.3000 - accuracy: 0.8781 - val_loss: 0.1772 - val_accuracy: 0.9344\n",
      "Epoch 11/30\n",
      "31/31 [==============================] - 13s 418ms/step - loss: 0.2760 - accuracy: 0.8893 - val_loss: 0.1771 - val_accuracy: 0.9221\n",
      "Epoch 12/30\n",
      "31/31 [==============================] - 13s 432ms/step - loss: 0.2357 - accuracy: 0.9109 - val_loss: 0.1648 - val_accuracy: 0.9385\n",
      "Epoch 13/30\n",
      "31/31 [==============================] - 13s 417ms/step - loss: 0.2165 - accuracy: 0.9119 - val_loss: 0.1793 - val_accuracy: 0.9344\n",
      "Epoch 14/30\n",
      "31/31 [==============================] - 14s 451ms/step - loss: 0.1831 - accuracy: 0.9303 - val_loss: 0.1248 - val_accuracy: 0.9549\n",
      "Epoch 15/30\n",
      "31/31 [==============================] - 13s 414ms/step - loss: 0.1516 - accuracy: 0.9436 - val_loss: 0.2472 - val_accuracy: 0.9262\n",
      "Epoch 16/30\n",
      "31/31 [==============================] - 13s 416ms/step - loss: 0.1534 - accuracy: 0.9334 - val_loss: 0.1589 - val_accuracy: 0.9426\n",
      "Epoch 17/30\n",
      "31/31 [==============================] - 14s 440ms/step - loss: 0.1410 - accuracy: 0.9539 - val_loss: 0.1629 - val_accuracy: 0.9508\n"
     ]
    }
   ],
   "source": [
    "model_3 = model3.fit(train_generator_sm, epochs=30, validation_data=test_generator_sm, validation_steps=len(test_generator_sm),callbacks=keras_callbacks)"
   ]
  },
  {
   "cell_type": "code",
   "execution_count": 49,
   "metadata": {
    "execution": {
     "iopub.execute_input": "2022-02-03T18:44:43.620951Z",
     "iopub.status.busy": "2022-02-03T18:44:43.620655Z",
     "iopub.status.idle": "2022-02-03T18:45:07.472119Z",
     "shell.execute_reply": "2022-02-03T18:45:07.471389Z",
     "shell.execute_reply.started": "2022-02-03T18:44:43.620920Z"
    }
   },
   "outputs": [
    {
     "data": {
      "text/plain": [
       "<matplotlib.legend.Legend at 0x7fc34c068fd0>"
      ]
     },
     "execution_count": 49,
     "metadata": {},
     "output_type": "execute_result"
    },
    {
     "data": {
      "image/png": "[encoded data removed]",
      "text/plain": [
       "<Figure size 432x288 with 1 Axes>"
      ]
     },
     "metadata": {
      "needs_background": "light"
     },
     "output_type": "display_data"
    }
   ],
   "source": [
    "plt.plot(model_3.history['accuracy'],'r',label='train accuracy')\n",
    "plt.plot(model_3.history['val_accuracy'],'g',label='validation accuracy')\n",
    "plt.legend()"
   ]
  },
  {
   "cell_type": "code",
   "execution_count": 50,
   "metadata": {
    "execution": {
     "iopub.execute_input": "2022-02-03T18:45:13.170337Z",
     "iopub.status.busy": "2022-02-03T18:45:13.169605Z",
     "iopub.status.idle": "2022-02-03T18:45:13.386605Z",
     "shell.execute_reply": "2022-02-03T18:45:13.385916Z",
     "shell.execute_reply.started": "2022-02-03T18:45:13.170293Z"
    }
   },
   "outputs": [
    {
     "data": {
      "text/plain": [
       "<matplotlib.legend.Legend at 0x7fc33c648250>"
      ]
     },
     "execution_count": 50,
     "metadata": {},
     "output_type": "execute_result"
    },
    {
     "data": {
      "image/png": "[encoded data removed]",
      "text/plain": [
       "<Figure size 432x288 with 1 Axes>"
      ]
     },
     "metadata": {
      "needs_background": "light"
     },
     "output_type": "display_data"
    }
   ],
   "source": [
    "plt.plot(model_3.history['loss'],'r',label='train loss')\n",
    "plt.plot(model_3.history['val_loss'],'g',label='validation loss')\n",
    "plt.legend()"
   ]
  },
  {
   "cell_type": "raw",
   "metadata": {},
   "source": [
    "# serialize model to JSON\n",
    "model_json = model3.to_json()\n",
    "with open(\"Model_3.json\", \"w\") as json_file:\n",
    "    json_file.write(model_json)\n",
    "# serialize weights to HDF5\n",
    "model3.save_weights(\"Model_3.h5\")"
   ]
  },
  {
   "cell_type": "code",
   "execution_count": 54,
   "metadata": {
    "execution": {
     "iopub.execute_input": "2022-02-03T18:54:31.811369Z",
     "iopub.status.busy": "2022-02-03T18:54:31.811085Z",
     "iopub.status.idle": "2022-02-03T18:54:31.816635Z",
     "shell.execute_reply": "2022-02-03T18:54:31.815571Z",
     "shell.execute_reply.started": "2022-02-03T18:54:31.811339Z"
    }
   },
   "outputs": [],
   "source": [
    "# model3_train = model_3.history['accuracy']\n",
    "# model3_test = model_3.history['val_accuracy']"
   ]
  },
  {
   "cell_type": "code",
   "execution_count": 51,
   "metadata": {
    "execution": {
     "iopub.execute_input": "2022-02-03T18:45:30.735239Z",
     "iopub.status.busy": "2022-02-03T18:45:30.734770Z",
     "iopub.status.idle": "2022-02-03T18:45:30.756154Z",
     "shell.execute_reply": "2022-02-03T18:45:30.755201Z",
     "shell.execute_reply.started": "2022-02-03T18:45:30.735198Z"
    }
   },
   "outputs": [
    {
     "data": {
      "text/html": [
       "<div>\n",
       "<style scoped>\n",
       "    .dataframe tbody tr th:only-of-type {\n",
       "        vertical-align: middle;\n",
       "    }\n",
       "\n",
       "    .dataframe tbody tr th {\n",
       "        vertical-align: top;\n",
       "    }\n",
       "\n",
       "    .dataframe thead th {\n",
       "        text-align: right;\n",
       "    }\n",
       "</style>\n",
       "<table border=\"1\" class=\"dataframe\">\n",
       "  <thead>\n",
       "    <tr style=\"text-align: right;\">\n",
       "      <th></th>\n",
       "      <th>Model_Name</th>\n",
       "      <th>Train_Accuracy</th>\n",
       "      <th>Train_Loss</th>\n",
       "      <th>Validation_Accuracy</th>\n",
       "      <th>Validation_Loss</th>\n",
       "    </tr>\n",
       "  </thead>\n",
       "  <tbody>\n",
       "    <tr>\n",
       "      <th>0</th>\n",
       "      <td>Base Model_1</td>\n",
       "      <td>0.728916</td>\n",
       "      <td>0.536628</td>\n",
       "      <td>0.754491</td>\n",
       "      <td>0.469150</td>\n",
       "    </tr>\n",
       "    <tr>\n",
       "      <th>1</th>\n",
       "      <td>Base_model_smote_2</td>\n",
       "      <td>0.934426</td>\n",
       "      <td>0.154563</td>\n",
       "      <td>0.959016</td>\n",
       "      <td>0.118624</td>\n",
       "    </tr>\n",
       "    <tr>\n",
       "      <th>2</th>\n",
       "      <td>Model_3</td>\n",
       "      <td>0.953893</td>\n",
       "      <td>0.140960</td>\n",
       "      <td>0.950820</td>\n",
       "      <td>0.162867</td>\n",
       "    </tr>\n",
       "  </tbody>\n",
       "</table>\n",
       "</div>"
      ],
      "text/plain": [
       "           Model_Name  Train_Accuracy  Train_Loss  Validation_Accuracy  \\\n",
       "0        Base Model_1        0.728916    0.536628             0.754491   \n",
       "1  Base_model_smote_2        0.934426    0.154563             0.959016   \n",
       "2             Model_3        0.953893    0.140960             0.950820   \n",
       "\n",
       "   Validation_Loss  \n",
       "0         0.469150  \n",
       "1         0.118624  \n",
       "2         0.162867  "
      ]
     },
     "execution_count": 51,
     "metadata": {},
     "output_type": "execute_result"
    }
   ],
   "source": [
    "score = pd.Series({'Model_Name':'Model_3','Train_Accuracy':model_3.history['accuracy'][-1],'Train_Loss':model_3.history['loss'][-1],'Validation_Accuracy':model_3.history['val_accuracy'][-1],'Validation_Loss':model_3.history['val_loss'][-1]})\n",
    "score_card=score_card.append(score,ignore_index=True)\n",
    "score_card"
   ]
  },
  {
   "cell_type": "markdown",
   "metadata": {},
   "source": [
    "# RESNET"
   ]
  },
  {
   "cell_type": "code",
   "execution_count": 66,
   "metadata": {
    "execution": {
     "iopub.execute_input": "2022-02-03T18:59:48.743703Z",
     "iopub.status.busy": "2022-02-03T18:59:48.743408Z",
     "iopub.status.idle": "2022-02-03T18:59:50.605410Z",
     "shell.execute_reply": "2022-02-03T18:59:50.604662Z",
     "shell.execute_reply.started": "2022-02-03T18:59:48.743669Z"
    }
   },
   "outputs": [
    {
     "name": "stdout",
     "output_type": "stream",
     "text": [
      "Downloading data from https://storage.googleapis.com/tensorflow/keras-applications/resnet/resnet50_weights_tf_dim_ordering_tf_kernels_notop.h5\n",
      "94773248/94765736 [==============================] - 0s 0us/step\n",
      "94781440/94765736 [==============================] - 0s 0us/step\n"
     ]
    }
   ],
   "source": [
    "from tensorflow.keras.applications.resnet50 import ResNet50\n",
    "model_r = ResNet50(include_top = False,weights = 'imagenet',input_shape = (256,256,3))"
   ]
  },
  {
   "cell_type": "code",
   "execution_count": 67,
   "metadata": {
    "execution": {
     "iopub.execute_input": "2022-02-03T19:00:12.738170Z",
     "iopub.status.busy": "2022-02-03T19:00:12.737886Z",
     "iopub.status.idle": "2022-02-03T19:00:12.820426Z",
     "shell.execute_reply": "2022-02-03T19:00:12.819612Z",
     "shell.execute_reply.started": "2022-02-03T19:00:12.738137Z"
    }
   },
   "outputs": [
    {
     "name": "stdout",
     "output_type": "stream",
     "text": [
      "Model: \"resnet50\"\n",
      "__________________________________________________________________________________________________\n",
      "Layer (type)                    Output Shape         Param #     Connected to                     \n",
      "==================================================================================================\n",
      "input_2 (InputLayer)            [(None, 256, 256, 3) 0                                            \n",
      "__________________________________________________________________________________________________\n",
      "conv1_pad (ZeroPadding2D)       (None, 262, 262, 3)  0           input_2[0][0]                    \n",
      "__________________________________________________________________________________________________\n",
      "conv1_conv (Conv2D)             (None, 128, 128, 64) 9472        conv1_pad[0][0]                  \n",
      "__________________________________________________________________________________________________\n",
      "conv1_bn (BatchNormalization)   (None, 128, 128, 64) 256         conv1_conv[0][0]                 \n",
      "__________________________________________________________________________________________________\n",
      "conv1_relu (Activation)         (None, 128, 128, 64) 0           conv1_bn[0][0]                   \n",
      "__________________________________________________________________________________________________\n",
      "pool1_pad (ZeroPadding2D)       (None, 130, 130, 64) 0           conv1_relu[0][0]                 \n",
      "__________________________________________________________________________________________________\n",
      "pool1_pool (MaxPooling2D)       (None, 64, 64, 64)   0           pool1_pad[0][0]                  \n",
      "__________________________________________________________________________________________________\n",
      "conv2_block1_1_conv (Conv2D)    (None, 64, 64, 64)   4160        pool1_pool[0][0]                 \n",
      "__________________________________________________________________________________________________\n",
      "conv2_block1_1_bn (BatchNormali (None, 64, 64, 64)   256         conv2_block1_1_conv[0][0]        \n",
      "__________________________________________________________________________________________________\n",
      "conv2_block1_1_relu (Activation (None, 64, 64, 64)   0           conv2_block1_1_bn[0][0]          \n",
      "__________________________________________________________________________________________________\n",
      "conv2_block1_2_conv (Conv2D)    (None, 64, 64, 64)   36928       conv2_block1_1_relu[0][0]        \n",
      "__________________________________________________________________________________________________\n",
      "conv2_block1_2_bn (BatchNormali (None, 64, 64, 64)   256         conv2_block1_2_conv[0][0]        \n",
      "__________________________________________________________________________________________________\n",
      "conv2_block1_2_relu (Activation (None, 64, 64, 64)   0           conv2_block1_2_bn[0][0]          \n",
      "__________________________________________________________________________________________________\n",
      "conv2_block1_0_conv (Conv2D)    (None, 64, 64, 256)  16640       pool1_pool[0][0]                 \n",
      "__________________________________________________________________________________________________\n",
      "conv2_block1_3_conv (Conv2D)    (None, 64, 64, 256)  16640       conv2_block1_2_relu[0][0]        \n",
      "__________________________________________________________________________________________________\n",
      "conv2_block1_0_bn (BatchNormali (None, 64, 64, 256)  1024        conv2_block1_0_conv[0][0]        \n",
      "__________________________________________________________________________________________________\n",
      "conv2_block1_3_bn (BatchNormali (None, 64, 64, 256)  1024        conv2_block1_3_conv[0][0]        \n",
      "__________________________________________________________________________________________________\n",
      "conv2_block1_add (Add)          (None, 64, 64, 256)  0           conv2_block1_0_bn[0][0]          \n",
      "                                                                 conv2_block1_3_bn[0][0]          \n",
      "__________________________________________________________________________________________________\n",
      "conv2_block1_out (Activation)   (None, 64, 64, 256)  0           conv2_block1_add[0][0]           \n",
      "__________________________________________________________________________________________________\n",
      "conv2_block2_1_conv (Conv2D)    (None, 64, 64, 64)   16448       conv2_block1_out[0][0]           \n",
      "__________________________________________________________________________________________________\n",
      "conv2_block2_1_bn (BatchNormali (None, 64, 64, 64)   256         conv2_block2_1_conv[0][0]        \n",
      "__________________________________________________________________________________________________\n",
      "conv2_block2_1_relu (Activation (None, 64, 64, 64)   0           conv2_block2_1_bn[0][0]          \n",
      "__________________________________________________________________________________________________\n",
      "conv2_block2_2_conv (Conv2D)    (None, 64, 64, 64)   36928       conv2_block2_1_relu[0][0]        \n",
      "__________________________________________________________________________________________________\n",
      "conv2_block2_2_bn (BatchNormali (None, 64, 64, 64)   256         conv2_block2_2_conv[0][0]        \n",
      "__________________________________________________________________________________________________\n",
      "conv2_block2_2_relu (Activation (None, 64, 64, 64)   0           conv2_block2_2_bn[0][0]          \n",
      "__________________________________________________________________________________________________\n",
      "conv2_block2_3_conv (Conv2D)    (None, 64, 64, 256)  16640       conv2_block2_2_relu[0][0]        \n",
      "__________________________________________________________________________________________________\n",
      "conv2_block2_3_bn (BatchNormali (None, 64, 64, 256)  1024        conv2_block2_3_conv[0][0]        \n",
      "__________________________________________________________________________________________________\n",
      "conv2_block2_add (Add)          (None, 64, 64, 256)  0           conv2_block1_out[0][0]           \n",
      "                                                                 conv2_block2_3_bn[0][0]          \n",
      "__________________________________________________________________________________________________\n",
      "conv2_block2_out (Activation)   (None, 64, 64, 256)  0           conv2_block2_add[0][0]           \n",
      "__________________________________________________________________________________________________\n",
      "conv2_block3_1_conv (Conv2D)    (None, 64, 64, 64)   16448       conv2_block2_out[0][0]           \n",
      "__________________________________________________________________________________________________\n",
      "conv2_block3_1_bn (BatchNormali (None, 64, 64, 64)   256         conv2_block3_1_conv[0][0]        \n",
      "__________________________________________________________________________________________________\n",
      "conv2_block3_1_relu (Activation (None, 64, 64, 64)   0           conv2_block3_1_bn[0][0]          \n",
      "__________________________________________________________________________________________________\n",
      "conv2_block3_2_conv (Conv2D)    (None, 64, 64, 64)   36928       conv2_block3_1_relu[0][0]        \n",
      "__________________________________________________________________________________________________\n",
      "conv2_block3_2_bn (BatchNormali (None, 64, 64, 64)   256         conv2_block3_2_conv[0][0]        \n",
      "__________________________________________________________________________________________________\n",
      "conv2_block3_2_relu (Activation (None, 64, 64, 64)   0           conv2_block3_2_bn[0][0]          \n",
      "__________________________________________________________________________________________________\n",
      "conv2_block3_3_conv (Conv2D)    (None, 64, 64, 256)  16640       conv2_block3_2_relu[0][0]        \n",
      "__________________________________________________________________________________________________\n",
      "conv2_block3_3_bn (BatchNormali (None, 64, 64, 256)  1024        conv2_block3_3_conv[0][0]        \n",
      "__________________________________________________________________________________________________\n",
      "conv2_block3_add (Add)          (None, 64, 64, 256)  0           conv2_block2_out[0][0]           \n",
      "                                                                 conv2_block3_3_bn[0][0]          \n",
      "__________________________________________________________________________________________________\n",
      "conv2_block3_out (Activation)   (None, 64, 64, 256)  0           conv2_block3_add[0][0]           \n",
      "__________________________________________________________________________________________________\n",
      "conv3_block1_1_conv (Conv2D)    (None, 32, 32, 128)  32896       conv2_block3_out[0][0]           \n",
      "__________________________________________________________________________________________________\n",
      "conv3_block1_1_bn (BatchNormali (None, 32, 32, 128)  512         conv3_block1_1_conv[0][0]        \n",
      "__________________________________________________________________________________________________\n",
      "conv3_block1_1_relu (Activation (None, 32, 32, 128)  0           conv3_block1_1_bn[0][0]          \n",
      "__________________________________________________________________________________________________\n",
      "conv3_block1_2_conv (Conv2D)    (None, 32, 32, 128)  147584      conv3_block1_1_relu[0][0]        \n",
      "__________________________________________________________________________________________________\n",
      "conv3_block1_2_bn (BatchNormali (None, 32, 32, 128)  512         conv3_block1_2_conv[0][0]        \n",
      "__________________________________________________________________________________________________\n",
      "conv3_block1_2_relu (Activation (None, 32, 32, 128)  0           conv3_block1_2_bn[0][0]          \n",
      "__________________________________________________________________________________________________\n",
      "conv3_block1_0_conv (Conv2D)    (None, 32, 32, 512)  131584      conv2_block3_out[0][0]           \n",
      "__________________________________________________________________________________________________\n",
      "conv3_block1_3_conv (Conv2D)    (None, 32, 32, 512)  66048       conv3_block1_2_relu[0][0]        \n",
      "__________________________________________________________________________________________________\n",
      "conv3_block1_0_bn (BatchNormali (None, 32, 32, 512)  2048        conv3_block1_0_conv[0][0]        \n",
      "__________________________________________________________________________________________________\n",
      "conv3_block1_3_bn (BatchNormali (None, 32, 32, 512)  2048        conv3_block1_3_conv[0][0]        \n",
      "__________________________________________________________________________________________________\n",
      "conv3_block1_add (Add)          (None, 32, 32, 512)  0           conv3_block1_0_bn[0][0]          \n",
      "                                                                 conv3_block1_3_bn[0][0]          \n",
      "__________________________________________________________________________________________________\n",
      "conv3_block1_out (Activation)   (None, 32, 32, 512)  0           conv3_block1_add[0][0]           \n",
      "__________________________________________________________________________________________________\n",
      "conv3_block2_1_conv (Conv2D)    (None, 32, 32, 128)  65664       conv3_block1_out[0][0]           \n",
      "__________________________________________________________________________________________________\n",
      "conv3_block2_1_bn (BatchNormali (None, 32, 32, 128)  512         conv3_block2_1_conv[0][0]        \n",
      "__________________________________________________________________________________________________\n",
      "conv3_block2_1_relu (Activation (None, 32, 32, 128)  0           conv3_block2_1_bn[0][0]          \n",
      "__________________________________________________________________________________________________\n",
      "conv3_block2_2_conv (Conv2D)    (None, 32, 32, 128)  147584      conv3_block2_1_relu[0][0]        \n",
      "__________________________________________________________________________________________________\n",
      "conv3_block2_2_bn (BatchNormali (None, 32, 32, 128)  512         conv3_block2_2_conv[0][0]        \n",
      "__________________________________________________________________________________________________\n",
      "conv3_block2_2_relu (Activation (None, 32, 32, 128)  0           conv3_block2_2_bn[0][0]          \n",
      "__________________________________________________________________________________________________\n",
      "conv3_block2_3_conv (Conv2D)    (None, 32, 32, 512)  66048       conv3_block2_2_relu[0][0]        \n",
      "__________________________________________________________________________________________________\n",
      "conv3_block2_3_bn (BatchNormali (None, 32, 32, 512)  2048        conv3_block2_3_conv[0][0]        \n",
      "__________________________________________________________________________________________________\n",
      "conv3_block2_add (Add)          (None, 32, 32, 512)  0           conv3_block1_out[0][0]           \n",
      "                                                                 conv3_block2_3_bn[0][0]          \n",
      "__________________________________________________________________________________________________\n",
      "conv3_block2_out (Activation)   (None, 32, 32, 512)  0           conv3_block2_add[0][0]           \n",
      "__________________________________________________________________________________________________\n",
      "conv3_block3_1_conv (Conv2D)    (None, 32, 32, 128)  65664       conv3_block2_out[0][0]           \n",
      "__________________________________________________________________________________________________\n",
      "conv3_block3_1_bn (BatchNormali (None, 32, 32, 128)  512         conv3_block3_1_conv[0][0]        \n",
      "__________________________________________________________________________________________________\n",
      "conv3_block3_1_relu (Activation (None, 32, 32, 128)  0           conv3_block3_1_bn[0][0]          \n",
      "__________________________________________________________________________________________________\n",
      "conv3_block3_2_conv (Conv2D)    (None, 32, 32, 128)  147584      conv3_block3_1_relu[0][0]        \n",
      "__________________________________________________________________________________________________\n",
      "conv3_block3_2_bn (BatchNormali (None, 32, 32, 128)  512         conv3_block3_2_conv[0][0]        \n",
      "__________________________________________________________________________________________________\n",
      "conv3_block3_2_relu (Activation (None, 32, 32, 128)  0           conv3_block3_2_bn[0][0]          \n",
      "__________________________________________________________________________________________________\n",
      "conv3_block3_3_conv (Conv2D)    (None, 32, 32, 512)  66048       conv3_block3_2_relu[0][0]        \n",
      "__________________________________________________________________________________________________\n",
      "conv3_block3_3_bn (BatchNormali (None, 32, 32, 512)  2048        conv3_block3_3_conv[0][0]        \n",
      "__________________________________________________________________________________________________\n",
      "conv3_block3_add (Add)          (None, 32, 32, 512)  0           conv3_block2_out[0][0]           \n",
      "                                                                 conv3_block3_3_bn[0][0]          \n",
      "__________________________________________________________________________________________________\n",
      "conv3_block3_out (Activation)   (None, 32, 32, 512)  0           conv3_block3_add[0][0]           \n",
      "__________________________________________________________________________________________________\n",
      "conv3_block4_1_conv (Conv2D)    (None, 32, 32, 128)  65664       conv3_block3_out[0][0]           \n",
      "__________________________________________________________________________________________________\n",
      "conv3_block4_1_bn (BatchNormali (None, 32, 32, 128)  512         conv3_block4_1_conv[0][0]        \n",
      "__________________________________________________________________________________________________\n",
      "conv3_block4_1_relu (Activation (None, 32, 32, 128)  0           conv3_block4_1_bn[0][0]          \n",
      "__________________________________________________________________________________________________\n",
      "conv3_block4_2_conv (Conv2D)    (None, 32, 32, 128)  147584      conv3_block4_1_relu[0][0]        \n",
      "__________________________________________________________________________________________________\n",
      "conv3_block4_2_bn (BatchNormali (None, 32, 32, 128)  512         conv3_block4_2_conv[0][0]        \n",
      "__________________________________________________________________________________________________\n",
      "conv3_block4_2_relu (Activation (None, 32, 32, 128)  0           conv3_block4_2_bn[0][0]          \n",
      "__________________________________________________________________________________________________\n",
      "conv3_block4_3_conv (Conv2D)    (None, 32, 32, 512)  66048       conv3_block4_2_relu[0][0]        \n",
      "__________________________________________________________________________________________________\n",
      "conv3_block4_3_bn (BatchNormali (None, 32, 32, 512)  2048        conv3_block4_3_conv[0][0]        \n",
      "__________________________________________________________________________________________________\n",
      "conv3_block4_add (Add)          (None, 32, 32, 512)  0           conv3_block3_out[0][0]           \n",
      "                                                                 conv3_block4_3_bn[0][0]          \n",
      "__________________________________________________________________________________________________\n",
      "conv3_block4_out (Activation)   (None, 32, 32, 512)  0           conv3_block4_add[0][0]           \n",
      "__________________________________________________________________________________________________\n",
      "conv4_block1_1_conv (Conv2D)    (None, 16, 16, 256)  131328      conv3_block4_out[0][0]           \n",
      "__________________________________________________________________________________________________\n",
      "conv4_block1_1_bn (BatchNormali (None, 16, 16, 256)  1024        conv4_block1_1_conv[0][0]        \n",
      "__________________________________________________________________________________________________\n",
      "conv4_block1_1_relu (Activation (None, 16, 16, 256)  0           conv4_block1_1_bn[0][0]          \n",
      "__________________________________________________________________________________________________\n",
      "conv4_block1_2_conv (Conv2D)    (None, 16, 16, 256)  590080      conv4_block1_1_relu[0][0]        \n",
      "__________________________________________________________________________________________________\n",
      "conv4_block1_2_bn (BatchNormali (None, 16, 16, 256)  1024        conv4_block1_2_conv[0][0]        \n",
      "__________________________________________________________________________________________________\n",
      "conv4_block1_2_relu (Activation (None, 16, 16, 256)  0           conv4_block1_2_bn[0][0]          \n",
      "__________________________________________________________________________________________________\n",
      "conv4_block1_0_conv (Conv2D)    (None, 16, 16, 1024) 525312      conv3_block4_out[0][0]           \n",
      "__________________________________________________________________________________________________\n",
      "conv4_block1_3_conv (Conv2D)    (None, 16, 16, 1024) 263168      conv4_block1_2_relu[0][0]        \n",
      "__________________________________________________________________________________________________\n",
      "conv4_block1_0_bn (BatchNormali (None, 16, 16, 1024) 4096        conv4_block1_0_conv[0][0]        \n",
      "__________________________________________________________________________________________________\n",
      "conv4_block1_3_bn (BatchNormali (None, 16, 16, 1024) 4096        conv4_block1_3_conv[0][0]        \n",
      "__________________________________________________________________________________________________\n",
      "conv4_block1_add (Add)          (None, 16, 16, 1024) 0           conv4_block1_0_bn[0][0]          \n",
      "                                                                 conv4_block1_3_bn[0][0]          \n",
      "__________________________________________________________________________________________________\n",
      "conv4_block1_out (Activation)   (None, 16, 16, 1024) 0           conv4_block1_add[0][0]           \n",
      "__________________________________________________________________________________________________\n",
      "conv4_block2_1_conv (Conv2D)    (None, 16, 16, 256)  262400      conv4_block1_out[0][0]           \n",
      "__________________________________________________________________________________________________\n",
      "conv4_block2_1_bn (BatchNormali (None, 16, 16, 256)  1024        conv4_block2_1_conv[0][0]        \n",
      "__________________________________________________________________________________________________\n",
      "conv4_block2_1_relu (Activation (None, 16, 16, 256)  0           conv4_block2_1_bn[0][0]          \n",
      "__________________________________________________________________________________________________\n",
      "conv4_block2_2_conv (Conv2D)    (None, 16, 16, 256)  590080      conv4_block2_1_relu[0][0]        \n",
      "__________________________________________________________________________________________________\n",
      "conv4_block2_2_bn (BatchNormali (None, 16, 16, 256)  1024        conv4_block2_2_conv[0][0]        \n",
      "__________________________________________________________________________________________________\n",
      "conv4_block2_2_relu (Activation (None, 16, 16, 256)  0           conv4_block2_2_bn[0][0]          \n",
      "__________________________________________________________________________________________________\n",
      "conv4_block2_3_conv (Conv2D)    (None, 16, 16, 1024) 263168      conv4_block2_2_relu[0][0]        \n",
      "__________________________________________________________________________________________________\n",
      "conv4_block2_3_bn (BatchNormali (None, 16, 16, 1024) 4096        conv4_block2_3_conv[0][0]        \n",
      "__________________________________________________________________________________________________\n",
      "conv4_block2_add (Add)          (None, 16, 16, 1024) 0           conv4_block1_out[0][0]           \n",
      "                                                                 conv4_block2_3_bn[0][0]          \n",
      "__________________________________________________________________________________________________\n",
      "conv4_block2_out (Activation)   (None, 16, 16, 1024) 0           conv4_block2_add[0][0]           \n",
      "__________________________________________________________________________________________________\n",
      "conv4_block3_1_conv (Conv2D)    (None, 16, 16, 256)  262400      conv4_block2_out[0][0]           \n",
      "__________________________________________________________________________________________________\n",
      "conv4_block3_1_bn (BatchNormali (None, 16, 16, 256)  1024        conv4_block3_1_conv[0][0]        \n",
      "__________________________________________________________________________________________________\n",
      "conv4_block3_1_relu (Activation (None, 16, 16, 256)  0           conv4_block3_1_bn[0][0]          \n",
      "__________________________________________________________________________________________________\n",
      "conv4_block3_2_conv (Conv2D)    (None, 16, 16, 256)  590080      conv4_block3_1_relu[0][0]        \n",
      "__________________________________________________________________________________________________\n",
      "conv4_block3_2_bn (BatchNormali (None, 16, 16, 256)  1024        conv4_block3_2_conv[0][0]        \n",
      "__________________________________________________________________________________________________\n",
      "conv4_block3_2_relu (Activation (None, 16, 16, 256)  0           conv4_block3_2_bn[0][0]          \n",
      "__________________________________________________________________________________________________\n",
      "conv4_block3_3_conv (Conv2D)    (None, 16, 16, 1024) 263168      conv4_block3_2_relu[0][0]        \n",
      "__________________________________________________________________________________________________\n",
      "conv4_block3_3_bn (BatchNormali (None, 16, 16, 1024) 4096        conv4_block3_3_conv[0][0]        \n",
      "__________________________________________________________________________________________________\n",
      "conv4_block3_add (Add)          (None, 16, 16, 1024) 0           conv4_block2_out[0][0]           \n",
      "                                                                 conv4_block3_3_bn[0][0]          \n",
      "__________________________________________________________________________________________________\n",
      "conv4_block3_out (Activation)   (None, 16, 16, 1024) 0           conv4_block3_add[0][0]           \n",
      "__________________________________________________________________________________________________\n",
      "conv4_block4_1_conv (Conv2D)    (None, 16, 16, 256)  262400      conv4_block3_out[0][0]           \n",
      "__________________________________________________________________________________________________\n",
      "conv4_block4_1_bn (BatchNormali (None, 16, 16, 256)  1024        conv4_block4_1_conv[0][0]        \n",
      "__________________________________________________________________________________________________\n",
      "conv4_block4_1_relu (Activation (None, 16, 16, 256)  0           conv4_block4_1_bn[0][0]          \n",
      "__________________________________________________________________________________________________\n",
      "conv4_block4_2_conv (Conv2D)    (None, 16, 16, 256)  590080      conv4_block4_1_relu[0][0]        \n",
      "__________________________________________________________________________________________________\n",
      "conv4_block4_2_bn (BatchNormali (None, 16, 16, 256)  1024        conv4_block4_2_conv[0][0]        \n",
      "__________________________________________________________________________________________________\n",
      "conv4_block4_2_relu (Activation (None, 16, 16, 256)  0           conv4_block4_2_bn[0][0]          \n",
      "__________________________________________________________________________________________________\n",
      "conv4_block4_3_conv (Conv2D)    (None, 16, 16, 1024) 263168      conv4_block4_2_relu[0][0]        \n",
      "__________________________________________________________________________________________________\n",
      "conv4_block4_3_bn (BatchNormali (None, 16, 16, 1024) 4096        conv4_block4_3_conv[0][0]        \n",
      "__________________________________________________________________________________________________\n",
      "conv4_block4_add (Add)          (None, 16, 16, 1024) 0           conv4_block3_out[0][0]           \n",
      "                                                                 conv4_block4_3_bn[0][0]          \n",
      "__________________________________________________________________________________________________\n",
      "conv4_block4_out (Activation)   (None, 16, 16, 1024) 0           conv4_block4_add[0][0]           \n",
      "__________________________________________________________________________________________________\n",
      "conv4_block5_1_conv (Conv2D)    (None, 16, 16, 256)  262400      conv4_block4_out[0][0]           \n",
      "__________________________________________________________________________________________________\n",
      "conv4_block5_1_bn (BatchNormali (None, 16, 16, 256)  1024        conv4_block5_1_conv[0][0]        \n",
      "__________________________________________________________________________________________________\n",
      "conv4_block5_1_relu (Activation (None, 16, 16, 256)  0           conv4_block5_1_bn[0][0]          \n",
      "__________________________________________________________________________________________________\n",
      "conv4_block5_2_conv (Conv2D)    (None, 16, 16, 256)  590080      conv4_block5_1_relu[0][0]        \n",
      "__________________________________________________________________________________________________\n",
      "conv4_block5_2_bn (BatchNormali (None, 16, 16, 256)  1024        conv4_block5_2_conv[0][0]        \n",
      "__________________________________________________________________________________________________\n",
      "conv4_block5_2_relu (Activation (None, 16, 16, 256)  0           conv4_block5_2_bn[0][0]          \n",
      "__________________________________________________________________________________________________\n",
      "conv4_block5_3_conv (Conv2D)    (None, 16, 16, 1024) 263168      conv4_block5_2_relu[0][0]        \n",
      "__________________________________________________________________________________________________\n",
      "conv4_block5_3_bn (BatchNormali (None, 16, 16, 1024) 4096        conv4_block5_3_conv[0][0]        \n",
      "__________________________________________________________________________________________________\n",
      "conv4_block5_add (Add)          (None, 16, 16, 1024) 0           conv4_block4_out[0][0]           \n",
      "                                                                 conv4_block5_3_bn[0][0]          \n",
      "__________________________________________________________________________________________________\n",
      "conv4_block5_out (Activation)   (None, 16, 16, 1024) 0           conv4_block5_add[0][0]           \n",
      "__________________________________________________________________________________________________\n",
      "conv4_block6_1_conv (Conv2D)    (None, 16, 16, 256)  262400      conv4_block5_out[0][0]           \n",
      "__________________________________________________________________________________________________\n",
      "conv4_block6_1_bn (BatchNormali (None, 16, 16, 256)  1024        conv4_block6_1_conv[0][0]        \n",
      "__________________________________________________________________________________________________\n",
      "conv4_block6_1_relu (Activation (None, 16, 16, 256)  0           conv4_block6_1_bn[0][0]          \n",
      "__________________________________________________________________________________________________\n",
      "conv4_block6_2_conv (Conv2D)    (None, 16, 16, 256)  590080      conv4_block6_1_relu[0][0]        \n",
      "__________________________________________________________________________________________________\n",
      "conv4_block6_2_bn (BatchNormali (None, 16, 16, 256)  1024        conv4_block6_2_conv[0][0]        \n",
      "__________________________________________________________________________________________________\n",
      "conv4_block6_2_relu (Activation (None, 16, 16, 256)  0           conv4_block6_2_bn[0][0]          \n",
      "__________________________________________________________________________________________________\n",
      "conv4_block6_3_conv (Conv2D)    (None, 16, 16, 1024) 263168      conv4_block6_2_relu[0][0]        \n",
      "__________________________________________________________________________________________________\n",
      "conv4_block6_3_bn (BatchNormali (None, 16, 16, 1024) 4096        conv4_block6_3_conv[0][0]        \n",
      "__________________________________________________________________________________________________\n",
      "conv4_block6_add (Add)          (None, 16, 16, 1024) 0           conv4_block5_out[0][0]           \n",
      "                                                                 conv4_block6_3_bn[0][0]          \n",
      "__________________________________________________________________________________________________\n",
      "conv4_block6_out (Activation)   (None, 16, 16, 1024) 0           conv4_block6_add[0][0]           \n",
      "__________________________________________________________________________________________________\n",
      "conv5_block1_1_conv (Conv2D)    (None, 8, 8, 512)    524800      conv4_block6_out[0][0]           \n",
      "__________________________________________________________________________________________________\n",
      "conv5_block1_1_bn (BatchNormali (None, 8, 8, 512)    2048        conv5_block1_1_conv[0][0]        \n",
      "__________________________________________________________________________________________________\n",
      "conv5_block1_1_relu (Activation (None, 8, 8, 512)    0           conv5_block1_1_bn[0][0]          \n",
      "__________________________________________________________________________________________________\n",
      "conv5_block1_2_conv (Conv2D)    (None, 8, 8, 512)    2359808     conv5_block1_1_relu[0][0]        \n",
      "__________________________________________________________________________________________________\n",
      "conv5_block1_2_bn (BatchNormali (None, 8, 8, 512)    2048        conv5_block1_2_conv[0][0]        \n",
      "__________________________________________________________________________________________________\n",
      "conv5_block1_2_relu (Activation (None, 8, 8, 512)    0           conv5_block1_2_bn[0][0]          \n",
      "__________________________________________________________________________________________________\n",
      "conv5_block1_0_conv (Conv2D)    (None, 8, 8, 2048)   2099200     conv4_block6_out[0][0]           \n",
      "__________________________________________________________________________________________________\n",
      "conv5_block1_3_conv (Conv2D)    (None, 8, 8, 2048)   1050624     conv5_block1_2_relu[0][0]        \n",
      "__________________________________________________________________________________________________\n",
      "conv5_block1_0_bn (BatchNormali (None, 8, 8, 2048)   8192        conv5_block1_0_conv[0][0]        \n",
      "__________________________________________________________________________________________________\n",
      "conv5_block1_3_bn (BatchNormali (None, 8, 8, 2048)   8192        conv5_block1_3_conv[0][0]        \n",
      "__________________________________________________________________________________________________\n",
      "conv5_block1_add (Add)          (None, 8, 8, 2048)   0           conv5_block1_0_bn[0][0]          \n",
      "                                                                 conv5_block1_3_bn[0][0]          \n",
      "__________________________________________________________________________________________________\n",
      "conv5_block1_out (Activation)   (None, 8, 8, 2048)   0           conv5_block1_add[0][0]           \n",
      "__________________________________________________________________________________________________\n",
      "conv5_block2_1_conv (Conv2D)    (None, 8, 8, 512)    1049088     conv5_block1_out[0][0]           \n",
      "__________________________________________________________________________________________________\n",
      "conv5_block2_1_bn (BatchNormali (None, 8, 8, 512)    2048        conv5_block2_1_conv[0][0]        \n",
      "__________________________________________________________________________________________________\n",
      "conv5_block2_1_relu (Activation (None, 8, 8, 512)    0           conv5_block2_1_bn[0][0]          \n",
      "__________________________________________________________________________________________________\n",
      "conv5_block2_2_conv (Conv2D)    (None, 8, 8, 512)    2359808     conv5_block2_1_relu[0][0]        \n",
      "__________________________________________________________________________________________________\n",
      "conv5_block2_2_bn (BatchNormali (None, 8, 8, 512)    2048        conv5_block2_2_conv[0][0]        \n",
      "__________________________________________________________________________________________________\n",
      "conv5_block2_2_relu (Activation (None, 8, 8, 512)    0           conv5_block2_2_bn[0][0]          \n",
      "__________________________________________________________________________________________________\n",
      "conv5_block2_3_conv (Conv2D)    (None, 8, 8, 2048)   1050624     conv5_block2_2_relu[0][0]        \n",
      "__________________________________________________________________________________________________\n",
      "conv5_block2_3_bn (BatchNormali (None, 8, 8, 2048)   8192        conv5_block2_3_conv[0][0]        \n",
      "__________________________________________________________________________________________________\n",
      "conv5_block2_add (Add)          (None, 8, 8, 2048)   0           conv5_block1_out[0][0]           \n",
      "                                                                 conv5_block2_3_bn[0][0]          \n",
      "__________________________________________________________________________________________________\n",
      "conv5_block2_out (Activation)   (None, 8, 8, 2048)   0           conv5_block2_add[0][0]           \n",
      "__________________________________________________________________________________________________\n",
      "conv5_block3_1_conv (Conv2D)    (None, 8, 8, 512)    1049088     conv5_block2_out[0][0]           \n",
      "__________________________________________________________________________________________________\n",
      "conv5_block3_1_bn (BatchNormali (None, 8, 8, 512)    2048        conv5_block3_1_conv[0][0]        \n",
      "__________________________________________________________________________________________________\n",
      "conv5_block3_1_relu (Activation (None, 8, 8, 512)    0           conv5_block3_1_bn[0][0]          \n",
      "__________________________________________________________________________________________________\n",
      "conv5_block3_2_conv (Conv2D)    (None, 8, 8, 512)    2359808     conv5_block3_1_relu[0][0]        \n",
      "__________________________________________________________________________________________________\n",
      "conv5_block3_2_bn (BatchNormali (None, 8, 8, 512)    2048        conv5_block3_2_conv[0][0]        \n",
      "__________________________________________________________________________________________________\n",
      "conv5_block3_2_relu (Activation (None, 8, 8, 512)    0           conv5_block3_2_bn[0][0]          \n",
      "__________________________________________________________________________________________________\n",
      "conv5_block3_3_conv (Conv2D)    (None, 8, 8, 2048)   1050624     conv5_block3_2_relu[0][0]        \n",
      "__________________________________________________________________________________________________\n",
      "conv5_block3_3_bn (BatchNormali (None, 8, 8, 2048)   8192        conv5_block3_3_conv[0][0]        \n",
      "__________________________________________________________________________________________________\n",
      "conv5_block3_add (Add)          (None, 8, 8, 2048)   0           conv5_block2_out[0][0]           \n",
      "                                                                 conv5_block3_3_bn[0][0]          \n",
      "__________________________________________________________________________________________________\n",
      "conv5_block3_out (Activation)   (None, 8, 8, 2048)   0           conv5_block3_add[0][0]           \n",
      "==================================================================================================\n",
      "Total params: 23,587,712\n",
      "Trainable params: 23,534,592\n",
      "Non-trainable params: 53,120\n",
      "__________________________________________________________________________________________________\n"
     ]
    }
   ],
   "source": [
    "model_r.summary()"
   ]
  },
  {
   "cell_type": "code",
   "execution_count": 68,
   "metadata": {
    "execution": {
     "iopub.execute_input": "2022-02-03T19:00:28.780333Z",
     "iopub.status.busy": "2022-02-03T19:00:28.780059Z",
     "iopub.status.idle": "2022-02-03T19:00:28.887490Z",
     "shell.execute_reply": "2022-02-03T19:00:28.886774Z",
     "shell.execute_reply.started": "2022-02-03T19:00:28.780300Z"
    }
   },
   "outputs": [
    {
     "name": "stdout",
     "output_type": "stream",
     "text": [
      "0 <keras.engine.input_layer.InputLayer object at 0x7fc33c21e9d0>\n",
      "1 <keras.layers.convolutional.ZeroPadding2D object at 0x7fc33c5d3b90>\n",
      "2 <keras.layers.convolutional.Conv2D object at 0x7fc33c216b50>\n",
      "3 <keras.layers.normalization.batch_normalization.BatchNormalization object at 0x7fc33c14dad0>\n",
      "4 <keras.layers.core.Activation object at 0x7fc33c14be90>\n",
      "5 <keras.layers.convolutional.ZeroPadding2D object at 0x7fc33c14d810>\n",
      "6 <keras.layers.pooling.MaxPooling2D object at 0x7fc33c0f4510>\n",
      "7 <keras.layers.convolutional.Conv2D object at 0x7fc33c1421d0>\n",
      "8 <keras.layers.normalization.batch_normalization.BatchNormalization object at 0x7fc33c10a510>\n",
      "9 <keras.layers.core.Activation object at 0x7fc33c11b6d0>\n",
      "10 <keras.layers.convolutional.Conv2D object at 0x7fc33c142950>\n",
      "11 <keras.layers.normalization.batch_normalization.BatchNormalization object at 0x7fc33c11e390>\n",
      "12 <keras.layers.core.Activation object at 0x7fc33c142810>\n",
      "13 <keras.layers.convolutional.Conv2D object at 0x7fc33c0f9b50>\n",
      "14 <keras.layers.convolutional.Conv2D object at 0x7fc33c142a10>\n",
      "15 <keras.layers.normalization.batch_normalization.BatchNormalization object at 0x7fc33c101910>\n",
      "16 <keras.layers.normalization.batch_normalization.BatchNormalization object at 0x7fc33c114910>\n",
      "17 <keras.layers.merge.Add object at 0x7fc33c0b9410>\n",
      "18 <keras.layers.core.Activation object at 0x7fc33c0c1bd0>\n",
      "19 <keras.layers.convolutional.Conv2D object at 0x7fc33c0be0d0>\n",
      "20 <keras.layers.normalization.batch_normalization.BatchNormalization object at 0x7fc33c0a3b10>\n",
      "21 <keras.layers.core.Activation object at 0x7fc33c0a3d50>\n",
      "22 <keras.layers.convolutional.Conv2D object at 0x7fc33c0d4a50>\n",
      "23 <keras.layers.normalization.batch_normalization.BatchNormalization object at 0x7fc33c0c7d50>\n",
      "24 <keras.layers.core.Activation object at 0x7fc33c0d9810>\n",
      "25 <keras.layers.convolutional.Conv2D object at 0x7fc33c063850>\n",
      "26 <keras.layers.normalization.batch_normalization.BatchNormalization object at 0x7fc33c0d9b10>\n",
      "27 <keras.layers.merge.Add object at 0x7fc33c07a050>\n",
      "28 <keras.layers.core.Activation object at 0x7fc33c075d10>\n",
      "29 <keras.layers.convolutional.Conv2D object at 0x7fc33c06f710>\n",
      "30 <keras.layers.normalization.batch_normalization.BatchNormalization object at 0x7fc33c07ee10>\n",
      "31 <keras.layers.core.Activation object at 0x7fc33c0dfb50>\n",
      "32 <keras.layers.convolutional.Conv2D object at 0x7fc33c08da90>\n",
      "33 <keras.layers.normalization.batch_normalization.BatchNormalization object at 0x7fc33c092c90>\n",
      "34 <keras.layers.core.Activation object at 0x7fc33c022210>\n",
      "35 <keras.layers.convolutional.Conv2D object at 0x7fc33c022290>\n",
      "36 <keras.layers.normalization.batch_normalization.BatchNormalization object at 0x7fc33c09b450>\n",
      "37 <keras.layers.merge.Add object at 0x7fc33c07ed10>\n",
      "38 <keras.layers.core.Activation object at 0x7fc33c0b3c10>\n",
      "39 <keras.layers.convolutional.Conv2D object at 0x7fc33c07add0>\n",
      "40 <keras.layers.normalization.batch_normalization.BatchNormalization object at 0x7fc33c0c1f90>\n",
      "41 <keras.layers.core.Activation object at 0x7fc33c0d4350>\n",
      "42 <keras.layers.convolutional.Conv2D object at 0x7fc33c07a150>\n",
      "43 <keras.layers.normalization.batch_normalization.BatchNormalization object at 0x7fc33c0a3f10>\n",
      "44 <keras.layers.core.Activation object at 0x7fc33c10b310>\n",
      "45 <keras.layers.convolutional.Conv2D object at 0x7fc33c063150>\n",
      "46 <keras.layers.convolutional.Conv2D object at 0x7fc33c0a8e10>\n",
      "47 <keras.layers.normalization.batch_normalization.BatchNormalization object at 0x7fc33c0b3050>\n",
      "48 <keras.layers.normalization.batch_normalization.BatchNormalization object at 0x7fc33c105490>\n",
      "49 <keras.layers.merge.Add object at 0x7fc33c4b3c50>\n",
      "50 <keras.layers.core.Activation object at 0x7fc33c0a8410>\n",
      "51 <keras.layers.convolutional.Conv2D object at 0x7fc33c02ec50>\n",
      "52 <keras.layers.normalization.batch_normalization.BatchNormalization object at 0x7fc33c14d9d0>\n",
      "53 <keras.layers.core.Activation object at 0x7fc34c067cd0>\n",
      "54 <keras.layers.convolutional.Conv2D object at 0x7fc33c02ea10>\n",
      "55 <keras.layers.normalization.batch_normalization.BatchNormalization object at 0x7fc33c039550>\n",
      "56 <keras.layers.core.Activation object at 0x7fc33c03ebd0>\n",
      "57 <keras.layers.convolutional.Conv2D object at 0x7fc33c054310>\n",
      "58 <keras.layers.normalization.batch_normalization.BatchNormalization object at 0x7fc33c0506d0>\n",
      "59 <keras.layers.merge.Add object at 0x7fc33c05b8d0>\n",
      "60 <keras.layers.core.Activation object at 0x7fc2e1675910>\n",
      "61 <keras.layers.convolutional.Conv2D object at 0x7fc2e1675410>\n",
      "62 <keras.layers.normalization.batch_normalization.BatchNormalization object at 0x7fc2e167cd50>\n",
      "63 <keras.layers.core.Activation object at 0x7fc2e167cdd0>\n",
      "64 <keras.layers.convolutional.Conv2D object at 0x7fc2e168ed50>\n",
      "65 <keras.layers.normalization.batch_normalization.BatchNormalization object at 0x7fc2e1688190>\n",
      "66 <keras.layers.core.Activation object at 0x7fc2e1698090>\n",
      "67 <keras.layers.convolutional.Conv2D object at 0x7fc2e169fc90>\n",
      "68 <keras.layers.normalization.batch_normalization.BatchNormalization object at 0x7fc2e1691f50>\n",
      "69 <keras.layers.merge.Add object at 0x7fc2e1634350>\n",
      "70 <keras.layers.core.Activation object at 0x7fc2e16342d0>\n",
      "71 <keras.layers.convolutional.Conv2D object at 0x7fc2e1634050>\n",
      "72 <keras.layers.normalization.batch_normalization.BatchNormalization object at 0x7fc2e1691090>\n",
      "73 <keras.layers.core.Activation object at 0x7fc2e1691410>\n",
      "74 <keras.layers.convolutional.Conv2D object at 0x7fc2e164a810>\n",
      "75 <keras.layers.normalization.batch_normalization.BatchNormalization object at 0x7fc2e163dad0>\n",
      "76 <keras.layers.core.Activation object at 0x7fc2e1654190>\n",
      "77 <keras.layers.convolutional.Conv2D object at 0x7fc2e165a610>\n",
      "78 <keras.layers.normalization.batch_normalization.BatchNormalization object at 0x7fc2e164e8d0>\n",
      "79 <keras.layers.merge.Add object at 0x7fc2e165e190>\n",
      "80 <keras.layers.core.Activation object at 0x7fc2e1698290>\n",
      "81 <keras.layers.convolutional.Conv2D object at 0x7fc2e1634090>\n",
      "82 <keras.layers.normalization.batch_normalization.BatchNormalization object at 0x7fc2e168e7d0>\n",
      "83 <keras.layers.core.Activation object at 0x7fc2e168e790>\n",
      "84 <keras.layers.convolutional.Conv2D object at 0x7fc2e167c450>\n",
      "85 <keras.layers.normalization.batch_normalization.BatchNormalization object at 0x7fc2e168e890>\n",
      "86 <keras.layers.core.Activation object at 0x7fc33c054f90>\n",
      "87 <keras.layers.convolutional.Conv2D object at 0x7fc2e1698f50>\n",
      "88 <keras.layers.convolutional.Conv2D object at 0x7fc33c050250>\n",
      "89 <keras.layers.normalization.batch_normalization.BatchNormalization object at 0x7fc33c12b990>\n",
      "90 <keras.layers.normalization.batch_normalization.BatchNormalization object at 0x7fc33c14b090>\n",
      "91 <keras.layers.merge.Add object at 0x7fc33c0251d0>\n",
      "92 <keras.layers.core.Activation object at 0x7fc33c075510>\n",
      "93 <keras.layers.convolutional.Conv2D object at 0x7fc33c0c7250>\n",
      "94 <keras.layers.normalization.batch_normalization.BatchNormalization object at 0x7fc33c10bc90>\n",
      "95 <keras.layers.core.Activation object at 0x7fc33c1341d0>\n",
      "96 <keras.layers.convolutional.Conv2D object at 0x7fc2e1664fd0>\n",
      "97 <keras.layers.normalization.batch_normalization.BatchNormalization object at 0x7fc2e169edd0>\n",
      "98 <keras.layers.core.Activation object at 0x7fc2e1601990>\n",
      "99 <keras.layers.convolutional.Conv2D object at 0x7fc2e1601e50>\n",
      "100 <keras.layers.normalization.batch_normalization.BatchNormalization object at 0x7fc2e15fb210>\n",
      "101 <keras.layers.merge.Add object at 0x7fc2e169eb50>\n",
      "102 <keras.layers.core.Activation object at 0x7fc2e1601c50>\n",
      "103 <keras.layers.convolutional.Conv2D object at 0x7fc2e16171d0>\n",
      "104 <keras.layers.normalization.batch_normalization.BatchNormalization object at 0x7fc2e1612b50>\n",
      "105 <keras.layers.core.Activation object at 0x7fc2e161a990>\n",
      "106 <keras.layers.convolutional.Conv2D object at 0x7fc2e162fad0>\n",
      "107 <keras.layers.normalization.batch_normalization.BatchNormalization object at 0x7fc2e1622d90>\n",
      "108 <keras.layers.core.Activation object at 0x7fc2e15b5890>\n",
      "109 <keras.layers.convolutional.Conv2D object at 0x7fc2e15be8d0>\n",
      "110 <keras.layers.normalization.batch_normalization.BatchNormalization object at 0x7fc2e15b5b90>\n",
      "111 <keras.layers.merge.Add object at 0x7fc2e15d2110>\n",
      "112 <keras.layers.core.Activation object at 0x7fc2e15d0d90>\n",
      "113 <keras.layers.convolutional.Conv2D object at 0x7fc2e15d2ad0>\n",
      "114 <keras.layers.normalization.batch_normalization.BatchNormalization object at 0x7fc2e15d0f10>\n",
      "115 <keras.layers.core.Activation object at 0x7fc2e15c4550>\n",
      "116 <keras.layers.convolutional.Conv2D object at 0x7fc2e15e6410>\n",
      "117 <keras.layers.normalization.batch_normalization.BatchNormalization object at 0x7fc2e15ebd90>\n",
      "118 <keras.layers.core.Activation object at 0x7fc7b010d810>\n",
      "119 <keras.layers.convolutional.Conv2D object at 0x7fc2e15dfd50>\n",
      "120 <keras.layers.normalization.batch_normalization.BatchNormalization object at 0x7fc2e1572550>\n",
      "121 <keras.layers.merge.Add object at 0x7fc2e15b5190>\n",
      "122 <keras.layers.core.Activation object at 0x7fc2e15b51d0>\n",
      "123 <keras.layers.convolutional.Conv2D object at 0x7fc2e15d08d0>\n",
      "124 <keras.layers.normalization.batch_normalization.BatchNormalization object at 0x7fc2e1578e90>\n",
      "125 <keras.layers.core.Activation object at 0x7fc2e15fb790>\n",
      "126 <keras.layers.convolutional.Conv2D object at 0x7fc2e1606b50>\n",
      "127 <keras.layers.normalization.batch_normalization.BatchNormalization object at 0x7fc2e15d0890>\n",
      "128 <keras.layers.core.Activation object at 0x7fc33c0630d0>\n",
      "129 <keras.layers.convolutional.Conv2D object at 0x7fc33c10b5d0>\n",
      "130 <keras.layers.normalization.batch_normalization.BatchNormalization object at 0x7fc2e166f250>\n",
      "131 <keras.layers.merge.Add object at 0x7fc33c045110>\n",
      "132 <keras.layers.core.Activation object at 0x7fc2e157d2d0>\n",
      "133 <keras.layers.convolutional.Conv2D object at 0x7fc2e169f610>\n",
      "134 <keras.layers.normalization.batch_normalization.BatchNormalization object at 0x7fc2e166f850>\n",
      "135 <keras.layers.core.Activation object at 0x7fc2e15b5090>\n",
      "136 <keras.layers.convolutional.Conv2D object at 0x7fc2e158c5d0>\n",
      "137 <keras.layers.normalization.batch_normalization.BatchNormalization object at 0x7fc2e158f150>\n",
      "138 <keras.layers.core.Activation object at 0x7fc2e15f6b90>\n",
      "139 <keras.layers.convolutional.Conv2D object at 0x7fc2e15a1990>\n",
      "140 <keras.layers.normalization.batch_normalization.BatchNormalization object at 0x7fc2e160cd90>\n",
      "141 <keras.layers.merge.Add object at 0x7fc2e15a1490>\n",
      "142 <keras.layers.core.Activation object at 0x7fc2e158fb90>\n",
      "143 <keras.layers.convolutional.Conv2D object at 0x7fc2e15acf90>\n",
      "144 <keras.layers.normalization.batch_normalization.BatchNormalization object at 0x7fc2e1545850>\n",
      "145 <keras.layers.core.Activation object at 0x7fc2e1532990>\n",
      "146 <keras.layers.convolutional.Conv2D object at 0x7fc2e1534350>\n",
      "147 <keras.layers.normalization.batch_normalization.BatchNormalization object at 0x7fc2e1556390>\n",
      "148 <keras.layers.core.Activation object at 0x7fc2e1553410>\n",
      "149 <keras.layers.convolutional.Conv2D object at 0x7fc2e15acd50>\n",
      "150 <keras.layers.convolutional.Conv2D object at 0x7fc2e154e390>\n",
      "151 <keras.layers.normalization.batch_normalization.BatchNormalization object at 0x7fc2e1532450>\n",
      "152 <keras.layers.normalization.batch_normalization.BatchNormalization object at 0x7fc2e1556950>\n",
      "153 <keras.layers.merge.Add object at 0x7fc2e155eb10>\n",
      "154 <keras.layers.core.Activation object at 0x7fc2e1534650>\n",
      "155 <keras.layers.convolutional.Conv2D object at 0x7fc2e1557050>\n",
      "156 <keras.layers.normalization.batch_normalization.BatchNormalization object at 0x7fc2e14fa990>\n",
      "157 <keras.layers.core.Activation object at 0x7fc2e14fa950>\n",
      "158 <keras.layers.convolutional.Conv2D object at 0x7fc2e1557610>\n",
      "159 <keras.layers.normalization.batch_normalization.BatchNormalization object at 0x7fc2e1513250>\n",
      "160 <keras.layers.core.Activation object at 0x7fc2e150bd90>\n",
      "161 <keras.layers.convolutional.Conv2D object at 0x7fc2e1505990>\n",
      "162 <keras.layers.normalization.batch_normalization.BatchNormalization object at 0x7fc2e15132d0>\n",
      "163 <keras.layers.merge.Add object at 0x7fc2e14f3dd0>\n",
      "164 <keras.layers.core.Activation object at 0x7fc2e1543550>\n",
      "165 <keras.layers.convolutional.Conv2D object at 0x7fc2e1553f50>\n",
      "166 <keras.layers.normalization.batch_normalization.BatchNormalization object at 0x7fc2e156f390>\n",
      "167 <keras.layers.core.Activation object at 0x7fc2e1543350>\n",
      "168 <keras.layers.convolutional.Conv2D object at 0x7fc2e158f990>\n",
      "169 <keras.layers.normalization.batch_normalization.BatchNormalization object at 0x7fc2e159b310>\n",
      "170 <keras.layers.core.Activation object at 0x7fc2e158fa10>\n",
      "171 <keras.layers.convolutional.Conv2D object at 0x7fc2e1606950>\n",
      "172 <keras.layers.normalization.batch_normalization.BatchNormalization object at 0x7fc33c154250>\n",
      "173 <keras.layers.merge.Add object at 0x7fc2e151a110>\n",
      "174 <keras.layers.core.Activation object at 0x7fc2e15d0090>\n"
     ]
    }
   ],
   "source": [
    "for ix in range(len(model_r.layers)):\n",
    "    print(ix,model_r.layers[ix])"
   ]
  },
  {
   "cell_type": "code",
   "execution_count": 69,
   "metadata": {
    "execution": {
     "iopub.execute_input": "2022-02-03T19:00:41.443283Z",
     "iopub.status.busy": "2022-02-03T19:00:41.442694Z",
     "iopub.status.idle": "2022-02-03T19:00:41.523494Z",
     "shell.execute_reply": "2022-02-03T19:00:41.522759Z",
     "shell.execute_reply.started": "2022-02-03T19:00:41.443239Z"
    }
   },
   "outputs": [
    {
     "name": "stdout",
     "output_type": "stream",
     "text": [
      "0 input_2 False\n",
      "1 conv1_pad False\n",
      "2 conv1_conv False\n",
      "3 conv1_bn False\n",
      "4 conv1_relu False\n",
      "5 pool1_pad False\n",
      "6 pool1_pool False\n",
      "7 conv2_block1_1_conv False\n",
      "8 conv2_block1_1_bn False\n",
      "9 conv2_block1_1_relu False\n",
      "10 conv2_block1_2_conv False\n",
      "11 conv2_block1_2_bn False\n",
      "12 conv2_block1_2_relu False\n",
      "13 conv2_block1_0_conv False\n",
      "14 conv2_block1_3_conv False\n",
      "15 conv2_block1_0_bn False\n",
      "16 conv2_block1_3_bn False\n",
      "17 conv2_block1_add False\n",
      "18 conv2_block1_out False\n",
      "19 conv2_block2_1_conv False\n",
      "20 conv2_block2_1_bn False\n",
      "21 conv2_block2_1_relu False\n",
      "22 conv2_block2_2_conv False\n",
      "23 conv2_block2_2_bn False\n",
      "24 conv2_block2_2_relu False\n",
      "25 conv2_block2_3_conv False\n",
      "26 conv2_block2_3_bn False\n",
      "27 conv2_block2_add False\n",
      "28 conv2_block2_out False\n",
      "29 conv2_block3_1_conv False\n",
      "30 conv2_block3_1_bn False\n",
      "31 conv2_block3_1_relu False\n",
      "32 conv2_block3_2_conv False\n",
      "33 conv2_block3_2_bn False\n",
      "34 conv2_block3_2_relu False\n",
      "35 conv2_block3_3_conv False\n",
      "36 conv2_block3_3_bn False\n",
      "37 conv2_block3_add False\n",
      "38 conv2_block3_out False\n",
      "39 conv3_block1_1_conv False\n",
      "40 conv3_block1_1_bn False\n",
      "41 conv3_block1_1_relu False\n",
      "42 conv3_block1_2_conv False\n",
      "43 conv3_block1_2_bn False\n",
      "44 conv3_block1_2_relu False\n",
      "45 conv3_block1_0_conv False\n",
      "46 conv3_block1_3_conv False\n",
      "47 conv3_block1_0_bn False\n",
      "48 conv3_block1_3_bn False\n",
      "49 conv3_block1_add False\n",
      "50 conv3_block1_out False\n",
      "51 conv3_block2_1_conv False\n",
      "52 conv3_block2_1_bn False\n",
      "53 conv3_block2_1_relu False\n",
      "54 conv3_block2_2_conv False\n",
      "55 conv3_block2_2_bn False\n",
      "56 conv3_block2_2_relu False\n",
      "57 conv3_block2_3_conv False\n",
      "58 conv3_block2_3_bn False\n",
      "59 conv3_block2_add False\n",
      "60 conv3_block2_out False\n",
      "61 conv3_block3_1_conv False\n",
      "62 conv3_block3_1_bn False\n",
      "63 conv3_block3_1_relu False\n",
      "64 conv3_block3_2_conv False\n",
      "65 conv3_block3_2_bn False\n",
      "66 conv3_block3_2_relu False\n",
      "67 conv3_block3_3_conv False\n",
      "68 conv3_block3_3_bn False\n",
      "69 conv3_block3_add False\n",
      "70 conv3_block3_out False\n",
      "71 conv3_block4_1_conv False\n",
      "72 conv3_block4_1_bn False\n",
      "73 conv3_block4_1_relu False\n",
      "74 conv3_block4_2_conv False\n",
      "75 conv3_block4_2_bn False\n",
      "76 conv3_block4_2_relu False\n",
      "77 conv3_block4_3_conv False\n",
      "78 conv3_block4_3_bn False\n",
      "79 conv3_block4_add False\n",
      "80 conv3_block4_out False\n",
      "81 conv4_block1_1_conv False\n",
      "82 conv4_block1_1_bn False\n",
      "83 conv4_block1_1_relu False\n",
      "84 conv4_block1_2_conv False\n",
      "85 conv4_block1_2_bn False\n",
      "86 conv4_block1_2_relu False\n",
      "87 conv4_block1_0_conv False\n",
      "88 conv4_block1_3_conv False\n",
      "89 conv4_block1_0_bn False\n",
      "90 conv4_block1_3_bn False\n",
      "91 conv4_block1_add False\n",
      "92 conv4_block1_out False\n",
      "93 conv4_block2_1_conv False\n",
      "94 conv4_block2_1_bn False\n",
      "95 conv4_block2_1_relu False\n",
      "96 conv4_block2_2_conv False\n",
      "97 conv4_block2_2_bn False\n",
      "98 conv4_block2_2_relu False\n",
      "99 conv4_block2_3_conv False\n",
      "100 conv4_block2_3_bn False\n",
      "101 conv4_block2_add False\n",
      "102 conv4_block2_out False\n",
      "103 conv4_block3_1_conv False\n",
      "104 conv4_block3_1_bn False\n",
      "105 conv4_block3_1_relu False\n",
      "106 conv4_block3_2_conv False\n",
      "107 conv4_block3_2_bn False\n",
      "108 conv4_block3_2_relu False\n",
      "109 conv4_block3_3_conv False\n",
      "110 conv4_block3_3_bn False\n",
      "111 conv4_block3_add False\n",
      "112 conv4_block3_out False\n",
      "113 conv4_block4_1_conv False\n",
      "114 conv4_block4_1_bn False\n",
      "115 conv4_block4_1_relu False\n",
      "116 conv4_block4_2_conv False\n",
      "117 conv4_block4_2_bn False\n",
      "118 conv4_block4_2_relu False\n",
      "119 conv4_block4_3_conv False\n",
      "120 conv4_block4_3_bn False\n",
      "121 conv4_block4_add False\n",
      "122 conv4_block4_out False\n",
      "123 conv4_block5_1_conv False\n",
      "124 conv4_block5_1_bn False\n",
      "125 conv4_block5_1_relu False\n",
      "126 conv4_block5_2_conv False\n",
      "127 conv4_block5_2_bn False\n",
      "128 conv4_block5_2_relu False\n",
      "129 conv4_block5_3_conv False\n",
      "130 conv4_block5_3_bn False\n",
      "131 conv4_block5_add False\n",
      "132 conv4_block5_out False\n",
      "133 conv4_block6_1_conv False\n",
      "134 conv4_block6_1_bn False\n",
      "135 conv4_block6_1_relu False\n",
      "136 conv4_block6_2_conv False\n",
      "137 conv4_block6_2_bn False\n",
      "138 conv4_block6_2_relu False\n",
      "139 conv4_block6_3_conv False\n",
      "140 conv4_block6_3_bn False\n",
      "141 conv4_block6_add False\n",
      "142 conv4_block6_out False\n",
      "143 conv5_block1_1_conv False\n",
      "144 conv5_block1_1_bn False\n",
      "145 conv5_block1_1_relu False\n",
      "146 conv5_block1_2_conv False\n",
      "147 conv5_block1_2_bn False\n",
      "148 conv5_block1_2_relu False\n",
      "149 conv5_block1_0_conv False\n",
      "150 conv5_block1_3_conv False\n",
      "151 conv5_block1_0_bn False\n",
      "152 conv5_block1_3_bn False\n",
      "153 conv5_block1_add False\n",
      "154 conv5_block1_out False\n",
      "155 conv5_block2_1_conv False\n",
      "156 conv5_block2_1_bn False\n",
      "157 conv5_block2_1_relu False\n",
      "158 conv5_block2_2_conv False\n",
      "159 conv5_block2_2_bn False\n",
      "160 conv5_block2_2_relu False\n",
      "161 conv5_block2_3_conv False\n",
      "162 conv5_block2_3_bn False\n",
      "163 conv5_block2_add False\n",
      "164 conv5_block2_out False\n",
      "165 conv5_block3_1_conv False\n",
      "166 conv5_block3_1_bn False\n",
      "167 conv5_block3_1_relu False\n",
      "168 conv5_block3_2_conv False\n",
      "169 conv5_block3_2_bn True\n",
      "170 conv5_block3_2_relu True\n",
      "171 conv5_block3_3_conv True\n",
      "172 conv5_block3_3_bn True\n",
      "173 conv5_block3_add True\n",
      "174 conv5_block3_out True\n"
     ]
    }
   ],
   "source": [
    "# 6l\n",
    "for layer in model_r.layers[:169]:\n",
    "    layer.trainable = False\n",
    "for i, layer in enumerate(model_r.layers):\n",
    "    print(i, layer.name, layer.trainable)"
   ]
  },
  {
   "cell_type": "code",
   "execution_count": 70,
   "metadata": {
    "execution": {
     "iopub.execute_input": "2022-02-03T19:01:19.104681Z",
     "iopub.status.busy": "2022-02-03T19:01:19.104366Z",
     "iopub.status.idle": "2022-02-03T19:01:19.527823Z",
     "shell.execute_reply": "2022-02-03T19:01:19.527069Z",
     "shell.execute_reply.started": "2022-02-03T19:01:19.104642Z"
    }
   },
   "outputs": [],
   "source": [
    "resnet = tf.keras.Sequential([\n",
    "  model_r,\n",
    "  GlobalAveragePooling2D(),\n",
    "  Dropout(0.2),\n",
    "  Dense(64,activation='relu'),\n",
    "  Dropout(0.2),\n",
    "  Dense(64,activation='relu'),\n",
    "  Dropout(0.2),\n",
    "  Dense(2, activation='sigmoid')])"
   ]
  },
  {
   "cell_type": "code",
   "execution_count": 71,
   "metadata": {
    "execution": {
     "iopub.execute_input": "2022-02-03T19:02:04.443239Z",
     "iopub.status.busy": "2022-02-03T19:02:04.442958Z",
     "iopub.status.idle": "2022-02-03T19:02:04.457981Z",
     "shell.execute_reply": "2022-02-03T19:02:04.457289Z",
     "shell.execute_reply.started": "2022-02-03T19:02:04.443206Z"
    }
   },
   "outputs": [],
   "source": [
    "adam = Adam(learning_rate=0.00001)\n",
    "resnet.compile(optimizer=adam,loss='binary_crossentropy',metrics=['accuracy'])"
   ]
  },
  {
   "cell_type": "code",
   "execution_count": 72,
   "metadata": {
    "execution": {
     "iopub.execute_input": "2022-02-03T19:02:19.097228Z",
     "iopub.status.busy": "2022-02-03T19:02:19.096944Z",
     "iopub.status.idle": "2022-02-03T19:09:34.589181Z",
     "shell.execute_reply": "2022-02-03T19:09:34.588396Z",
     "shell.execute_reply.started": "2022-02-03T19:02:19.097198Z"
    }
   },
   "outputs": [
    {
     "name": "stdout",
     "output_type": "stream",
     "text": [
      "Epoch 1/30\n",
      "31/31 [==============================] - 18s 467ms/step - loss: 0.7092 - accuracy: 0.5092 - val_loss: 0.7030 - val_accuracy: 0.5082\n",
      "Epoch 2/30\n",
      "31/31 [==============================] - 13s 434ms/step - loss: 0.7112 - accuracy: 0.5000 - val_loss: 0.6966 - val_accuracy: 0.5082\n",
      "Epoch 3/30\n",
      "31/31 [==============================] - 14s 457ms/step - loss: 0.6923 - accuracy: 0.5543 - val_loss: 0.6941 - val_accuracy: 0.5205\n",
      "Epoch 4/30\n",
      "31/31 [==============================] - 14s 449ms/step - loss: 0.6938 - accuracy: 0.5379 - val_loss: 0.6894 - val_accuracy: 0.7213\n",
      "Epoch 5/30\n",
      "31/31 [==============================] - 14s 455ms/step - loss: 0.6832 - accuracy: 0.6014 - val_loss: 0.6846 - val_accuracy: 0.6762\n",
      "Epoch 6/30\n",
      "31/31 [==============================] - 14s 435ms/step - loss: 0.6779 - accuracy: 0.6260 - val_loss: 0.6767 - val_accuracy: 0.6516\n",
      "Epoch 7/30\n",
      "31/31 [==============================] - 15s 472ms/step - loss: 0.6733 - accuracy: 0.6096 - val_loss: 0.6646 - val_accuracy: 0.6885\n",
      "Epoch 8/30\n",
      "31/31 [==============================] - 13s 433ms/step - loss: 0.6715 - accuracy: 0.6250 - val_loss: 0.6499 - val_accuracy: 0.7213\n",
      "Epoch 9/30\n",
      "31/31 [==============================] - 14s 437ms/step - loss: 0.6671 - accuracy: 0.6404 - val_loss: 0.6385 - val_accuracy: 0.7008\n",
      "Epoch 10/30\n",
      "31/31 [==============================] - 14s 462ms/step - loss: 0.6580 - accuracy: 0.6537 - val_loss: 0.6210 - val_accuracy: 0.7459\n",
      "Epoch 11/30\n",
      "31/31 [==============================] - 14s 450ms/step - loss: 0.6614 - accuracy: 0.6445 - val_loss: 0.6043 - val_accuracy: 0.7582\n",
      "Epoch 12/30\n",
      "31/31 [==============================] - 14s 458ms/step - loss: 0.6545 - accuracy: 0.6465 - val_loss: 0.5890 - val_accuracy: 0.7623\n",
      "Epoch 13/30\n",
      "31/31 [==============================] - 13s 433ms/step - loss: 0.6408 - accuracy: 0.6752 - val_loss: 0.5719 - val_accuracy: 0.7746\n",
      "Epoch 14/30\n",
      "31/31 [==============================] - 14s 458ms/step - loss: 0.6352 - accuracy: 0.6547 - val_loss: 0.5578 - val_accuracy: 0.7951\n",
      "Epoch 15/30\n",
      "31/31 [==============================] - 13s 433ms/step - loss: 0.6298 - accuracy: 0.6865 - val_loss: 0.5480 - val_accuracy: 0.7869\n",
      "Epoch 16/30\n",
      "31/31 [==============================] - 14s 463ms/step - loss: 0.6336 - accuracy: 0.6793 - val_loss: 0.5362 - val_accuracy: 0.8156\n",
      "Epoch 17/30\n",
      "31/31 [==============================] - 14s 437ms/step - loss: 0.6213 - accuracy: 0.6732 - val_loss: 0.5251 - val_accuracy: 0.7828\n",
      "Epoch 18/30\n",
      "31/31 [==============================] - 14s 452ms/step - loss: 0.6030 - accuracy: 0.7295 - val_loss: 0.5073 - val_accuracy: 0.8115\n",
      "Epoch 19/30\n",
      "31/31 [==============================] - 14s 435ms/step - loss: 0.5963 - accuracy: 0.7131 - val_loss: 0.4959 - val_accuracy: 0.8320\n",
      "Epoch 20/30\n",
      "31/31 [==============================] - 14s 445ms/step - loss: 0.5869 - accuracy: 0.7295 - val_loss: 0.4837 - val_accuracy: 0.8074\n",
      "Epoch 21/30\n",
      "31/31 [==============================] - 14s 455ms/step - loss: 0.5909 - accuracy: 0.7018 - val_loss: 0.4734 - val_accuracy: 0.8361\n",
      "Epoch 22/30\n",
      "31/31 [==============================] - 14s 435ms/step - loss: 0.5880 - accuracy: 0.6947 - val_loss: 0.4633 - val_accuracy: 0.8402\n",
      "Epoch 23/30\n",
      "31/31 [==============================] - 14s 455ms/step - loss: 0.5681 - accuracy: 0.7305 - val_loss: 0.4551 - val_accuracy: 0.8402\n",
      "Epoch 24/30\n",
      "31/31 [==============================] - 14s 446ms/step - loss: 0.5770 - accuracy: 0.7213 - val_loss: 0.4469 - val_accuracy: 0.8443\n",
      "Epoch 25/30\n",
      "31/31 [==============================] - 14s 454ms/step - loss: 0.5642 - accuracy: 0.7367 - val_loss: 0.4400 - val_accuracy: 0.8443\n",
      "Epoch 26/30\n",
      "31/31 [==============================] - 14s 445ms/step - loss: 0.5699 - accuracy: 0.7131 - val_loss: 0.4335 - val_accuracy: 0.8443\n",
      "Epoch 27/30\n",
      "31/31 [==============================] - 14s 448ms/step - loss: 0.5683 - accuracy: 0.7254 - val_loss: 0.4302 - val_accuracy: 0.8197\n",
      "Epoch 28/30\n",
      "31/31 [==============================] - 15s 459ms/step - loss: 0.5726 - accuracy: 0.7100 - val_loss: 0.4261 - val_accuracy: 0.8361\n",
      "Epoch 29/30\n",
      "31/31 [==============================] - 14s 441ms/step - loss: 0.5537 - accuracy: 0.7223 - val_loss: 0.4220 - val_accuracy: 0.8320\n",
      "Epoch 30/30\n",
      "31/31 [==============================] - 14s 454ms/step - loss: 0.5494 - accuracy: 0.7500 - val_loss: 0.4138 - val_accuracy: 0.8402\n"
     ]
    }
   ],
   "source": [
    "resnet_model= resnet.fit(train_generator_sm, epochs=30, validation_data=test_generator_sm, validation_steps=len(test_generator_sm),callbacks=keras_callbacks)"
   ]
  },
  {
   "cell_type": "code",
   "execution_count": 73,
   "metadata": {
    "execution": {
     "iopub.execute_input": "2022-02-03T19:10:04.173648Z",
     "iopub.status.busy": "2022-02-03T19:10:04.173364Z",
     "iopub.status.idle": "2022-02-03T19:10:04.371677Z",
     "shell.execute_reply": "2022-02-03T19:10:04.370931Z",
     "shell.execute_reply.started": "2022-02-03T19:10:04.173616Z"
    }
   },
   "outputs": [
    {
     "data": {
      "image/png": "[encoded data removed]",
      "text/plain": [
       "<Figure size 432x288 with 1 Axes>"
      ]
     },
     "metadata": {
      "needs_background": "light"
     },
     "output_type": "display_data"
    }
   ],
   "source": [
    "plt.plot(resnet_model.history['accuracy'],'r',label='train accuracy')\n",
    "plt.plot(resnet_model.history['val_accuracy'],'g',label='validation accuracy')\n",
    "plt.legend()\n",
    "plt.show()"
   ]
  },
  {
   "cell_type": "code",
   "execution_count": 74,
   "metadata": {
    "execution": {
     "iopub.execute_input": "2022-02-03T19:10:08.577572Z",
     "iopub.status.busy": "2022-02-03T19:10:08.576944Z",
     "iopub.status.idle": "2022-02-03T19:10:08.769836Z",
     "shell.execute_reply": "2022-02-03T19:10:08.769125Z",
     "shell.execute_reply.started": "2022-02-03T19:10:08.577499Z"
    }
   },
   "outputs": [
    {
     "data": {
      "image/png": "[encoded data removed]",
      "text/plain": [
       "<Figure size 432x288 with 1 Axes>"
      ]
     },
     "metadata": {
      "needs_background": "light"
     },
     "output_type": "display_data"
    }
   ],
   "source": [
    "plt.plot(resnet_model.history['loss'],'r',label='train loss')\n",
    "plt.plot(resnet_model.history['val_loss'],'g',label='validation loss')\n",
    "plt.legend()\n",
    "plt.show()"
   ]
  },
  {
   "cell_type": "raw",
   "metadata": {},
   "source": [
    "# serialize model to JSON\n",
    "model_json = vgg.to_json()\n",
    "with open(\"Model_4.json\", \"w\") as json_file:\n",
    "    json_file.write(model_json)\n",
    "# serialize weights to HDF5\n",
    "vgg.save_weights(\"Model_4.h5\")"
   ]
  },
  {
   "cell_type": "code",
   "execution_count": 75,
   "metadata": {
    "execution": {
     "iopub.execute_input": "2022-02-03T19:10:17.101863Z",
     "iopub.status.busy": "2022-02-03T19:10:17.101527Z",
     "iopub.status.idle": "2022-02-03T19:10:17.105778Z",
     "shell.execute_reply": "2022-02-03T19:10:17.105018Z",
     "shell.execute_reply.started": "2022-02-03T19:10:17.101831Z"
    }
   },
   "outputs": [],
   "source": [
    "# model4_train = resnet_model.history['accuracy']\n",
    "# model4_test = resnet_model.history['val_accuracy']"
   ]
  },
  {
   "cell_type": "code",
   "execution_count": 88,
   "metadata": {},
   "outputs": [
    {
     "data": {
      "text/html": [
       "<div>\n",
       "<style scoped>\n",
       "    .dataframe tbody tr th:only-of-type {\n",
       "        vertical-align: middle;\n",
       "    }\n",
       "\n",
       "    .dataframe tbody tr th {\n",
       "        vertical-align: top;\n",
       "    }\n",
       "\n",
       "    .dataframe thead th {\n",
       "        text-align: right;\n",
       "    }\n",
       "</style>\n",
       "<table border=\"1\" class=\"dataframe\">\n",
       "  <thead>\n",
       "    <tr style=\"text-align: right;\">\n",
       "      <th></th>\n",
       "      <th>Model_Name</th>\n",
       "      <th>Train_Accuracy</th>\n",
       "      <th>Train_Loss</th>\n",
       "      <th>Validation_Accuracy</th>\n",
       "      <th>Validation_Loss</th>\n",
       "    </tr>\n",
       "  </thead>\n",
       "  <tbody>\n",
       "    <tr>\n",
       "      <th>0</th>\n",
       "      <td>Base_Model_1</td>\n",
       "      <td>0.728916</td>\n",
       "      <td>0.536628</td>\n",
       "      <td>0.754491</td>\n",
       "      <td>0.469150</td>\n",
       "    </tr>\n",
       "    <tr>\n",
       "      <th>1</th>\n",
       "      <td>Base_model_smote_2</td>\n",
       "      <td>0.934426</td>\n",
       "      <td>0.154563</td>\n",
       "      <td>0.959016</td>\n",
       "      <td>0.118624</td>\n",
       "    </tr>\n",
       "    <tr>\n",
       "      <th>2</th>\n",
       "      <td>Model_3</td>\n",
       "      <td>0.953893</td>\n",
       "      <td>0.140960</td>\n",
       "      <td>0.950820</td>\n",
       "      <td>0.162867</td>\n",
       "    </tr>\n",
       "    <tr>\n",
       "      <th>3</th>\n",
       "      <td>Model 4 TransferLearning(RESNET-50)</td>\n",
       "      <td>0.750000</td>\n",
       "      <td>0.549434</td>\n",
       "      <td>0.840164</td>\n",
       "      <td>0.413794</td>\n",
       "    </tr>\n",
       "  </tbody>\n",
       "</table>\n",
       "</div>"
      ],
      "text/plain": [
       "                            Model_Name  Train_Accuracy  Train_Loss  \\\n",
       "0                         Base_Model_1        0.728916    0.536628   \n",
       "1                   Base_model_smote_2        0.934426    0.154563   \n",
       "2                              Model_3        0.953893    0.140960   \n",
       "3  Model 4 TransferLearning(RESNET-50)        0.750000    0.549434   \n",
       "\n",
       "   Validation_Accuracy  Validation_Loss  \n",
       "0             0.754491         0.469150  \n",
       "1             0.959016         0.118624  \n",
       "2             0.950820         0.162867  \n",
       "3             0.840164         0.413794  "
      ]
     },
     "execution_count": 88,
     "metadata": {},
     "output_type": "execute_result"
    }
   ],
   "source": [
    "score = pd.Series({'Model_Name':'Model 4 TransferLearning(RESNET-50)','Train_Accuracy':resnet_model.history['accuracy'][-1],'Train_Loss':resnet_model.history['loss'][-1],'Validation_Accuracy':resnet_model.history['val_accuracy'][-1],'Validation_Loss':resnet_model.history['val_loss'][-1]})\n",
    "score_card=score_card.append(score,ignore_index=True)\n",
    "score_card"
   ]
  },
  {
   "cell_type": "code",
   "execution_count": null,
   "metadata": {
    "execution": {
     "iopub.execute_input": "2022-01-31T06:23:17.536758Z",
     "iopub.status.busy": "2022-01-31T06:23:17.536192Z",
     "iopub.status.idle": "2022-01-31T06:23:17.539966Z",
     "shell.execute_reply": "2022-01-31T06:23:17.539171Z",
     "shell.execute_reply.started": "2022-01-31T06:23:17.536716Z"
    }
   },
   "outputs": [],
   "source": [
    "# loss is high and under fitting"
   ]
  },
  {
   "cell_type": "markdown",
   "metadata": {},
   "source": [
    "# Xception"
   ]
  },
  {
   "cell_type": "code",
   "execution_count": 77,
   "metadata": {
    "execution": {
     "iopub.execute_input": "2022-02-03T19:11:35.757388Z",
     "iopub.status.busy": "2022-02-03T19:11:35.756509Z",
     "iopub.status.idle": "2022-02-03T19:11:37.607345Z",
     "shell.execute_reply": "2022-02-03T19:11:37.606597Z",
     "shell.execute_reply.started": "2022-02-03T19:11:35.757348Z"
    }
   },
   "outputs": [
    {
     "name": "stdout",
     "output_type": "stream",
     "text": [
      "Downloading data from https://storage.googleapis.com/tensorflow/keras-applications/xception/xception_weights_tf_dim_ordering_tf_kernels_notop.h5\n",
      "83689472/83683744 [==============================] - 1s 0us/step\n",
      "83697664/83683744 [==============================] - 1s 0us/step\n"
     ]
    }
   ],
   "source": [
    "from tensorflow.keras.applications import Xception\n",
    "model_x = Xception(include_top=False, input_shape=(256,256,3), weights='imagenet')"
   ]
  },
  {
   "cell_type": "code",
   "execution_count": 78,
   "metadata": {
    "execution": {
     "iopub.execute_input": "2022-02-03T19:13:33.984411Z",
     "iopub.status.busy": "2022-02-03T19:13:33.983677Z",
     "iopub.status.idle": "2022-02-03T19:13:34.052310Z",
     "shell.execute_reply": "2022-02-03T19:13:34.051553Z",
     "shell.execute_reply.started": "2022-02-03T19:13:33.984371Z"
    }
   },
   "outputs": [
    {
     "name": "stdout",
     "output_type": "stream",
     "text": [
      "Model: \"xception\"\n",
      "__________________________________________________________________________________________________\n",
      "Layer (type)                    Output Shape         Param #     Connected to                     \n",
      "==================================================================================================\n",
      "input_3 (InputLayer)            [(None, 256, 256, 3) 0                                            \n",
      "__________________________________________________________________________________________________\n",
      "block1_conv1 (Conv2D)           (None, 127, 127, 32) 864         input_3[0][0]                    \n",
      "__________________________________________________________________________________________________\n",
      "block1_conv1_bn (BatchNormaliza (None, 127, 127, 32) 128         block1_conv1[0][0]               \n",
      "__________________________________________________________________________________________________\n",
      "block1_conv1_act (Activation)   (None, 127, 127, 32) 0           block1_conv1_bn[0][0]            \n",
      "__________________________________________________________________________________________________\n",
      "block1_conv2 (Conv2D)           (None, 125, 125, 64) 18432       block1_conv1_act[0][0]           \n",
      "__________________________________________________________________________________________________\n",
      "block1_conv2_bn (BatchNormaliza (None, 125, 125, 64) 256         block1_conv2[0][0]               \n",
      "__________________________________________________________________________________________________\n",
      "block1_conv2_act (Activation)   (None, 125, 125, 64) 0           block1_conv2_bn[0][0]            \n",
      "__________________________________________________________________________________________________\n",
      "block2_sepconv1 (SeparableConv2 (None, 125, 125, 128 8768        block1_conv2_act[0][0]           \n",
      "__________________________________________________________________________________________________\n",
      "block2_sepconv1_bn (BatchNormal (None, 125, 125, 128 512         block2_sepconv1[0][0]            \n",
      "__________________________________________________________________________________________________\n",
      "block2_sepconv2_act (Activation (None, 125, 125, 128 0           block2_sepconv1_bn[0][0]         \n",
      "__________________________________________________________________________________________________\n",
      "block2_sepconv2 (SeparableConv2 (None, 125, 125, 128 17536       block2_sepconv2_act[0][0]        \n",
      "__________________________________________________________________________________________________\n",
      "block2_sepconv2_bn (BatchNormal (None, 125, 125, 128 512         block2_sepconv2[0][0]            \n",
      "__________________________________________________________________________________________________\n",
      "conv2d_26 (Conv2D)              (None, 63, 63, 128)  8192        block1_conv2_act[0][0]           \n",
      "__________________________________________________________________________________________________\n",
      "block2_pool (MaxPooling2D)      (None, 63, 63, 128)  0           block2_sepconv2_bn[0][0]         \n",
      "__________________________________________________________________________________________________\n",
      "batch_normalization (BatchNorma (None, 63, 63, 128)  512         conv2d_26[0][0]                  \n",
      "__________________________________________________________________________________________________\n",
      "add (Add)                       (None, 63, 63, 128)  0           block2_pool[0][0]                \n",
      "                                                                 batch_normalization[0][0]        \n",
      "__________________________________________________________________________________________________\n",
      "block3_sepconv1_act (Activation (None, 63, 63, 128)  0           add[0][0]                        \n",
      "__________________________________________________________________________________________________\n",
      "block3_sepconv1 (SeparableConv2 (None, 63, 63, 256)  33920       block3_sepconv1_act[0][0]        \n",
      "__________________________________________________________________________________________________\n",
      "block3_sepconv1_bn (BatchNormal (None, 63, 63, 256)  1024        block3_sepconv1[0][0]            \n",
      "__________________________________________________________________________________________________\n",
      "block3_sepconv2_act (Activation (None, 63, 63, 256)  0           block3_sepconv1_bn[0][0]         \n",
      "__________________________________________________________________________________________________\n",
      "block3_sepconv2 (SeparableConv2 (None, 63, 63, 256)  67840       block3_sepconv2_act[0][0]        \n",
      "__________________________________________________________________________________________________\n",
      "block3_sepconv2_bn (BatchNormal (None, 63, 63, 256)  1024        block3_sepconv2[0][0]            \n",
      "__________________________________________________________________________________________________\n",
      "conv2d_27 (Conv2D)              (None, 32, 32, 256)  32768       add[0][0]                        \n",
      "__________________________________________________________________________________________________\n",
      "block3_pool (MaxPooling2D)      (None, 32, 32, 256)  0           block3_sepconv2_bn[0][0]         \n",
      "__________________________________________________________________________________________________\n",
      "batch_normalization_1 (BatchNor (None, 32, 32, 256)  1024        conv2d_27[0][0]                  \n",
      "__________________________________________________________________________________________________\n",
      "add_1 (Add)                     (None, 32, 32, 256)  0           block3_pool[0][0]                \n",
      "                                                                 batch_normalization_1[0][0]      \n",
      "__________________________________________________________________________________________________\n",
      "block4_sepconv1_act (Activation (None, 32, 32, 256)  0           add_1[0][0]                      \n",
      "__________________________________________________________________________________________________\n",
      "block4_sepconv1 (SeparableConv2 (None, 32, 32, 728)  188672      block4_sepconv1_act[0][0]        \n",
      "__________________________________________________________________________________________________\n",
      "block4_sepconv1_bn (BatchNormal (None, 32, 32, 728)  2912        block4_sepconv1[0][0]            \n",
      "__________________________________________________________________________________________________\n",
      "block4_sepconv2_act (Activation (None, 32, 32, 728)  0           block4_sepconv1_bn[0][0]         \n",
      "__________________________________________________________________________________________________\n",
      "block4_sepconv2 (SeparableConv2 (None, 32, 32, 728)  536536      block4_sepconv2_act[0][0]        \n",
      "__________________________________________________________________________________________________\n",
      "block4_sepconv2_bn (BatchNormal (None, 32, 32, 728)  2912        block4_sepconv2[0][0]            \n",
      "__________________________________________________________________________________________________\n",
      "conv2d_28 (Conv2D)              (None, 16, 16, 728)  186368      add_1[0][0]                      \n",
      "__________________________________________________________________________________________________\n",
      "block4_pool (MaxPooling2D)      (None, 16, 16, 728)  0           block4_sepconv2_bn[0][0]         \n",
      "__________________________________________________________________________________________________\n",
      "batch_normalization_2 (BatchNor (None, 16, 16, 728)  2912        conv2d_28[0][0]                  \n",
      "__________________________________________________________________________________________________\n",
      "add_2 (Add)                     (None, 16, 16, 728)  0           block4_pool[0][0]                \n",
      "                                                                 batch_normalization_2[0][0]      \n",
      "__________________________________________________________________________________________________\n",
      "block5_sepconv1_act (Activation (None, 16, 16, 728)  0           add_2[0][0]                      \n",
      "__________________________________________________________________________________________________\n",
      "block5_sepconv1 (SeparableConv2 (None, 16, 16, 728)  536536      block5_sepconv1_act[0][0]        \n",
      "__________________________________________________________________________________________________\n",
      "block5_sepconv1_bn (BatchNormal (None, 16, 16, 728)  2912        block5_sepconv1[0][0]            \n",
      "__________________________________________________________________________________________________\n",
      "block5_sepconv2_act (Activation (None, 16, 16, 728)  0           block5_sepconv1_bn[0][0]         \n",
      "__________________________________________________________________________________________________\n",
      "block5_sepconv2 (SeparableConv2 (None, 16, 16, 728)  536536      block5_sepconv2_act[0][0]        \n",
      "__________________________________________________________________________________________________\n",
      "block5_sepconv2_bn (BatchNormal (None, 16, 16, 728)  2912        block5_sepconv2[0][0]            \n",
      "__________________________________________________________________________________________________\n",
      "block5_sepconv3_act (Activation (None, 16, 16, 728)  0           block5_sepconv2_bn[0][0]         \n",
      "__________________________________________________________________________________________________\n",
      "block5_sepconv3 (SeparableConv2 (None, 16, 16, 728)  536536      block5_sepconv3_act[0][0]        \n",
      "__________________________________________________________________________________________________\n",
      "block5_sepconv3_bn (BatchNormal (None, 16, 16, 728)  2912        block5_sepconv3[0][0]            \n",
      "__________________________________________________________________________________________________\n",
      "add_3 (Add)                     (None, 16, 16, 728)  0           block5_sepconv3_bn[0][0]         \n",
      "                                                                 add_2[0][0]                      \n",
      "__________________________________________________________________________________________________\n",
      "block6_sepconv1_act (Activation (None, 16, 16, 728)  0           add_3[0][0]                      \n",
      "__________________________________________________________________________________________________\n",
      "block6_sepconv1 (SeparableConv2 (None, 16, 16, 728)  536536      block6_sepconv1_act[0][0]        \n",
      "__________________________________________________________________________________________________\n",
      "block6_sepconv1_bn (BatchNormal (None, 16, 16, 728)  2912        block6_sepconv1[0][0]            \n",
      "__________________________________________________________________________________________________\n",
      "block6_sepconv2_act (Activation (None, 16, 16, 728)  0           block6_sepconv1_bn[0][0]         \n",
      "__________________________________________________________________________________________________\n",
      "block6_sepconv2 (SeparableConv2 (None, 16, 16, 728)  536536      block6_sepconv2_act[0][0]        \n",
      "__________________________________________________________________________________________________\n",
      "block6_sepconv2_bn (BatchNormal (None, 16, 16, 728)  2912        block6_sepconv2[0][0]            \n",
      "__________________________________________________________________________________________________\n",
      "block6_sepconv3_act (Activation (None, 16, 16, 728)  0           block6_sepconv2_bn[0][0]         \n",
      "__________________________________________________________________________________________________\n",
      "block6_sepconv3 (SeparableConv2 (None, 16, 16, 728)  536536      block6_sepconv3_act[0][0]        \n",
      "__________________________________________________________________________________________________\n",
      "block6_sepconv3_bn (BatchNormal (None, 16, 16, 728)  2912        block6_sepconv3[0][0]            \n",
      "__________________________________________________________________________________________________\n",
      "add_4 (Add)                     (None, 16, 16, 728)  0           block6_sepconv3_bn[0][0]         \n",
      "                                                                 add_3[0][0]                      \n",
      "__________________________________________________________________________________________________\n",
      "block7_sepconv1_act (Activation (None, 16, 16, 728)  0           add_4[0][0]                      \n",
      "__________________________________________________________________________________________________\n",
      "block7_sepconv1 (SeparableConv2 (None, 16, 16, 728)  536536      block7_sepconv1_act[0][0]        \n",
      "__________________________________________________________________________________________________\n",
      "block7_sepconv1_bn (BatchNormal (None, 16, 16, 728)  2912        block7_sepconv1[0][0]            \n",
      "__________________________________________________________________________________________________\n",
      "block7_sepconv2_act (Activation (None, 16, 16, 728)  0           block7_sepconv1_bn[0][0]         \n",
      "__________________________________________________________________________________________________\n",
      "block7_sepconv2 (SeparableConv2 (None, 16, 16, 728)  536536      block7_sepconv2_act[0][0]        \n",
      "__________________________________________________________________________________________________\n",
      "block7_sepconv2_bn (BatchNormal (None, 16, 16, 728)  2912        block7_sepconv2[0][0]            \n",
      "__________________________________________________________________________________________________\n",
      "block7_sepconv3_act (Activation (None, 16, 16, 728)  0           block7_sepconv2_bn[0][0]         \n",
      "__________________________________________________________________________________________________\n",
      "block7_sepconv3 (SeparableConv2 (None, 16, 16, 728)  536536      block7_sepconv3_act[0][0]        \n",
      "__________________________________________________________________________________________________\n",
      "block7_sepconv3_bn (BatchNormal (None, 16, 16, 728)  2912        block7_sepconv3[0][0]            \n",
      "__________________________________________________________________________________________________\n",
      "add_5 (Add)                     (None, 16, 16, 728)  0           block7_sepconv3_bn[0][0]         \n",
      "                                                                 add_4[0][0]                      \n",
      "__________________________________________________________________________________________________\n",
      "block8_sepconv1_act (Activation (None, 16, 16, 728)  0           add_5[0][0]                      \n",
      "__________________________________________________________________________________________________\n",
      "block8_sepconv1 (SeparableConv2 (None, 16, 16, 728)  536536      block8_sepconv1_act[0][0]        \n",
      "__________________________________________________________________________________________________\n",
      "block8_sepconv1_bn (BatchNormal (None, 16, 16, 728)  2912        block8_sepconv1[0][0]            \n",
      "__________________________________________________________________________________________________\n",
      "block8_sepconv2_act (Activation (None, 16, 16, 728)  0           block8_sepconv1_bn[0][0]         \n",
      "__________________________________________________________________________________________________\n",
      "block8_sepconv2 (SeparableConv2 (None, 16, 16, 728)  536536      block8_sepconv2_act[0][0]        \n",
      "__________________________________________________________________________________________________\n",
      "block8_sepconv2_bn (BatchNormal (None, 16, 16, 728)  2912        block8_sepconv2[0][0]            \n",
      "__________________________________________________________________________________________________\n",
      "block8_sepconv3_act (Activation (None, 16, 16, 728)  0           block8_sepconv2_bn[0][0]         \n",
      "__________________________________________________________________________________________________\n",
      "block8_sepconv3 (SeparableConv2 (None, 16, 16, 728)  536536      block8_sepconv3_act[0][0]        \n",
      "__________________________________________________________________________________________________\n",
      "block8_sepconv3_bn (BatchNormal (None, 16, 16, 728)  2912        block8_sepconv3[0][0]            \n",
      "__________________________________________________________________________________________________\n",
      "add_6 (Add)                     (None, 16, 16, 728)  0           block8_sepconv3_bn[0][0]         \n",
      "                                                                 add_5[0][0]                      \n",
      "__________________________________________________________________________________________________\n",
      "block9_sepconv1_act (Activation (None, 16, 16, 728)  0           add_6[0][0]                      \n",
      "__________________________________________________________________________________________________\n",
      "block9_sepconv1 (SeparableConv2 (None, 16, 16, 728)  536536      block9_sepconv1_act[0][0]        \n",
      "__________________________________________________________________________________________________\n",
      "block9_sepconv1_bn (BatchNormal (None, 16, 16, 728)  2912        block9_sepconv1[0][0]            \n",
      "__________________________________________________________________________________________________\n",
      "block9_sepconv2_act (Activation (None, 16, 16, 728)  0           block9_sepconv1_bn[0][0]         \n",
      "__________________________________________________________________________________________________\n",
      "block9_sepconv2 (SeparableConv2 (None, 16, 16, 728)  536536      block9_sepconv2_act[0][0]        \n",
      "__________________________________________________________________________________________________\n",
      "block9_sepconv2_bn (BatchNormal (None, 16, 16, 728)  2912        block9_sepconv2[0][0]            \n",
      "__________________________________________________________________________________________________\n",
      "block9_sepconv3_act (Activation (None, 16, 16, 728)  0           block9_sepconv2_bn[0][0]         \n",
      "__________________________________________________________________________________________________\n",
      "block9_sepconv3 (SeparableConv2 (None, 16, 16, 728)  536536      block9_sepconv3_act[0][0]        \n",
      "__________________________________________________________________________________________________\n",
      "block9_sepconv3_bn (BatchNormal (None, 16, 16, 728)  2912        block9_sepconv3[0][0]            \n",
      "__________________________________________________________________________________________________\n",
      "add_7 (Add)                     (None, 16, 16, 728)  0           block9_sepconv3_bn[0][0]         \n",
      "                                                                 add_6[0][0]                      \n",
      "__________________________________________________________________________________________________\n",
      "block10_sepconv1_act (Activatio (None, 16, 16, 728)  0           add_7[0][0]                      \n",
      "__________________________________________________________________________________________________\n",
      "block10_sepconv1 (SeparableConv (None, 16, 16, 728)  536536      block10_sepconv1_act[0][0]       \n",
      "__________________________________________________________________________________________________\n",
      "block10_sepconv1_bn (BatchNorma (None, 16, 16, 728)  2912        block10_sepconv1[0][0]           \n",
      "__________________________________________________________________________________________________\n",
      "block10_sepconv2_act (Activatio (None, 16, 16, 728)  0           block10_sepconv1_bn[0][0]        \n",
      "__________________________________________________________________________________________________\n",
      "block10_sepconv2 (SeparableConv (None, 16, 16, 728)  536536      block10_sepconv2_act[0][0]       \n",
      "__________________________________________________________________________________________________\n",
      "block10_sepconv2_bn (BatchNorma (None, 16, 16, 728)  2912        block10_sepconv2[0][0]           \n",
      "__________________________________________________________________________________________________\n",
      "block10_sepconv3_act (Activatio (None, 16, 16, 728)  0           block10_sepconv2_bn[0][0]        \n",
      "__________________________________________________________________________________________________\n",
      "block10_sepconv3 (SeparableConv (None, 16, 16, 728)  536536      block10_sepconv3_act[0][0]       \n",
      "__________________________________________________________________________________________________\n",
      "block10_sepconv3_bn (BatchNorma (None, 16, 16, 728)  2912        block10_sepconv3[0][0]           \n",
      "__________________________________________________________________________________________________\n",
      "add_8 (Add)                     (None, 16, 16, 728)  0           block10_sepconv3_bn[0][0]        \n",
      "                                                                 add_7[0][0]                      \n",
      "__________________________________________________________________________________________________\n",
      "block11_sepconv1_act (Activatio (None, 16, 16, 728)  0           add_8[0][0]                      \n",
      "__________________________________________________________________________________________________\n",
      "block11_sepconv1 (SeparableConv (None, 16, 16, 728)  536536      block11_sepconv1_act[0][0]       \n",
      "__________________________________________________________________________________________________\n",
      "block11_sepconv1_bn (BatchNorma (None, 16, 16, 728)  2912        block11_sepconv1[0][0]           \n",
      "__________________________________________________________________________________________________\n",
      "block11_sepconv2_act (Activatio (None, 16, 16, 728)  0           block11_sepconv1_bn[0][0]        \n",
      "__________________________________________________________________________________________________\n",
      "block11_sepconv2 (SeparableConv (None, 16, 16, 728)  536536      block11_sepconv2_act[0][0]       \n",
      "__________________________________________________________________________________________________\n",
      "block11_sepconv2_bn (BatchNorma (None, 16, 16, 728)  2912        block11_sepconv2[0][0]           \n",
      "__________________________________________________________________________________________________\n",
      "block11_sepconv3_act (Activatio (None, 16, 16, 728)  0           block11_sepconv2_bn[0][0]        \n",
      "__________________________________________________________________________________________________\n",
      "block11_sepconv3 (SeparableConv (None, 16, 16, 728)  536536      block11_sepconv3_act[0][0]       \n",
      "__________________________________________________________________________________________________\n",
      "block11_sepconv3_bn (BatchNorma (None, 16, 16, 728)  2912        block11_sepconv3[0][0]           \n",
      "__________________________________________________________________________________________________\n",
      "add_9 (Add)                     (None, 16, 16, 728)  0           block11_sepconv3_bn[0][0]        \n",
      "                                                                 add_8[0][0]                      \n",
      "__________________________________________________________________________________________________\n",
      "block12_sepconv1_act (Activatio (None, 16, 16, 728)  0           add_9[0][0]                      \n",
      "__________________________________________________________________________________________________\n",
      "block12_sepconv1 (SeparableConv (None, 16, 16, 728)  536536      block12_sepconv1_act[0][0]       \n",
      "__________________________________________________________________________________________________\n",
      "block12_sepconv1_bn (BatchNorma (None, 16, 16, 728)  2912        block12_sepconv1[0][0]           \n",
      "__________________________________________________________________________________________________\n",
      "block12_sepconv2_act (Activatio (None, 16, 16, 728)  0           block12_sepconv1_bn[0][0]        \n",
      "__________________________________________________________________________________________________\n",
      "block12_sepconv2 (SeparableConv (None, 16, 16, 728)  536536      block12_sepconv2_act[0][0]       \n",
      "__________________________________________________________________________________________________\n",
      "block12_sepconv2_bn (BatchNorma (None, 16, 16, 728)  2912        block12_sepconv2[0][0]           \n",
      "__________________________________________________________________________________________________\n",
      "block12_sepconv3_act (Activatio (None, 16, 16, 728)  0           block12_sepconv2_bn[0][0]        \n",
      "__________________________________________________________________________________________________\n",
      "block12_sepconv3 (SeparableConv (None, 16, 16, 728)  536536      block12_sepconv3_act[0][0]       \n",
      "__________________________________________________________________________________________________\n",
      "block12_sepconv3_bn (BatchNorma (None, 16, 16, 728)  2912        block12_sepconv3[0][0]           \n",
      "__________________________________________________________________________________________________\n",
      "add_10 (Add)                    (None, 16, 16, 728)  0           block12_sepconv3_bn[0][0]        \n",
      "                                                                 add_9[0][0]                      \n",
      "__________________________________________________________________________________________________\n",
      "block13_sepconv1_act (Activatio (None, 16, 16, 728)  0           add_10[0][0]                     \n",
      "__________________________________________________________________________________________________\n",
      "block13_sepconv1 (SeparableConv (None, 16, 16, 728)  536536      block13_sepconv1_act[0][0]       \n",
      "__________________________________________________________________________________________________\n",
      "block13_sepconv1_bn (BatchNorma (None, 16, 16, 728)  2912        block13_sepconv1[0][0]           \n",
      "__________________________________________________________________________________________________\n",
      "block13_sepconv2_act (Activatio (None, 16, 16, 728)  0           block13_sepconv1_bn[0][0]        \n",
      "__________________________________________________________________________________________________\n",
      "block13_sepconv2 (SeparableConv (None, 16, 16, 1024) 752024      block13_sepconv2_act[0][0]       \n",
      "__________________________________________________________________________________________________\n",
      "block13_sepconv2_bn (BatchNorma (None, 16, 16, 1024) 4096        block13_sepconv2[0][0]           \n",
      "__________________________________________________________________________________________________\n",
      "conv2d_29 (Conv2D)              (None, 8, 8, 1024)   745472      add_10[0][0]                     \n",
      "__________________________________________________________________________________________________\n",
      "block13_pool (MaxPooling2D)     (None, 8, 8, 1024)   0           block13_sepconv2_bn[0][0]        \n",
      "__________________________________________________________________________________________________\n",
      "batch_normalization_3 (BatchNor (None, 8, 8, 1024)   4096        conv2d_29[0][0]                  \n",
      "__________________________________________________________________________________________________\n",
      "add_11 (Add)                    (None, 8, 8, 1024)   0           block13_pool[0][0]               \n",
      "                                                                 batch_normalization_3[0][0]      \n",
      "__________________________________________________________________________________________________\n",
      "block14_sepconv1 (SeparableConv (None, 8, 8, 1536)   1582080     add_11[0][0]                     \n",
      "__________________________________________________________________________________________________\n",
      "block14_sepconv1_bn (BatchNorma (None, 8, 8, 1536)   6144        block14_sepconv1[0][0]           \n",
      "__________________________________________________________________________________________________\n",
      "block14_sepconv1_act (Activatio (None, 8, 8, 1536)   0           block14_sepconv1_bn[0][0]        \n",
      "__________________________________________________________________________________________________\n",
      "block14_sepconv2 (SeparableConv (None, 8, 8, 2048)   3159552     block14_sepconv1_act[0][0]       \n",
      "__________________________________________________________________________________________________\n",
      "block14_sepconv2_bn (BatchNorma (None, 8, 8, 2048)   8192        block14_sepconv2[0][0]           \n",
      "__________________________________________________________________________________________________\n",
      "block14_sepconv2_act (Activatio (None, 8, 8, 2048)   0           block14_sepconv2_bn[0][0]        \n",
      "==================================================================================================\n",
      "Total params: 20,861,480\n",
      "Trainable params: 20,806,952\n",
      "Non-trainable params: 54,528\n",
      "__________________________________________________________________________________________________\n"
     ]
    }
   ],
   "source": [
    "model_x.summary()"
   ]
  },
  {
   "cell_type": "code",
   "execution_count": 79,
   "metadata": {
    "execution": {
     "iopub.execute_input": "2022-02-03T19:13:45.373482Z",
     "iopub.status.busy": "2022-02-03T19:13:45.373211Z",
     "iopub.status.idle": "2022-02-03T19:13:45.443953Z",
     "shell.execute_reply": "2022-02-03T19:13:45.443217Z",
     "shell.execute_reply.started": "2022-02-03T19:13:45.373450Z"
    }
   },
   "outputs": [
    {
     "name": "stdout",
     "output_type": "stream",
     "text": [
      "0 <keras.engine.input_layer.InputLayer object at 0x7fc7509e0990>\n",
      "1 <keras.layers.convolutional.Conv2D object at 0x7fc2e12e5f90>\n",
      "2 <keras.layers.normalization.batch_normalization.BatchNormalization object at 0x7fc750a30810>\n",
      "3 <keras.layers.core.Activation object at 0x7fc7509d5d10>\n",
      "4 <keras.layers.convolutional.Conv2D object at 0x7fc7509e0650>\n",
      "5 <keras.layers.normalization.batch_normalization.BatchNormalization object at 0x7fc7509ff810>\n",
      "6 <keras.layers.core.Activation object at 0x7fc750986c50>\n",
      "7 <keras.layers.convolutional.SeparableConv2D object at 0x7fc750999890>\n",
      "8 <keras.layers.normalization.batch_normalization.BatchNormalization object at 0x7fc7509a0f90>\n",
      "9 <keras.layers.core.Activation object at 0x7fc7509a49d0>\n",
      "10 <keras.layers.convolutional.SeparableConv2D object at 0x7fc7509a7d90>\n",
      "11 <keras.layers.normalization.batch_normalization.BatchNormalization object at 0x7fc7509b8a50>\n",
      "12 <keras.layers.convolutional.Conv2D object at 0x7fc75098aa90>\n",
      "13 <keras.layers.pooling.MaxPooling2D object at 0x7fc7509a7810>\n",
      "14 <keras.layers.normalization.batch_normalization.BatchNormalization object at 0x7fc7509960d0>\n",
      "15 <keras.layers.merge.Add object at 0x7fc7509bf890>\n",
      "16 <keras.layers.core.Activation object at 0x7fc7509bfd10>\n",
      "17 <keras.layers.convolutional.SeparableConv2D object at 0x7fc75094fb10>\n",
      "18 <keras.layers.normalization.batch_normalization.BatchNormalization object at 0x7fc750956810>\n",
      "19 <keras.layers.core.Activation object at 0x7fc750956c50>\n",
      "20 <keras.layers.convolutional.SeparableConv2D object at 0x7fc7509c3950>\n",
      "21 <keras.layers.normalization.batch_normalization.BatchNormalization object at 0x7fc75096e4d0>\n",
      "22 <keras.layers.convolutional.Conv2D object at 0x7fc7509adfd0>\n",
      "23 <keras.layers.pooling.MaxPooling2D object at 0x7fc750964c50>\n",
      "24 <keras.layers.normalization.batch_normalization.BatchNormalization object at 0x7fc2e14f8d90>\n",
      "25 <keras.layers.merge.Add object at 0x7fc75094f090>\n",
      "26 <keras.layers.core.Activation object at 0x7fc750982a50>\n",
      "27 <keras.layers.convolutional.SeparableConv2D object at 0x7fc750977550>\n",
      "28 <keras.layers.normalization.batch_normalization.BatchNormalization object at 0x7fc750982a10>\n",
      "29 <keras.layers.core.Activation object at 0x7fc750906f90>\n",
      "30 <keras.layers.convolutional.SeparableConv2D object at 0x7fc750909310>\n",
      "31 <keras.layers.normalization.batch_normalization.BatchNormalization object at 0x7fc750913690>\n",
      "32 <keras.layers.convolutional.Conv2D object at 0x7fc750973dd0>\n",
      "33 <keras.layers.pooling.MaxPooling2D object at 0x7fc75091fc90>\n",
      "34 <keras.layers.normalization.batch_normalization.BatchNormalization object at 0x7fc7509c3b50>\n",
      "35 <keras.layers.merge.Add object at 0x7fc750928e10>\n",
      "36 <keras.layers.core.Activation object at 0x7fc750928150>\n",
      "37 <keras.layers.convolutional.SeparableConv2D object at 0x7fc75092c3d0>\n",
      "38 <keras.layers.normalization.batch_normalization.BatchNormalization object at 0x7fc75092ca10>\n",
      "39 <keras.layers.core.Activation object at 0x7fc750935d50>\n",
      "40 <keras.layers.convolutional.SeparableConv2D object at 0x7fc75093d390>\n",
      "41 <keras.layers.normalization.batch_normalization.BatchNormalization object at 0x7fc7508cd710>\n",
      "42 <keras.layers.core.Activation object at 0x7fc750942990>\n",
      "43 <keras.layers.convolutional.SeparableConv2D object at 0x7fc750935550>\n",
      "44 <keras.layers.normalization.batch_normalization.BatchNormalization object at 0x7fc7508cdd50>\n",
      "45 <keras.layers.merge.Add object at 0x7fc75090c590>\n",
      "46 <keras.layers.core.Activation object at 0x7fc75097b150>\n",
      "47 <keras.layers.convolutional.SeparableConv2D object at 0x7fc750928450>\n",
      "48 <keras.layers.normalization.batch_normalization.BatchNormalization object at 0x7fc7509495d0>\n",
      "49 <keras.layers.core.Activation object at 0x7fc75095e4d0>\n",
      "50 <keras.layers.convolutional.SeparableConv2D object at 0x7fc75090c2d0>\n",
      "51 <keras.layers.normalization.batch_normalization.BatchNormalization object at 0x7fc7509bc210>\n",
      "52 <keras.layers.core.Activation object at 0x7fc7509ada10>\n",
      "53 <keras.layers.convolutional.SeparableConv2D object at 0x7fc7509b8110>\n",
      "54 <keras.layers.normalization.batch_normalization.BatchNormalization object at 0x7fc75098a1d0>\n",
      "55 <keras.layers.merge.Add object at 0x7fc7509ef9d0>\n",
      "56 <keras.layers.core.Activation object at 0x7fc750964cd0>\n",
      "57 <keras.layers.convolutional.SeparableConv2D object at 0x7fc7509fc6d0>\n",
      "58 <keras.layers.normalization.batch_normalization.BatchNormalization object at 0x7fc7509a71d0>\n",
      "59 <keras.layers.core.Activation object at 0x7fc7508ddf10>\n",
      "60 <keras.layers.convolutional.SeparableConv2D object at 0x7fc7509f8090>\n",
      "61 <keras.layers.normalization.batch_normalization.BatchNormalization object at 0x7fc7508f9050>\n",
      "62 <keras.layers.core.Activation object at 0x7fc7508e8e50>\n",
      "63 <keras.layers.convolutional.SeparableConv2D object at 0x7fc7508ecad0>\n",
      "64 <keras.layers.normalization.batch_normalization.BatchNormalization object at 0x7fc7508f9190>\n",
      "65 <keras.layers.merge.Add object at 0x7fc750887790>\n",
      "66 <keras.layers.core.Activation object at 0x7fc7508d1590>\n",
      "67 <keras.layers.convolutional.SeparableConv2D object at 0x7fc750901410>\n",
      "68 <keras.layers.normalization.batch_normalization.BatchNormalization object at 0x7fc7508e8f50>\n",
      "69 <keras.layers.core.Activation object at 0x7fc75089e110>\n",
      "70 <keras.layers.convolutional.SeparableConv2D object at 0x7fc750897e10>\n",
      "71 <keras.layers.normalization.batch_normalization.BatchNormalization object at 0x7fc7508fd350>\n",
      "72 <keras.layers.core.Activation object at 0x7fc7508a9810>\n",
      "73 <keras.layers.convolutional.SeparableConv2D object at 0x7fc7508a5d10>\n",
      "74 <keras.layers.normalization.batch_normalization.BatchNormalization object at 0x7fc7508b1390>\n",
      "75 <keras.layers.merge.Add object at 0x7fc7508b5c10>\n",
      "76 <keras.layers.core.Activation object at 0x7fc750892290>\n",
      "77 <keras.layers.convolutional.SeparableConv2D object at 0x7fc7508bab10>\n",
      "78 <keras.layers.normalization.batch_normalization.BatchNormalization object at 0x7fc7508a5510>\n",
      "79 <keras.layers.core.Activation object at 0x7fc7508ba8d0>\n",
      "80 <keras.layers.convolutional.SeparableConv2D object at 0x7fc75084a7d0>\n",
      "81 <keras.layers.normalization.batch_normalization.BatchNormalization object at 0x7fc750866250>\n",
      "82 <keras.layers.core.Activation object at 0x7fc7508662d0>\n",
      "83 <keras.layers.convolutional.SeparableConv2D object at 0x7fc75084f9d0>\n",
      "84 <keras.layers.normalization.batch_normalization.BatchNormalization object at 0x7fc750866590>\n",
      "85 <keras.layers.merge.Add object at 0x7fc7508977d0>\n",
      "86 <keras.layers.core.Activation object at 0x7fc75084a990>\n",
      "87 <keras.layers.convolutional.SeparableConv2D object at 0x7fc750845e90>\n",
      "88 <keras.layers.normalization.batch_normalization.BatchNormalization object at 0x7fc7508fd0d0>\n",
      "89 <keras.layers.core.Activation object at 0x7fc7508878d0>\n",
      "90 <keras.layers.convolutional.SeparableConv2D object at 0x7fc75084f610>\n",
      "91 <keras.layers.normalization.batch_normalization.BatchNormalization object at 0x7fc7508f9d10>\n",
      "92 <keras.layers.core.Activation object at 0x7fc7508d9710>\n",
      "93 <keras.layers.convolutional.SeparableConv2D object at 0x7fc7508e5310>\n",
      "94 <keras.layers.normalization.batch_normalization.BatchNormalization object at 0x7fc75092c750>\n",
      "95 <keras.layers.merge.Add object at 0x7fc7508a18d0>\n",
      "96 <keras.layers.core.Activation object at 0x7fc75084a650>\n",
      "97 <keras.layers.convolutional.SeparableConv2D object at 0x7fc75096e710>\n",
      "98 <keras.layers.normalization.batch_normalization.BatchNormalization object at 0x7fc7508d9610>\n",
      "99 <keras.layers.core.Activation object at 0x7fc750874e50>\n",
      "100 <keras.layers.convolutional.SeparableConv2D object at 0x7fc75086b210>\n",
      "101 <keras.layers.normalization.batch_normalization.BatchNormalization object at 0x7fc75080fd10>\n",
      "102 <keras.layers.core.Activation object at 0x7fc750880d90>\n",
      "103 <keras.layers.convolutional.SeparableConv2D object at 0x7fc750809dd0>\n",
      "104 <keras.layers.normalization.batch_normalization.BatchNormalization object at 0x7fc75080f0d0>\n",
      "105 <keras.layers.merge.Add object at 0x7fc75081d690>\n",
      "106 <keras.layers.core.Activation object at 0x7fc750986450>\n",
      "107 <keras.layers.convolutional.SeparableConv2D object at 0x7fc750819250>\n",
      "108 <keras.layers.normalization.batch_normalization.BatchNormalization object at 0x7fc750880e90>\n",
      "109 <keras.layers.core.Activation object at 0x7fc75082cfd0>\n",
      "110 <keras.layers.convolutional.SeparableConv2D object at 0x7fc750814a10>\n",
      "111 <keras.layers.normalization.batch_normalization.BatchNormalization object at 0x7fc750814590>\n",
      "112 <keras.layers.core.Activation object at 0x7fc75083ff50>\n",
      "113 <keras.layers.convolutional.SeparableConv2D object at 0x7fc750814d10>\n",
      "114 <keras.layers.normalization.batch_normalization.BatchNormalization object at 0x7fc7507c7250>\n",
      "115 <keras.layers.merge.Add object at 0x7fc7507d07d0>\n",
      "116 <keras.layers.core.Activation object at 0x7fc7507eb750>\n",
      "117 <keras.layers.convolutional.SeparableConv2D object at 0x7fc75083d2d0>\n",
      "118 <keras.layers.normalization.batch_normalization.BatchNormalization object at 0x7fc7507eb610>\n",
      "119 <keras.layers.core.Activation object at 0x7fc7507fe250>\n",
      "120 <keras.layers.convolutional.SeparableConv2D object at 0x7fc7507f6410>\n",
      "121 <keras.layers.normalization.batch_normalization.BatchNormalization object at 0x7fc7507f6710>\n",
      "122 <keras.layers.convolutional.Conv2D object at 0x7fc7507dc650>\n",
      "123 <keras.layers.pooling.MaxPooling2D object at 0x7fc75083da90>\n",
      "124 <keras.layers.normalization.batch_normalization.BatchNormalization object at 0x7fc7507d2c10>\n",
      "125 <keras.layers.merge.Add object at 0x7fc7507cc210>\n",
      "126 <keras.layers.convolutional.SeparableConv2D object at 0x7fc7507c7f50>\n",
      "127 <keras.layers.normalization.batch_normalization.BatchNormalization object at 0x7fc7507dc990>\n",
      "128 <keras.layers.core.Activation object at 0x7fc75082c7d0>\n",
      "129 <keras.layers.convolutional.SeparableConv2D object at 0x7fc7508ddd90>\n",
      "130 <keras.layers.normalization.batch_normalization.BatchNormalization object at 0x7fc750821b10>\n",
      "131 <keras.layers.core.Activation object at 0x7fc7508e84d0>\n"
     ]
    }
   ],
   "source": [
    "for ix in range(len(model6_x.layers)):\n",
    "    print(ix,model6_x.layers[ix])"
   ]
  },
  {
   "cell_type": "code",
   "execution_count": 80,
   "metadata": {
    "execution": {
     "iopub.execute_input": "2022-02-03T19:14:01.364484Z",
     "iopub.status.busy": "2022-02-03T19:14:01.364213Z",
     "iopub.status.idle": "2022-02-03T19:14:01.421829Z",
     "shell.execute_reply": "2022-02-03T19:14:01.419324Z",
     "shell.execute_reply.started": "2022-02-03T19:14:01.364452Z"
    }
   },
   "outputs": [
    {
     "name": "stdout",
     "output_type": "stream",
     "text": [
      "0 input_3 False\n",
      "1 block1_conv1 False\n",
      "2 block1_conv1_bn False\n",
      "3 block1_conv1_act False\n",
      "4 block1_conv2 False\n",
      "5 block1_conv2_bn False\n",
      "6 block1_conv2_act False\n",
      "7 block2_sepconv1 False\n",
      "8 block2_sepconv1_bn False\n",
      "9 block2_sepconv2_act False\n",
      "10 block2_sepconv2 False\n",
      "11 block2_sepconv2_bn False\n",
      "12 conv2d_26 False\n",
      "13 block2_pool False\n",
      "14 batch_normalization False\n",
      "15 add False\n",
      "16 block3_sepconv1_act False\n",
      "17 block3_sepconv1 False\n",
      "18 block3_sepconv1_bn False\n",
      "19 block3_sepconv2_act False\n",
      "20 block3_sepconv2 False\n",
      "21 block3_sepconv2_bn False\n",
      "22 conv2d_27 False\n",
      "23 block3_pool False\n",
      "24 batch_normalization_1 False\n",
      "25 add_1 False\n",
      "26 block4_sepconv1_act False\n",
      "27 block4_sepconv1 False\n",
      "28 block4_sepconv1_bn False\n",
      "29 block4_sepconv2_act False\n",
      "30 block4_sepconv2 False\n",
      "31 block4_sepconv2_bn False\n",
      "32 conv2d_28 False\n",
      "33 block4_pool False\n",
      "34 batch_normalization_2 False\n",
      "35 add_2 False\n",
      "36 block5_sepconv1_act False\n",
      "37 block5_sepconv1 False\n",
      "38 block5_sepconv1_bn False\n",
      "39 block5_sepconv2_act False\n",
      "40 block5_sepconv2 False\n",
      "41 block5_sepconv2_bn False\n",
      "42 block5_sepconv3_act False\n",
      "43 block5_sepconv3 False\n",
      "44 block5_sepconv3_bn False\n",
      "45 add_3 False\n",
      "46 block6_sepconv1_act False\n",
      "47 block6_sepconv1 False\n",
      "48 block6_sepconv1_bn False\n",
      "49 block6_sepconv2_act False\n",
      "50 block6_sepconv2 False\n",
      "51 block6_sepconv2_bn False\n",
      "52 block6_sepconv3_act False\n",
      "53 block6_sepconv3 False\n",
      "54 block6_sepconv3_bn False\n",
      "55 add_4 False\n",
      "56 block7_sepconv1_act False\n",
      "57 block7_sepconv1 False\n",
      "58 block7_sepconv1_bn False\n",
      "59 block7_sepconv2_act False\n",
      "60 block7_sepconv2 False\n",
      "61 block7_sepconv2_bn False\n",
      "62 block7_sepconv3_act False\n",
      "63 block7_sepconv3 False\n",
      "64 block7_sepconv3_bn False\n",
      "65 add_5 False\n",
      "66 block8_sepconv1_act False\n",
      "67 block8_sepconv1 False\n",
      "68 block8_sepconv1_bn False\n",
      "69 block8_sepconv2_act False\n",
      "70 block8_sepconv2 False\n",
      "71 block8_sepconv2_bn False\n",
      "72 block8_sepconv3_act False\n",
      "73 block8_sepconv3 False\n",
      "74 block8_sepconv3_bn False\n",
      "75 add_6 False\n",
      "76 block9_sepconv1_act False\n",
      "77 block9_sepconv1 False\n",
      "78 block9_sepconv1_bn False\n",
      "79 block9_sepconv2_act False\n",
      "80 block9_sepconv2 False\n",
      "81 block9_sepconv2_bn False\n",
      "82 block9_sepconv3_act False\n",
      "83 block9_sepconv3 False\n",
      "84 block9_sepconv3_bn False\n",
      "85 add_7 False\n",
      "86 block10_sepconv1_act False\n",
      "87 block10_sepconv1 False\n",
      "88 block10_sepconv1_bn False\n",
      "89 block10_sepconv2_act False\n",
      "90 block10_sepconv2 False\n",
      "91 block10_sepconv2_bn False\n",
      "92 block10_sepconv3_act False\n",
      "93 block10_sepconv3 False\n",
      "94 block10_sepconv3_bn False\n",
      "95 add_8 False\n",
      "96 block11_sepconv1_act False\n",
      "97 block11_sepconv1 False\n",
      "98 block11_sepconv1_bn False\n",
      "99 block11_sepconv2_act False\n",
      "100 block11_sepconv2 False\n",
      "101 block11_sepconv2_bn False\n",
      "102 block11_sepconv3_act False\n",
      "103 block11_sepconv3 False\n",
      "104 block11_sepconv3_bn False\n",
      "105 add_9 False\n",
      "106 block12_sepconv1_act False\n",
      "107 block12_sepconv1 False\n",
      "108 block12_sepconv1_bn False\n",
      "109 block12_sepconv2_act False\n",
      "110 block12_sepconv2 False\n",
      "111 block12_sepconv2_bn False\n",
      "112 block12_sepconv3_act False\n",
      "113 block12_sepconv3 False\n",
      "114 block12_sepconv3_bn False\n",
      "115 add_10 False\n",
      "116 block13_sepconv1_act False\n",
      "117 block13_sepconv1 False\n",
      "118 block13_sepconv1_bn False\n",
      "119 block13_sepconv2_act False\n",
      "120 block13_sepconv2 False\n",
      "121 block13_sepconv2_bn False\n",
      "122 conv2d_29 False\n",
      "123 block13_pool False\n",
      "124 batch_normalization_3 False\n",
      "125 add_11 False\n",
      "126 block14_sepconv1 False\n",
      "127 block14_sepconv1_bn True\n",
      "128 block14_sepconv1_act True\n",
      "129 block14_sepconv2 True\n",
      "130 block14_sepconv2_bn True\n",
      "131 block14_sepconv2_act True\n"
     ]
    }
   ],
   "source": [
    "# 5 L\n",
    "for layer in model_x.layers[:127]:\n",
    "    layer.trainable = False\n",
    "for i, layer in enumerate(model_x.layers):\n",
    "    print(i, layer.name, layer.trainable)"
   ]
  },
  {
   "cell_type": "code",
   "execution_count": 81,
   "metadata": {
    "execution": {
     "iopub.execute_input": "2022-02-03T19:14:36.175086Z",
     "iopub.status.busy": "2022-02-03T19:14:36.174814Z",
     "iopub.status.idle": "2022-02-03T19:14:36.508975Z",
     "shell.execute_reply": "2022-02-03T19:14:36.508237Z",
     "shell.execute_reply.started": "2022-02-03T19:14:36.175056Z"
    }
   },
   "outputs": [],
   "source": [
    "xception = tf.keras.Sequential([\n",
    "  model_x,\n",
    "  GlobalAveragePooling2D(),\n",
    "  Dropout(0.2),\n",
    "  Dense(64,activation='relu'),\n",
    "  Dropout(0.2),\n",
    "  Dense(64,activation='relu'),\n",
    "  Dropout(0.2),\n",
    "  Dense(2, activation='sigmoid')])"
   ]
  },
  {
   "cell_type": "code",
   "execution_count": 82,
   "metadata": {
    "execution": {
     "iopub.execute_input": "2022-02-03T19:14:57.851689Z",
     "iopub.status.busy": "2022-02-03T19:14:57.851063Z",
     "iopub.status.idle": "2022-02-03T19:14:57.863874Z",
     "shell.execute_reply": "2022-02-03T19:14:57.863117Z",
     "shell.execute_reply.started": "2022-02-03T19:14:57.851647Z"
    }
   },
   "outputs": [],
   "source": [
    "adam = Adam(learning_rate=0.00001)\n",
    "xception.compile(optimizer=adam,loss='binary_crossentropy',metrics=['accuracy'])"
   ]
  },
  {
   "cell_type": "code",
   "execution_count": 83,
   "metadata": {
    "execution": {
     "iopub.execute_input": "2022-02-03T19:15:52.155083Z",
     "iopub.status.busy": "2022-02-03T19:15:52.154810Z",
     "iopub.status.idle": "2022-02-03T19:23:20.197246Z",
     "shell.execute_reply": "2022-02-03T19:23:20.196246Z",
     "shell.execute_reply.started": "2022-02-03T19:15:52.155045Z"
    }
   },
   "outputs": [
    {
     "name": "stdout",
     "output_type": "stream",
     "text": [
      "Epoch 1/30\n",
      "31/31 [==============================] - 18s 485ms/step - loss: 0.6919 - accuracy: 0.5605 - val_loss: 0.6798 - val_accuracy: 0.6148\n",
      "Epoch 2/30\n",
      "31/31 [==============================] - 15s 471ms/step - loss: 0.6797 - accuracy: 0.6086 - val_loss: 0.6632 - val_accuracy: 0.7090\n",
      "Epoch 3/30\n",
      "31/31 [==============================] - 14s 463ms/step - loss: 0.6671 - accuracy: 0.6547 - val_loss: 0.6458 - val_accuracy: 0.7828\n",
      "Epoch 4/30\n",
      "31/31 [==============================] - 15s 474ms/step - loss: 0.6565 - accuracy: 0.6936 - val_loss: 0.6291 - val_accuracy: 0.8115\n",
      "Epoch 5/30\n",
      "31/31 [==============================] - 14s 449ms/step - loss: 0.6447 - accuracy: 0.7264 - val_loss: 0.6124 - val_accuracy: 0.8484\n",
      "Epoch 6/30\n",
      "31/31 [==============================] - 14s 466ms/step - loss: 0.6352 - accuracy: 0.7500 - val_loss: 0.5949 - val_accuracy: 0.8689\n",
      "Epoch 7/30\n",
      "31/31 [==============================] - 14s 454ms/step - loss: 0.6165 - accuracy: 0.7787 - val_loss: 0.5762 - val_accuracy: 0.8852\n",
      "Epoch 8/30\n",
      "31/31 [==============================] - 14s 454ms/step - loss: 0.5970 - accuracy: 0.8217 - val_loss: 0.5574 - val_accuracy: 0.8811\n",
      "Epoch 9/30\n",
      "31/31 [==============================] - 15s 461ms/step - loss: 0.5820 - accuracy: 0.8176 - val_loss: 0.5383 - val_accuracy: 0.8893\n",
      "Epoch 10/30\n",
      "31/31 [==============================] - 14s 462ms/step - loss: 0.5717 - accuracy: 0.8289 - val_loss: 0.5192 - val_accuracy: 0.9098\n",
      "Epoch 11/30\n",
      "31/31 [==============================] - 15s 467ms/step - loss: 0.5548 - accuracy: 0.8299 - val_loss: 0.4989 - val_accuracy: 0.9139\n",
      "Epoch 12/30\n",
      "31/31 [==============================] - 14s 458ms/step - loss: 0.5404 - accuracy: 0.8340 - val_loss: 0.4780 - val_accuracy: 0.9303\n",
      "Epoch 13/30\n",
      "31/31 [==============================] - 15s 475ms/step - loss: 0.5120 - accuracy: 0.8648 - val_loss: 0.4572 - val_accuracy: 0.9262\n",
      "Epoch 14/30\n",
      "31/31 [==============================] - 14s 447ms/step - loss: 0.5015 - accuracy: 0.8514 - val_loss: 0.4364 - val_accuracy: 0.9303\n",
      "Epoch 15/30\n",
      "31/31 [==============================] - 15s 470ms/step - loss: 0.4818 - accuracy: 0.8822 - val_loss: 0.4161 - val_accuracy: 0.9385\n",
      "Epoch 16/30\n",
      "31/31 [==============================] - 14s 447ms/step - loss: 0.4678 - accuracy: 0.8863 - val_loss: 0.3971 - val_accuracy: 0.9426\n",
      "Epoch 17/30\n",
      "31/31 [==============================] - 15s 483ms/step - loss: 0.4435 - accuracy: 0.9006 - val_loss: 0.3783 - val_accuracy: 0.9467\n",
      "Epoch 18/30\n",
      "31/31 [==============================] - 14s 454ms/step - loss: 0.4486 - accuracy: 0.8852 - val_loss: 0.3623 - val_accuracy: 0.9426\n",
      "Epoch 19/30\n",
      "31/31 [==============================] - 15s 473ms/step - loss: 0.4223 - accuracy: 0.8842 - val_loss: 0.3459 - val_accuracy: 0.9467\n",
      "Epoch 20/30\n",
      "31/31 [==============================] - 14s 454ms/step - loss: 0.4009 - accuracy: 0.9170 - val_loss: 0.3295 - val_accuracy: 0.9467\n",
      "Epoch 21/30\n",
      "31/31 [==============================] - 15s 476ms/step - loss: 0.3902 - accuracy: 0.9098 - val_loss: 0.3142 - val_accuracy: 0.9467\n",
      "Epoch 22/30\n",
      "31/31 [==============================] - 14s 451ms/step - loss: 0.3734 - accuracy: 0.9129 - val_loss: 0.2985 - val_accuracy: 0.9467\n",
      "Epoch 23/30\n",
      "31/31 [==============================] - 14s 451ms/step - loss: 0.3717 - accuracy: 0.9098 - val_loss: 0.2847 - val_accuracy: 0.9508\n",
      "Epoch 24/30\n",
      "31/31 [==============================] - 14s 467ms/step - loss: 0.3479 - accuracy: 0.9221 - val_loss: 0.2717 - val_accuracy: 0.9508\n",
      "Epoch 25/30\n",
      "31/31 [==============================] - 14s 457ms/step - loss: 0.3370 - accuracy: 0.9262 - val_loss: 0.2598 - val_accuracy: 0.9508\n",
      "Epoch 26/30\n",
      "31/31 [==============================] - 15s 484ms/step - loss: 0.3311 - accuracy: 0.9242 - val_loss: 0.2475 - val_accuracy: 0.9508\n",
      "Epoch 27/30\n",
      "31/31 [==============================] - 14s 453ms/step - loss: 0.3289 - accuracy: 0.9150 - val_loss: 0.2375 - val_accuracy: 0.9508\n",
      "Epoch 28/30\n",
      "31/31 [==============================] - 15s 470ms/step - loss: 0.3088 - accuracy: 0.9273 - val_loss: 0.2260 - val_accuracy: 0.9508\n",
      "Epoch 29/30\n",
      "31/31 [==============================] - 14s 456ms/step - loss: 0.2928 - accuracy: 0.9416 - val_loss: 0.2168 - val_accuracy: 0.9508\n",
      "Epoch 30/30\n",
      "31/31 [==============================] - 14s 452ms/step - loss: 0.2810 - accuracy: 0.9457 - val_loss: 0.2080 - val_accuracy: 0.9508\n"
     ]
    }
   ],
   "source": [
    "xception_model= xception.fit(train_generator_sm, epochs=30, validation_data=test_generator_sm, validation_steps=len(test_generator_sm),callbacks=keras_callbacks)"
   ]
  },
  {
   "cell_type": "code",
   "execution_count": 84,
   "metadata": {
    "execution": {
     "iopub.execute_input": "2022-02-03T19:23:30.187431Z",
     "iopub.status.busy": "2022-02-03T19:23:30.186738Z",
     "iopub.status.idle": "2022-02-03T19:23:30.390337Z",
     "shell.execute_reply": "2022-02-03T19:23:30.389612Z",
     "shell.execute_reply.started": "2022-02-03T19:23:30.187391Z"
    }
   },
   "outputs": [
    {
     "data": {
      "image/png": "[encoded data removed]",
      "text/plain": [
       "<Figure size 432x288 with 1 Axes>"
      ]
     },
     "metadata": {
      "needs_background": "light"
     },
     "output_type": "display_data"
    }
   ],
   "source": [
    "plt.plot(xception_model.history['accuracy'],'r',label='train accuracy')\n",
    "plt.plot(xception_model.history['val_accuracy'],'g',label='validation accuracy')\n",
    "plt.legend()\n",
    "plt.show()"
   ]
  },
  {
   "cell_type": "code",
   "execution_count": 85,
   "metadata": {
    "execution": {
     "iopub.execute_input": "2022-02-03T19:23:33.771886Z",
     "iopub.status.busy": "2022-02-03T19:23:33.771312Z",
     "iopub.status.idle": "2022-02-03T19:23:33.961198Z",
     "shell.execute_reply": "2022-02-03T19:23:33.960409Z",
     "shell.execute_reply.started": "2022-02-03T19:23:33.771847Z"
    }
   },
   "outputs": [
    {
     "data": {
      "image/png": "[encoded data removed]",
      "text/plain": [
       "<Figure size 432x288 with 1 Axes>"
      ]
     },
     "metadata": {
      "needs_background": "light"
     },
     "output_type": "display_data"
    }
   ],
   "source": [
    "plt.plot(xception_model.history['loss'],'r',label='train loss')\n",
    "plt.plot(xception_model.history['val_loss'],'g',label='validation loss')\n",
    "plt.legend()\n",
    "plt.show()"
   ]
  },
  {
   "cell_type": "raw",
   "metadata": {},
   "source": [
    "# serialize model to JSON\n",
    "model_json = vgg.to_json()\n",
    "with open(\"Model_5.json\", \"w\") as json_file:\n",
    "    json_file.write(model_json)\n",
    "# serialize weights to HDF5\n",
    "vgg.save_weights(\"Model_5.h5\")"
   ]
  },
  {
   "cell_type": "code",
   "execution_count": 86,
   "metadata": {
    "execution": {
     "iopub.execute_input": "2022-02-03T19:23:40.972370Z",
     "iopub.status.busy": "2022-02-03T19:23:40.971497Z",
     "iopub.status.idle": "2022-02-03T19:23:40.977201Z",
     "shell.execute_reply": "2022-02-03T19:23:40.976472Z",
     "shell.execute_reply.started": "2022-02-03T19:23:40.972325Z"
    }
   },
   "outputs": [],
   "source": [
    "# model5_train = xception_model.history['accuracy']\n",
    "# model5_test = xception_model.history['val_accuracy']"
   ]
  },
  {
   "cell_type": "code",
   "execution_count": 89,
   "metadata": {},
   "outputs": [
    {
     "data": {
      "text/html": [
       "<div>\n",
       "<style scoped>\n",
       "    .dataframe tbody tr th:only-of-type {\n",
       "        vertical-align: middle;\n",
       "    }\n",
       "\n",
       "    .dataframe tbody tr th {\n",
       "        vertical-align: top;\n",
       "    }\n",
       "\n",
       "    .dataframe thead th {\n",
       "        text-align: right;\n",
       "    }\n",
       "</style>\n",
       "<table border=\"1\" class=\"dataframe\">\n",
       "  <thead>\n",
       "    <tr style=\"text-align: right;\">\n",
       "      <th></th>\n",
       "      <th>Model_Name</th>\n",
       "      <th>Train_Accuracy</th>\n",
       "      <th>Train_Loss</th>\n",
       "      <th>Validation_Accuracy</th>\n",
       "      <th>Validation_Loss</th>\n",
       "    </tr>\n",
       "  </thead>\n",
       "  <tbody>\n",
       "    <tr>\n",
       "      <th>0</th>\n",
       "      <td>Base_Model_1</td>\n",
       "      <td>0.728916</td>\n",
       "      <td>0.536628</td>\n",
       "      <td>0.754491</td>\n",
       "      <td>0.469150</td>\n",
       "    </tr>\n",
       "    <tr>\n",
       "      <th>1</th>\n",
       "      <td>Base_model_smote_2</td>\n",
       "      <td>0.934426</td>\n",
       "      <td>0.154563</td>\n",
       "      <td>0.959016</td>\n",
       "      <td>0.118624</td>\n",
       "    </tr>\n",
       "    <tr>\n",
       "      <th>2</th>\n",
       "      <td>Model_3</td>\n",
       "      <td>0.953893</td>\n",
       "      <td>0.140960</td>\n",
       "      <td>0.950820</td>\n",
       "      <td>0.162867</td>\n",
       "    </tr>\n",
       "    <tr>\n",
       "      <th>3</th>\n",
       "      <td>Model 4 TransferLearning(RESNET-50)</td>\n",
       "      <td>0.750000</td>\n",
       "      <td>0.549434</td>\n",
       "      <td>0.840164</td>\n",
       "      <td>0.413794</td>\n",
       "    </tr>\n",
       "    <tr>\n",
       "      <th>4</th>\n",
       "      <td>Model 5 TransferLearning(Xception)</td>\n",
       "      <td>0.945697</td>\n",
       "      <td>0.281002</td>\n",
       "      <td>0.950820</td>\n",
       "      <td>0.208044</td>\n",
       "    </tr>\n",
       "  </tbody>\n",
       "</table>\n",
       "</div>"
      ],
      "text/plain": [
       "                            Model_Name  Train_Accuracy  Train_Loss  \\\n",
       "0                         Base_Model_1        0.728916    0.536628   \n",
       "1                   Base_model_smote_2        0.934426    0.154563   \n",
       "2                              Model_3        0.953893    0.140960   \n",
       "3  Model 4 TransferLearning(RESNET-50)        0.750000    0.549434   \n",
       "4   Model 5 TransferLearning(Xception)        0.945697    0.281002   \n",
       "\n",
       "   Validation_Accuracy  Validation_Loss  \n",
       "0             0.754491         0.469150  \n",
       "1             0.959016         0.118624  \n",
       "2             0.950820         0.162867  \n",
       "3             0.840164         0.413794  \n",
       "4             0.950820         0.208044  "
      ]
     },
     "execution_count": 89,
     "metadata": {},
     "output_type": "execute_result"
    }
   ],
   "source": [
    "score = pd.Series({'Model_Name':'Model 5 TransferLearning(Xception)','Train_Accuracy':xception_model.history['accuracy'][-1],'Train_Loss':xception_model.history['loss'][-1],'Validation_Accuracy':xception_model.history['val_accuracy'][-1],'Validation_Loss':xception_model.history['val_loss'][-1]})\n",
    "score_card=score_card.append(score,ignore_index=True)\n",
    "score_card"
   ]
  },
  {
   "cell_type": "markdown",
   "metadata": {},
   "source": [
    "# Vgg16"
   ]
  },
  {
   "cell_type": "code",
   "execution_count": 55,
   "metadata": {
    "execution": {
     "iopub.execute_input": "2022-02-03T18:55:00.938722Z",
     "iopub.status.busy": "2022-02-03T18:55:00.938246Z",
     "iopub.status.idle": "2022-02-03T18:55:01.719643Z",
     "shell.execute_reply": "2022-02-03T18:55:01.718824Z",
     "shell.execute_reply.started": "2022-02-03T18:55:00.938660Z"
    },
    "scrolled": false
   },
   "outputs": [
    {
     "name": "stdout",
     "output_type": "stream",
     "text": [
      "Downloading data from https://storage.googleapis.com/tensorflow/keras-applications/vgg16/vgg16_weights_tf_dim_ordering_tf_kernels_notop.h5\n",
      "58892288/58889256 [==============================] - 0s 0us/step\n",
      "58900480/58889256 [==============================] - 0s 0us/step\n"
     ]
    }
   ],
   "source": [
    "from keras.applications.vgg16 import VGG16\n",
    "IMG_SHAPE = (256, 256, 3)\n",
    "model_vgg16 = VGG16(input_shape=IMG_SHAPE, include_top=False,weights='imagenet')"
   ]
  },
  {
   "cell_type": "code",
   "execution_count": 56,
   "metadata": {
    "execution": {
     "iopub.execute_input": "2022-02-03T18:55:08.605437Z",
     "iopub.status.busy": "2022-02-03T18:55:08.605154Z",
     "iopub.status.idle": "2022-02-03T18:55:08.620502Z",
     "shell.execute_reply": "2022-02-03T18:55:08.619837Z",
     "shell.execute_reply.started": "2022-02-03T18:55:08.605404Z"
    },
    "scrolled": false
   },
   "outputs": [
    {
     "name": "stdout",
     "output_type": "stream",
     "text": [
      "Model: \"vgg16\"\n",
      "_________________________________________________________________\n",
      "Layer (type)                 Output Shape              Param #   \n",
      "=================================================================\n",
      "input_1 (InputLayer)         [(None, 256, 256, 3)]     0         \n",
      "_________________________________________________________________\n",
      "block1_conv1 (Conv2D)        (None, 256, 256, 64)      1792      \n",
      "_________________________________________________________________\n",
      "block1_conv2 (Conv2D)        (None, 256, 256, 64)      36928     \n",
      "_________________________________________________________________\n",
      "block1_pool (MaxPooling2D)   (None, 128, 128, 64)      0         \n",
      "_________________________________________________________________\n",
      "block2_conv1 (Conv2D)        (None, 128, 128, 128)     73856     \n",
      "_________________________________________________________________\n",
      "block2_conv2 (Conv2D)        (None, 128, 128, 128)     147584    \n",
      "_________________________________________________________________\n",
      "block2_pool (MaxPooling2D)   (None, 64, 64, 128)       0         \n",
      "_________________________________________________________________\n",
      "block3_conv1 (Conv2D)        (None, 64, 64, 256)       295168    \n",
      "_________________________________________________________________\n",
      "block3_conv2 (Conv2D)        (None, 64, 64, 256)       590080    \n",
      "_________________________________________________________________\n",
      "block3_conv3 (Conv2D)        (None, 64, 64, 256)       590080    \n",
      "_________________________________________________________________\n",
      "block3_pool (MaxPooling2D)   (None, 32, 32, 256)       0         \n",
      "_________________________________________________________________\n",
      "block4_conv1 (Conv2D)        (None, 32, 32, 512)       1180160   \n",
      "_________________________________________________________________\n",
      "block4_conv2 (Conv2D)        (None, 32, 32, 512)       2359808   \n",
      "_________________________________________________________________\n",
      "block4_conv3 (Conv2D)        (None, 32, 32, 512)       2359808   \n",
      "_________________________________________________________________\n",
      "block4_pool (MaxPooling2D)   (None, 16, 16, 512)       0         \n",
      "_________________________________________________________________\n",
      "block5_conv1 (Conv2D)        (None, 16, 16, 512)       2359808   \n",
      "_________________________________________________________________\n",
      "block5_conv2 (Conv2D)        (None, 16, 16, 512)       2359808   \n",
      "_________________________________________________________________\n",
      "block5_conv3 (Conv2D)        (None, 16, 16, 512)       2359808   \n",
      "_________________________________________________________________\n",
      "block5_pool (MaxPooling2D)   (None, 8, 8, 512)         0         \n",
      "=================================================================\n",
      "Total params: 14,714,688\n",
      "Trainable params: 14,714,688\n",
      "Non-trainable params: 0\n",
      "_________________________________________________________________\n"
     ]
    }
   ],
   "source": [
    "model_vgg16.summary()"
   ]
  },
  {
   "cell_type": "code",
   "execution_count": 57,
   "metadata": {
    "execution": {
     "iopub.execute_input": "2022-02-03T18:55:15.789117Z",
     "iopub.status.busy": "2022-02-03T18:55:15.788836Z",
     "iopub.status.idle": "2022-02-03T18:55:15.803341Z",
     "shell.execute_reply": "2022-02-03T18:55:15.802662Z",
     "shell.execute_reply.started": "2022-02-03T18:55:15.789085Z"
    }
   },
   "outputs": [
    {
     "name": "stdout",
     "output_type": "stream",
     "text": [
      "0 <keras.engine.input_layer.InputLayer object at 0x7fc33c5d3f90>\n",
      "1 <keras.layers.convolutional.Conv2D object at 0x7fc33c560a50>\n",
      "2 <keras.layers.convolutional.Conv2D object at 0x7fc33c560e90>\n",
      "3 <keras.layers.pooling.MaxPooling2D object at 0x7fc33c564a50>\n",
      "4 <keras.layers.convolutional.Conv2D object at 0x7fc33c5ae610>\n",
      "5 <keras.layers.convolutional.Conv2D object at 0x7fc34c039410>\n",
      "6 <keras.layers.pooling.MaxPooling2D object at 0x7fc33c5714d0>\n",
      "7 <keras.layers.convolutional.Conv2D object at 0x7fc33c575cd0>\n",
      "8 <keras.layers.convolutional.Conv2D object at 0x7fc33c571a10>\n",
      "9 <keras.layers.convolutional.Conv2D object at 0x7fc33c57cbd0>\n",
      "10 <keras.layers.pooling.MaxPooling2D object at 0x7fc33c588110>\n",
      "11 <keras.layers.convolutional.Conv2D object at 0x7fc33c5838d0>\n",
      "12 <keras.layers.convolutional.Conv2D object at 0x7fc33c56da10>\n",
      "13 <keras.layers.convolutional.Conv2D object at 0x7fc33c590c10>\n",
      "14 <keras.layers.pooling.MaxPooling2D object at 0x7fc33c59ac50>\n",
      "15 <keras.layers.convolutional.Conv2D object at 0x7fc33c590910>\n",
      "16 <keras.layers.convolutional.Conv2D object at 0x7fc33c520250>\n",
      "17 <keras.layers.convolutional.Conv2D object at 0x7fc34cad05d0>\n",
      "18 <keras.layers.pooling.MaxPooling2D object at 0x7fc33c5d3410>\n"
     ]
    }
   ],
   "source": [
    "for ix in range(len(model_vgg16.layers)):\n",
    "    print(ix,model_vgg16.layers[ix])"
   ]
  },
  {
   "cell_type": "code",
   "execution_count": 58,
   "metadata": {
    "execution": {
     "iopub.execute_input": "2022-02-03T18:55:21.684247Z",
     "iopub.status.busy": "2022-02-03T18:55:21.683685Z",
     "iopub.status.idle": "2022-02-03T18:55:21.694877Z",
     "shell.execute_reply": "2022-02-03T18:55:21.694086Z",
     "shell.execute_reply.started": "2022-02-03T18:55:21.684209Z"
    }
   },
   "outputs": [
    {
     "name": "stdout",
     "output_type": "stream",
     "text": [
      "<keras.engine.input_layer.InputLayer object at 0x7fc33c5d3f90> False\n",
      "<keras.layers.convolutional.Conv2D object at 0x7fc33c560a50> False\n",
      "<keras.layers.convolutional.Conv2D object at 0x7fc33c560e90> False\n",
      "<keras.layers.pooling.MaxPooling2D object at 0x7fc33c564a50> False\n",
      "<keras.layers.convolutional.Conv2D object at 0x7fc33c5ae610> False\n",
      "<keras.layers.convolutional.Conv2D object at 0x7fc34c039410> False\n",
      "<keras.layers.pooling.MaxPooling2D object at 0x7fc33c5714d0> False\n",
      "<keras.layers.convolutional.Conv2D object at 0x7fc33c575cd0> False\n",
      "<keras.layers.convolutional.Conv2D object at 0x7fc33c571a10> False\n",
      "<keras.layers.convolutional.Conv2D object at 0x7fc33c57cbd0> False\n",
      "<keras.layers.pooling.MaxPooling2D object at 0x7fc33c588110> False\n",
      "<keras.layers.convolutional.Conv2D object at 0x7fc33c5838d0> False\n",
      "<keras.layers.convolutional.Conv2D object at 0x7fc33c56da10> False\n",
      "<keras.layers.convolutional.Conv2D object at 0x7fc33c590c10> False\n",
      "<keras.layers.pooling.MaxPooling2D object at 0x7fc33c59ac50> False\n",
      "<keras.layers.convolutional.Conv2D object at 0x7fc33c590910> True\n",
      "<keras.layers.convolutional.Conv2D object at 0x7fc33c520250> True\n",
      "<keras.layers.convolutional.Conv2D object at 0x7fc34cad05d0> True\n",
      "<keras.layers.pooling.MaxPooling2D object at 0x7fc33c5d3410> True\n"
     ]
    }
   ],
   "source": [
    "# 4layer\n",
    "for layer in model_vgg16.layers[:15]:\n",
    "    layer.trainable=False\n",
    "    \n",
    "for layer in model_vgg16.layers:\n",
    "    print(layer,layer.trainable)"
   ]
  },
  {
   "cell_type": "code",
   "execution_count": 59,
   "metadata": {
    "execution": {
     "iopub.execute_input": "2022-02-03T18:55:34.567855Z",
     "iopub.status.busy": "2022-02-03T18:55:34.567433Z",
     "iopub.status.idle": "2022-02-03T18:55:34.706904Z",
     "shell.execute_reply": "2022-02-03T18:55:34.704180Z",
     "shell.execute_reply.started": "2022-02-03T18:55:34.567819Z"
    }
   },
   "outputs": [],
   "source": [
    "Transfer_model_vgg = tf.keras.Sequential([\n",
    "  model_vgg16,\n",
    "  GlobalAveragePooling2D(),\n",
    "  Dropout(0.2),\n",
    "  Dense(64,activation='relu'),\n",
    "  Dropout(0.2),\n",
    "  Dense(64,activation='relu'),\n",
    "  Dropout(0.2),\n",
    "  Dense(2, activation='sigmoid')])"
   ]
  },
  {
   "cell_type": "code",
   "execution_count": 60,
   "metadata": {
    "execution": {
     "iopub.execute_input": "2022-02-03T18:55:36.774158Z",
     "iopub.status.busy": "2022-02-03T18:55:36.773881Z",
     "iopub.status.idle": "2022-02-03T18:55:36.784900Z",
     "shell.execute_reply": "2022-02-03T18:55:36.784121Z",
     "shell.execute_reply.started": "2022-02-03T18:55:36.774127Z"
    }
   },
   "outputs": [],
   "source": [
    "adam = Adam(learning_rate=0.00003)\n",
    "Transfer_model_vgg.compile(optimizer=adam,loss='binary_crossentropy',metrics=['accuracy'])"
   ]
  },
  {
   "cell_type": "code",
   "execution_count": 61,
   "metadata": {
    "execution": {
     "iopub.execute_input": "2022-02-03T18:56:05.955331Z",
     "iopub.status.busy": "2022-02-03T18:56:05.955056Z",
     "iopub.status.idle": "2022-02-03T18:57:59.387691Z",
     "shell.execute_reply": "2022-02-03T18:57:59.386979Z",
     "shell.execute_reply.started": "2022-02-03T18:56:05.955298Z"
    }
   },
   "outputs": [
    {
     "name": "stdout",
     "output_type": "stream",
     "text": [
      "Epoch 1/20\n",
      "31/31 [==============================] - 22s 569ms/step - loss: 0.7032 - accuracy: 0.5779 - val_loss: 0.5921 - val_accuracy: 0.8402\n",
      "Epoch 2/20\n",
      "31/31 [==============================] - 14s 461ms/step - loss: 0.5281 - accuracy: 0.7736 - val_loss: 0.2462 - val_accuracy: 0.9467\n",
      "Epoch 3/20\n",
      "31/31 [==============================] - 14s 439ms/step - loss: 0.3156 - accuracy: 0.8852 - val_loss: 0.1261 - val_accuracy: 0.9672\n",
      "Epoch 4/20\n",
      "31/31 [==============================] - 14s 469ms/step - loss: 0.2078 - accuracy: 0.9293 - val_loss: 0.0813 - val_accuracy: 0.9754\n",
      "Epoch 5/20\n",
      "31/31 [==============================] - 14s 442ms/step - loss: 0.1379 - accuracy: 0.9611 - val_loss: 0.0811 - val_accuracy: 0.9754\n",
      "Epoch 6/20\n",
      "31/31 [==============================] - 14s 466ms/step - loss: 0.0982 - accuracy: 0.9723 - val_loss: 0.1090 - val_accuracy: 0.9590\n",
      "Epoch 7/20\n",
      "31/31 [==============================] - 14s 449ms/step - loss: 0.0926 - accuracy: 0.9734 - val_loss: 0.0830 - val_accuracy: 0.9713\n"
     ]
    }
   ],
   "source": [
    "vgg_model = Transfer_model_vgg.fit(train_generator_sm, epochs=20, validation_data=test_generator_sm, validation_steps=len(test_generator_sm),callbacks=keras_callbacks)"
   ]
  },
  {
   "cell_type": "code",
   "execution_count": 62,
   "metadata": {
    "execution": {
     "iopub.execute_input": "2022-02-03T18:59:19.723339Z",
     "iopub.status.busy": "2022-02-03T18:59:19.723053Z",
     "iopub.status.idle": "2022-02-03T18:59:19.938505Z",
     "shell.execute_reply": "2022-02-03T18:59:19.937763Z",
     "shell.execute_reply.started": "2022-02-03T18:59:19.723307Z"
    }
   },
   "outputs": [
    {
     "data": {
      "image/png": "[encoded data removed]",
      "text/plain": [
       "<Figure size 432x288 with 1 Axes>"
      ]
     },
     "metadata": {
      "needs_background": "light"
     },
     "output_type": "display_data"
    }
   ],
   "source": [
    "plt.plot(vgg_model.history['accuracy'],'r',label='train accuracy')\n",
    "plt.plot(vgg_model.history['val_accuracy'],'g',label='validation accuracy')\n",
    "plt.legend()\n",
    "plt.show()"
   ]
  },
  {
   "cell_type": "code",
   "execution_count": 63,
   "metadata": {
    "execution": {
     "iopub.execute_input": "2022-02-03T18:59:23.420028Z",
     "iopub.status.busy": "2022-02-03T18:59:23.419186Z",
     "iopub.status.idle": "2022-02-03T18:59:23.615085Z",
     "shell.execute_reply": "2022-02-03T18:59:23.614402Z",
     "shell.execute_reply.started": "2022-02-03T18:59:23.419973Z"
    }
   },
   "outputs": [
    {
     "data": {
      "image/png": "[encoded data removed]",
      "text/plain": [
       "<Figure size 432x288 with 1 Axes>"
      ]
     },
     "metadata": {
      "needs_background": "light"
     },
     "output_type": "display_data"
    }
   ],
   "source": [
    "plt.plot(vgg_model.history['loss'],'r',label='train loss')\n",
    "plt.plot(vgg_model.history['val_loss'],'g',label='validation loss')\n",
    "plt.legend()\n",
    "plt.show()"
   ]
  },
  {
   "cell_type": "code",
   "execution_count": null,
   "metadata": {},
   "outputs": [],
   "source": [
    "# serialize model to JSON\n",
    "model_json = vgg.to_json()\n",
    "with open(\"Model_6.json\", \"w\") as json_file:\n",
    "    json_file.write(model_json)\n",
    "# serialize weights to HDF5\n",
    "vgg.save_weights(\"Model_6.h5\")"
   ]
  },
  {
   "cell_type": "code",
   "execution_count": 64,
   "metadata": {
    "execution": {
     "iopub.execute_input": "2022-02-03T18:59:30.638173Z",
     "iopub.status.busy": "2022-02-03T18:59:30.637890Z",
     "iopub.status.idle": "2022-02-03T18:59:30.642846Z",
     "shell.execute_reply": "2022-02-03T18:59:30.641715Z",
     "shell.execute_reply.started": "2022-02-03T18:59:30.638140Z"
    }
   },
   "outputs": [],
   "source": [
    "# model6_train = vgg_model.history['accuracy']\n",
    "# model6_test = vgg_model.history['val_accuracy']"
   ]
  },
  {
   "cell_type": "code",
   "execution_count": 90,
   "metadata": {},
   "outputs": [
    {
     "data": {
      "text/html": [
       "<div>\n",
       "<style scoped>\n",
       "    .dataframe tbody tr th:only-of-type {\n",
       "        vertical-align: middle;\n",
       "    }\n",
       "\n",
       "    .dataframe tbody tr th {\n",
       "        vertical-align: top;\n",
       "    }\n",
       "\n",
       "    .dataframe thead th {\n",
       "        text-align: right;\n",
       "    }\n",
       "</style>\n",
       "<table border=\"1\" class=\"dataframe\">\n",
       "  <thead>\n",
       "    <tr style=\"text-align: right;\">\n",
       "      <th></th>\n",
       "      <th>Model_Name</th>\n",
       "      <th>Train_Accuracy</th>\n",
       "      <th>Train_Loss</th>\n",
       "      <th>Validation_Accuracy</th>\n",
       "      <th>Validation_Loss</th>\n",
       "    </tr>\n",
       "  </thead>\n",
       "  <tbody>\n",
       "    <tr>\n",
       "      <th>0</th>\n",
       "      <td>Base_Model_1</td>\n",
       "      <td>0.728916</td>\n",
       "      <td>0.536628</td>\n",
       "      <td>0.754491</td>\n",
       "      <td>0.469150</td>\n",
       "    </tr>\n",
       "    <tr>\n",
       "      <th>1</th>\n",
       "      <td>Base_model_smote_2</td>\n",
       "      <td>0.934426</td>\n",
       "      <td>0.154563</td>\n",
       "      <td>0.959016</td>\n",
       "      <td>0.118624</td>\n",
       "    </tr>\n",
       "    <tr>\n",
       "      <th>2</th>\n",
       "      <td>Model_3</td>\n",
       "      <td>0.953893</td>\n",
       "      <td>0.140960</td>\n",
       "      <td>0.950820</td>\n",
       "      <td>0.162867</td>\n",
       "    </tr>\n",
       "    <tr>\n",
       "      <th>3</th>\n",
       "      <td>Model 4 TransferLearning(RESNET-50)</td>\n",
       "      <td>0.750000</td>\n",
       "      <td>0.549434</td>\n",
       "      <td>0.840164</td>\n",
       "      <td>0.413794</td>\n",
       "    </tr>\n",
       "    <tr>\n",
       "      <th>4</th>\n",
       "      <td>Model 5 TransferLearning(Xception)</td>\n",
       "      <td>0.945697</td>\n",
       "      <td>0.281002</td>\n",
       "      <td>0.950820</td>\n",
       "      <td>0.208044</td>\n",
       "    </tr>\n",
       "    <tr>\n",
       "      <th>5</th>\n",
       "      <td>Model 6 TransferLearning(VGG-16)</td>\n",
       "      <td>0.973361</td>\n",
       "      <td>0.092590</td>\n",
       "      <td>0.971311</td>\n",
       "      <td>0.082992</td>\n",
       "    </tr>\n",
       "  </tbody>\n",
       "</table>\n",
       "</div>"
      ],
      "text/plain": [
       "                            Model_Name  Train_Accuracy  Train_Loss  \\\n",
       "0                         Base_Model_1        0.728916    0.536628   \n",
       "1                   Base_model_smote_2        0.934426    0.154563   \n",
       "2                              Model_3        0.953893    0.140960   \n",
       "3  Model 4 TransferLearning(RESNET-50)        0.750000    0.549434   \n",
       "4   Model 5 TransferLearning(Xception)        0.945697    0.281002   \n",
       "5     Model 6 TransferLearning(VGG-16)        0.973361    0.092590   \n",
       "\n",
       "   Validation_Accuracy  Validation_Loss  \n",
       "0             0.754491         0.469150  \n",
       "1             0.959016         0.118624  \n",
       "2             0.950820         0.162867  \n",
       "3             0.840164         0.413794  \n",
       "4             0.950820         0.208044  \n",
       "5             0.971311         0.082992  "
      ]
     },
     "execution_count": 90,
     "metadata": {},
     "output_type": "execute_result"
    }
   ],
   "source": [
    "score = pd.Series({'Model_Name':'Model 6 TransferLearning(VGG-16)','Train_Accuracy':vgg_model.history['accuracy'][-1],'Train_Loss':vgg_model.history['loss'][-1],'Validation_Accuracy':vgg_model.history['val_accuracy'][-1],'Validation_Loss':vgg_model.history['val_loss'][-1]})\n",
    "score_card=score_card.append(score,ignore_index=True)\n",
    "score_card"
   ]
  },
  {
   "cell_type": "markdown",
   "metadata": {
    "execution": {
     "iopub.execute_input": "2022-01-31T05:56:50.382351Z",
     "iopub.status.busy": "2022-01-31T05:56:50.381782Z",
     "iopub.status.idle": "2022-01-31T05:56:50.385986Z",
     "shell.execute_reply": "2022-01-31T05:56:50.385153Z",
     "shell.execute_reply.started": "2022-01-31T05:56:50.382306Z"
    }
   },
   "source": [
    "Comparing all the model accuracy and loss values Model 3[CNN model] and Model 6[Vgg16] is chosen for Parkinson's Disease Prediction.\n",
    "\n",
    "Vgg16 model weights are used to deploy the project using streamlit"
   ]
  },
  {
   "cell_type": "markdown",
   "metadata": {},
   "source": [
    "<h1> <b> *******************************************************************************************"
   ]
  },
  {
   "cell_type": "code",
   "execution_count": null,
   "metadata": {},
   "outputs": [],
   "source": []
  }
 ],
 "metadata": {
  "kernelspec": {
   "display_name": "Python 3",
   "language": "python",
   "name": "python3"
  },
  "language_info": {
   "codemirror_mode": {
    "name": "ipython",
    "version": 3
   },
   "file_extension": ".py",
   "mimetype": "text/x-python",
   "name": "python",
   "nbconvert_exporter": "python",
   "pygments_lexer": "ipython3",
   "version": "3.6.13"
  }
 },
 "nbformat": 4,
 "nbformat_minor": 4
}
